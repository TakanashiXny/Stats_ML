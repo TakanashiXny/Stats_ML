{
 "cells": [
  {
   "cell_type": "code",
   "execution_count": 27,
   "metadata": {},
   "outputs": [],
   "source": [
    "import numpy as np\n",
    "import matplotlib.pyplot as plt\n",
    "\n",
    "from sklearn.datasets import load_iris\n",
    "from sklearn.cluster import KMeans # 用于验证复现正确性"
   ]
  },
  {
   "cell_type": "code",
   "execution_count": 30,
   "metadata": {},
   "outputs": [],
   "source": [
    "iris_dataset = load_iris()\n",
    "data = iris_dataset[\"data\"][:, :2]\n",
    "K = 3"
   ]
  },
  {
   "cell_type": "code",
   "execution_count": 11,
   "metadata": {},
   "outputs": [],
   "source": [
    "class myKMeans():\n",
    "    ''' 复现KMeans代码\n",
    "\n",
    "    参数\n",
    "    --------------------\n",
    "\n",
    "    n_clusters : int, default=3\n",
    "        聚类个数以及选择中心点的个数\n",
    "    \n",
    "    max_iter : int, default=100\n",
    "        一次聚类的迭代次数\n",
    "\n",
    "    tol : float, default=1e-4\n",
    "        前后中心点差距的临界值，用于判断是否收敛\n",
    "    \n",
    "    random_state : int, default=None\n",
    "        生成随机中心点时使用的种子\n",
    "\n",
    "    属性\n",
    "    --------------------\n",
    "    cluster_center_ : ndarray of shape (n_clusters, n_features)\n",
    "        聚类中心点的坐标\n",
    "\n",
    "    labels_ : ndarray of shape (n_samples,)\n",
    "        每个点的聚类标签\n",
    "    \n",
    "    '''\n",
    "    cluster_center_ : np.ndarray\n",
    "    labels_ : np.ndarray\n",
    "\n",
    "\n",
    "    def __init__(\n",
    "        self,\n",
    "        n_clusters = 3,\n",
    "        max_iter = 100,\n",
    "        tol = 1e-4,\n",
    "        random_state = None\n",
    "    ) -> None:\n",
    "        self.n_clusters = n_clusters\n",
    "        self.max_iter = max_iter\n",
    "        self.tol = tol\n",
    "        self.random_state = random_state\n",
    "\n",
    "\n",
    "    def _kmeans_plusplus(\n",
    "        self, X, n_clusters\n",
    "    ):\n",
    "        '''使用KMeans++算法选取聚类初始点\n",
    "\n",
    "        参数\n",
    "        --------------------\n",
    "        X : ndarray of shape (n_samples, n_features)\n",
    "            需要选取的数据\n",
    "\n",
    "        n_clusters : int, default=3\n",
    "            选择中心点的个数\n",
    "        \n",
    "        返回\n",
    "        --------------------\n",
    "        centers : ndarray of shape (n_clusters, n_features)\n",
    "            KMeans算法的初始中心点\n",
    "        \n",
    "        indices : ndarray of shape (n_clusters,)\n",
    "            得到的中心点在X中的位置\n",
    "        '''\n",
    "        n_samples, n_features = X.shape\n",
    "\n",
    "        centers = np.empty((n_clusters, n_features), dtype=X.dtype)\n",
    "\n",
    "        indices = np.full(n_clusters, -1, dtype=int)\n",
    "\n",
    "        # 随机挑选第一个中心点的坐标\n",
    "        center_id = np.random.randint(0, n_samples)\n",
    "        centers[0] = X[center_id]\n",
    "        indices[0] = center_id\n",
    "\n",
    "        # 挑选剩余中心点\n",
    "        for c in range(1, n_clusters):\n",
    "            d_min = []\n",
    "            # 计算每一个点到已知中心点的最短距离\n",
    "            for p in range(n_samples):\n",
    "                dists = np.sum((centers[: c] - X[p]) ** 2, axis=1)\n",
    "                d_min.append(np.min(dists))\n",
    "\n",
    "            d_min = np.array(d_min)\n",
    "            # 距离已知点越远，越有可能作为初始点\n",
    "            prob = d_min / np.sum(d_min)\n",
    "            new_c_idx = np.random.choice(n_samples, p=prob)\n",
    "\n",
    "            centers[c] = X[new_c_idx]\n",
    "            indices[c] = new_c_idx\n",
    "\n",
    "        return centers, indices\n",
    "\n",
    "\n",
    "    def fit(self, X):\n",
    "        '''计算KMeans聚类结果\n",
    "        \n",
    "        参数\n",
    "        --------------------\n",
    "        X : ndarray of shape (n_samples, n_features)\n",
    "\n",
    "        返回\n",
    "        --------------------\n",
    "        self : object\n",
    "            Fitted estimator.\n",
    "        '''\n",
    "        n_samples, n_features = X.shape\n",
    "\n",
    "        # 构造初始中心点\n",
    "        centers_init, _ = self._kmeans_plusplus(X, self.n_clusters)\n",
    "\n",
    "        best_centers = centers_init\n",
    "        best_labels = []\n",
    "\n",
    "        for i in range(self.max_iter):\n",
    "            best_labels = []\n",
    "            point_each_class = [np.empty((0, n_features))] * self.n_clusters\n",
    "            # 更新中心点\n",
    "            for p in range(n_samples):\n",
    "                # 将每个点归到最近的中心点的类中\n",
    "                dists = np.sum((best_centers - X[p]) ** 2, axis=1)\n",
    "                class_ = np.argmin(dists)\n",
    "                best_labels.append(class_)\n",
    "                point_each_class[class_] = np.vstack((point_each_class[class_], X[p]))\n",
    "\n",
    "            new_centers = np.empty((self.n_clusters, n_features), dtype=X.dtype)\n",
    "\n",
    "            # 计算新的中心点坐标\n",
    "            for eachClass in range(self.n_clusters):\n",
    "                new_centers[eachClass] = np.mean(point_each_class[eachClass], axis=0)\n",
    "\n",
    "            if np.sum((best_centers - new_centers) ** 2) < self.tol:\n",
    "                self.cluster_center_ = new_centers\n",
    "                self.labels_ = best_labels\n",
    "                break\n",
    "            \n",
    "            best_centers = new_centers\n",
    "\n",
    "        return self"
   ]
  },
  {
   "cell_type": "code",
   "execution_count": 38,
   "metadata": {},
   "outputs": [],
   "source": [
    "model = myKMeans()\n",
    "\n",
    "model.fit(data)\n",
    "\n",
    "result = np.array(model.labels_)"
   ]
  },
  {
   "cell_type": "code",
   "execution_count": 39,
   "metadata": {},
   "outputs": [],
   "source": [
    "model_true = KMeans(n_clusters=K, init=\"k-means++\", n_init='auto', algorithm='elkan')\n",
    "\n",
    "model_true.fit_predict(data)\n",
    "\n",
    "result_true = np.array(model.labels_)"
   ]
  },
  {
   "cell_type": "code",
   "execution_count": 41,
   "metadata": {},
   "outputs": [
    {
     "data": {
      "text/plain": [
       "[]"
      ]
     },
     "execution_count": 41,
     "metadata": {},
     "output_type": "execute_result"
    },
    {
     "data": {
      "image/png": "[encoded data removed]",
      "text/plain": [
       "<Figure size 432x288 with 1 Axes>"
      ]
     },
     "metadata": {
      "needs_background": "light"
     },
     "output_type": "display_data"
    }
   ],
   "source": [
    "color = [\"red\", \"green\", \"blue\"]\n",
    "for i in range(K):\n",
    "    plt.scatter(data[result == i][:, 0], data[result == i][:, 1], color=color[i])\n",
    "plt.plot()"
   ]
  },
  {
   "cell_type": "code",
   "execution_count": 42,
   "metadata": {},
   "outputs": [
    {
     "data": {
      "text/plain": [
       "[]"
      ]
     },
     "execution_count": 42,
     "metadata": {},
     "output_type": "execute_result"
    },
    {
     "data": {
      "image/png": "[encoded data removed]",
      "text/plain": [
       "<Figure size 432x288 with 1 Axes>"
      ]
     },
     "metadata": {
      "needs_background": "light"
     },
     "output_type": "display_data"
    }
   ],
   "source": [
    "color = [\"red\", \"green\", \"blue\"]\n",
    "for i in range(K):\n",
    "    plt.scatter(data[result_true == i][:, 0], data[result_true == i][:, 1], color=color[i])\n",
    "plt.plot()"
   ]
  },
  {
   "cell_type": "code",
   "execution_count": null,
   "metadata": {},
   "outputs": [],
   "source": []
  }
 ],
 "metadata": {
  "kernelspec": {
   "display_name": "base",
   "language": "python",
   "name": "python3"
  },
  "language_info": {
   "codemirror_mode": {
    "name": "ipython",
    "version": 3
   },
   "file_extension": ".py",
   "mimetype": "text/x-python",
   "name": "python",
   "nbconvert_exporter": "python",
   "pygments_lexer": "ipython3",
   "version": "3.9.12"
  }
 },
 "nbformat": 4,
 "nbformat_minor": 2
}

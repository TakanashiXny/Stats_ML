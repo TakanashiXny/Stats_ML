{
 "cells": [
  {
   "cell_type": "markdown",
   "id": "14b6a2e1",
   "metadata": {},
   "source": [
    "# Tutorial: Multicollinearity"
   ]
  },
  {
   "cell_type": "markdown",
   "id": "193de056",
   "metadata": {},
   "source": [
    "## 实验前的准备\n",
    "\n",
    "本次实验我们载入一些Python的安装包，如下："
   ]
  },
  {
   "cell_type": "code",
   "execution_count": 1,
   "id": "73f75d22",
   "metadata": {},
   "outputs": [],
   "source": [
    "from sklearn.datasets import load_diabetes\n",
    "\n",
    "import os\n",
    "\n",
    "import pandas as pd\n",
    "import numpy as np\n",
    "import random\n",
    "import seaborn as sns\n",
    "import scipy.stats as stats\n",
    "import matplotlib.pyplot as plt\n",
    "import math\n",
    "\n",
    "from sklearn import preprocessing # Data Preprocessing\n",
    "import statsmodels.api as sm # LSE, Ridge Regression\n",
    "from statsmodels.stats.outliers_influence import variance_inflation_factor # VIF \n",
    "from statsmodels.multivariate.pca import PCA # PCR\n",
    "\n",
    "from jupyterquiz import display_quiz "
   ]
  },
  {
   "cell_type": "markdown",
   "id": "b7f2c28d",
   "metadata": {},
   "source": [
    "本次实验中，所使用的数据集是"
   ]
  },
  {
   "cell_type": "code",
   "execution_count": 2,
   "id": "07b03a4b",
   "metadata": {},
   "outputs": [
    {
     "name": "stdout",
     "output_type": "stream",
     "text": [
      "   AtBat  Hits  HmRun  Runs  RBI  Walks  Years  CAtBat  CHits  CHmRun  CRuns  \\\n",
      "0    315    81      7    24   38     39     14    3449    835      69    321   \n",
      "1    479   130     18    66   72     76      3    1624    457      63    224   \n",
      "2    496   141     20    65   78     37     11    5628   1575     225    828   \n",
      "3    321    87     10    39   42     30      2     396    101      12     48   \n",
      "4    594   169      4    74   51     35     11    4408   1133      19    501   \n",
      "\n",
      "   CRBI  CWalks  PutOuts  Assists  Errors  Salary  \n",
      "0   414     375      632       43      10   475.0  \n",
      "1   266     263      880       82      14   480.0  \n",
      "2   838     354      200       11       3   500.0  \n",
      "3    46      33      805       40       4    91.5  \n",
      "4   336     194      282      421      25   750.0  \n"
     ]
    }
   ],
   "source": [
    "Data = pd.read_csv(\"./Data_4.csv\")\n",
    "print(Data.head())"
   ]
  },
  {
   "cell_type": "markdown",
   "id": "117de1c6",
   "metadata": {},
   "source": [
    "我们可以简单统计一下这个数据集中的一些基本信息，如样本量、特征维度，即"
   ]
  },
  {
   "cell_type": "code",
   "execution_count": 3,
   "id": "5475d562",
   "metadata": {},
   "outputs": [
    {
     "name": "stdout",
     "output_type": "stream",
     "text": [
      "The number of features is 16\n",
      "The sample size is 263\n"
     ]
    }
   ],
   "source": [
    "p = Data.shape[1]-1\n",
    "n = Data.shape[0]\n",
    "\n",
    "print(\"The number of features is\",p)\n",
    "print(\"The sample size is\",n)"
   ]
  },
  {
   "cell_type": "markdown",
   "id": "d9c74692",
   "metadata": {},
   "source": [
    "## 背景\n",
    "\n",
    "本次数据来自于1986年至1987年间美国职业棒球大联盟。这个数据记录了263名大联盟的选手所采集的收入数据及其历史棒球运动的表现。\n",
    "\n",
    "## 数据\n",
    "在本次数据中，共有17个变量（1个响应变量与16个自变量），具体如下表所示：\n",
    "<table width = c(100,800,700), center = True>\n",
    "    <tr>\n",
    "        <td> 变量名                  </td>\n",
    "        <td> 英文变量含义                 </td>\n",
    "        <td> 中文变量含义                 </td>\n",
    "    </tr>\n",
    "    <tr>\n",
    "        <td> AtBat                          </td>\n",
    "        <td> Number of times at bat in 1986 </td>\n",
    "        <td> 1986年间轮到击球的次数            </td>\n",
    "    </tr>\n",
    "    <tr>\n",
    "        <td> Hits                         </td>\n",
    "        <td> Number of hits in 1986       </td>\n",
    "        <td> 1986年间安打的总和           </td>\n",
    "    </tr>\n",
    "    <tr>\n",
    "        <td> HmRun                         </td>\n",
    "        <td> Number of home runs in 1986   </td>\n",
    "        <td> 1986年间全垒打的总和             </td>\n",
    "    </tr>\n",
    "     <tr>\n",
    "        <td> Runs                              </td>\n",
    "        <td> Number of runs in 1986            </td>\n",
    "        <td> 1986年间得分的总和                   </td>\n",
    "    </tr>\n",
    "    <tr>\n",
    "        <td> RBI                               </td>\n",
    "        <td> Number of runs batted in in 1986  </td>\n",
    "        <td> 1986年间得分打的总和                   </td>\n",
    "    </tr>\n",
    "    <tr>\n",
    "        <td> Walks                               </td>\n",
    "        <td> Number of walks in 1986  </td>\n",
    "        <td> 1986年间击球手被保送的次数                   </td>\n",
    "    </tr>\n",
    "    <tr>\n",
    "        <td> Years                               </td>\n",
    "        <td> Number of years in the major leagues  </td>\n",
    "        <td> 在大联盟的年限                  </td>\n",
    "    </tr>\n",
    "     <tr>\n",
    "        <td> CAtBat                               </td>\n",
    "        <td> Number of times at bat during his career  </td>\n",
    "        <td> 在其棒球职业生涯中轮到击球的次数               </td>\n",
    "    </tr>\n",
    "    <tr>\n",
    "        <td> CHits                              </td>\n",
    "        <td> Number of hits during his career  </td>\n",
    "        <td> 在其棒球职业生涯中安打的总和           </td>\n",
    "    </tr>\n",
    "    <tr>\n",
    "        <td> CHmRun                              </td>\n",
    "        <td> Number of home runs during his career  </td>\n",
    "        <td> 在其棒球职业生涯中全垒打的总和              </td>\n",
    "    </tr>\n",
    "    <tr>\n",
    "        <td> CRuns                              </td>\n",
    "        <td> Number of runs during his career  </td>\n",
    "        <td> 在其棒球职业生涯中得分的总和                 </td>\n",
    "    </tr>\n",
    "    <tr>\n",
    "        <td> CRBI                              </td>\n",
    "        <td> Number of runs batted in during his career  </td>\n",
    "        <td> 在其棒球职业生涯中得分打的总和                 </td>\n",
    "    </tr>\n",
    "    <tr>\n",
    "        <td> CWalks                              </td>\n",
    "        <td> Number of walks during his career  </td>\n",
    "        <td> 在其棒球职业生涯中击球手被保送的次数                 </td>\n",
    "    </tr>\n",
    "    <tr>\n",
    "        <td> PutOuts                              </td>\n",
    "        <td> Number of put outs in 1986  </td>\n",
    "        <td> 在1986年间接杀的次数                 </td>\n",
    "    </tr>\n",
    "    <tr>\n",
    "        <td> Assists                             </td>\n",
    "        <td> Number of assists in 1986  </td>\n",
    "        <td> 在1986年间助杀的次数                 </td>\n",
    "    </tr>\n",
    "    <tr>\n",
    "        <td> Errors                            </td>\n",
    "        <td> Number of errors in 1986          </td>\n",
    "        <td> 在1986年间防守时的失误次数                 </td>\n",
    "    </tr>\n",
    "    <tr>\n",
    "        <td> Salary                            </td>\n",
    "        <td> 1987 annual salary on opening day in thousands of dollars          </td>\n",
    "        <td> 在1987年开业时年薪（单位：千美元）         </td>\n",
    "    </tr>\n",
    "</table>\n",
    "\n",
    "我们想了解棒球运动员的收入与其运动表现的关系。因此，Salary是本次模型中的标签（或响应变量），其余16个变量为特征（或自变量）。这个数据集中涉及棒球比赛中的专有名词，同学们可以课后参考视频[1]。"
   ]
  },
  {
   "cell_type": "markdown",
   "id": "94bb9e21",
   "metadata": {},
   "source": [
    "## 任务\n",
    "\n",
    "本次实验中，我们需要解决以下问题：\n",
    "\n",
    "1. 如何判断特征数据中是否存在多重共线性？\n",
    "2. 如何构建岭回归模型？\n",
    "3. 如何构建主成分回归模型？\n",
    "4. 从预测的角度而言，普通线性回归模型、岭回归模型以及主成分回归模型，哪个模型更优？"
   ]
  },
  {
   "cell_type": "markdown",
   "id": "ef50631e",
   "metadata": {},
   "source": [
    "## 解决方案\n",
    "\n",
    "### Task 0：数据预处理\n",
    "\n",
    "在评价模型时，倘若我们采用同一个数据集进行构建模型与评价模型，往往会造成**过拟合**的情形。为避免这个问题，我们会提前将数据集拆分为两个部分，一部分数据被称为训练集，用于模型训练。另一个部分为测试集，用于评价模型。\n",
    "\n",
    "留出法是划分数据集的一种常见方法。在本次实验中，我们保留80%的数据用于训练模型，而20%的数据用于评价模型。在划分训练集和测试集时，我们采用随机采样。"
   ]
  },
  {
   "cell_type": "code",
   "execution_count": 4,
   "id": "f1a6c4c6",
   "metadata": {},
   "outputs": [],
   "source": [
    "n_train = 210 # 80% instances used for training\n",
    "n_test = n-n_train\n",
    "seed = 1\n",
    "random.seed(seed)\n",
    "index = range(0,n)\n",
    "index_selected = random.sample(index,n_train)\n",
    "index_selected.sort()\n",
    "\n",
    "Data_train = Data.loc[index_selected]\n",
    "Data_test = Data.drop(index = index_selected)"
   ]
  },
  {
   "cell_type": "markdown",
   "id": "c9b3199c",
   "metadata": {},
   "source": [
    "用于建模的数据集为"
   ]
  },
  {
   "cell_type": "code",
   "execution_count": 5,
   "id": "5a52e96b",
   "metadata": {},
   "outputs": [
    {
     "data": {
      "text/html": [
       "<div>\n",
       "<style scoped>\n",
       "    .dataframe tbody tr th:only-of-type {\n",
       "        vertical-align: middle;\n",
       "    }\n",
       "\n",
       "    .dataframe tbody tr th {\n",
       "        vertical-align: top;\n",
       "    }\n",
       "\n",
       "    .dataframe thead th {\n",
       "        text-align: right;\n",
       "    }\n",
       "</style>\n",
       "<table border=\"1\" class=\"dataframe\">\n",
       "  <thead>\n",
       "    <tr style=\"text-align: right;\">\n",
       "      <th></th>\n",
       "      <th>AtBat</th>\n",
       "      <th>Hits</th>\n",
       "      <th>HmRun</th>\n",
       "      <th>Runs</th>\n",
       "      <th>RBI</th>\n",
       "      <th>Walks</th>\n",
       "      <th>Years</th>\n",
       "      <th>CAtBat</th>\n",
       "      <th>CHits</th>\n",
       "      <th>CHmRun</th>\n",
       "      <th>CRuns</th>\n",
       "      <th>CRBI</th>\n",
       "      <th>CWalks</th>\n",
       "      <th>PutOuts</th>\n",
       "      <th>Assists</th>\n",
       "      <th>Errors</th>\n",
       "      <th>Salary</th>\n",
       "    </tr>\n",
       "  </thead>\n",
       "  <tbody>\n",
       "    <tr>\n",
       "      <th>0</th>\n",
       "      <td>315</td>\n",
       "      <td>81</td>\n",
       "      <td>7</td>\n",
       "      <td>24</td>\n",
       "      <td>38</td>\n",
       "      <td>39</td>\n",
       "      <td>14</td>\n",
       "      <td>3449</td>\n",
       "      <td>835</td>\n",
       "      <td>69</td>\n",
       "      <td>321</td>\n",
       "      <td>414</td>\n",
       "      <td>375</td>\n",
       "      <td>632</td>\n",
       "      <td>43</td>\n",
       "      <td>10</td>\n",
       "      <td>475.0</td>\n",
       "    </tr>\n",
       "    <tr>\n",
       "      <th>1</th>\n",
       "      <td>479</td>\n",
       "      <td>130</td>\n",
       "      <td>18</td>\n",
       "      <td>66</td>\n",
       "      <td>72</td>\n",
       "      <td>76</td>\n",
       "      <td>3</td>\n",
       "      <td>1624</td>\n",
       "      <td>457</td>\n",
       "      <td>63</td>\n",
       "      <td>224</td>\n",
       "      <td>266</td>\n",
       "      <td>263</td>\n",
       "      <td>880</td>\n",
       "      <td>82</td>\n",
       "      <td>14</td>\n",
       "      <td>480.0</td>\n",
       "    </tr>\n",
       "    <tr>\n",
       "      <th>2</th>\n",
       "      <td>496</td>\n",
       "      <td>141</td>\n",
       "      <td>20</td>\n",
       "      <td>65</td>\n",
       "      <td>78</td>\n",
       "      <td>37</td>\n",
       "      <td>11</td>\n",
       "      <td>5628</td>\n",
       "      <td>1575</td>\n",
       "      <td>225</td>\n",
       "      <td>828</td>\n",
       "      <td>838</td>\n",
       "      <td>354</td>\n",
       "      <td>200</td>\n",
       "      <td>11</td>\n",
       "      <td>3</td>\n",
       "      <td>500.0</td>\n",
       "    </tr>\n",
       "    <tr>\n",
       "      <th>3</th>\n",
       "      <td>321</td>\n",
       "      <td>87</td>\n",
       "      <td>10</td>\n",
       "      <td>39</td>\n",
       "      <td>42</td>\n",
       "      <td>30</td>\n",
       "      <td>2</td>\n",
       "      <td>396</td>\n",
       "      <td>101</td>\n",
       "      <td>12</td>\n",
       "      <td>48</td>\n",
       "      <td>46</td>\n",
       "      <td>33</td>\n",
       "      <td>805</td>\n",
       "      <td>40</td>\n",
       "      <td>4</td>\n",
       "      <td>91.5</td>\n",
       "    </tr>\n",
       "    <tr>\n",
       "      <th>4</th>\n",
       "      <td>594</td>\n",
       "      <td>169</td>\n",
       "      <td>4</td>\n",
       "      <td>74</td>\n",
       "      <td>51</td>\n",
       "      <td>35</td>\n",
       "      <td>11</td>\n",
       "      <td>4408</td>\n",
       "      <td>1133</td>\n",
       "      <td>19</td>\n",
       "      <td>501</td>\n",
       "      <td>336</td>\n",
       "      <td>194</td>\n",
       "      <td>282</td>\n",
       "      <td>421</td>\n",
       "      <td>25</td>\n",
       "      <td>750.0</td>\n",
       "    </tr>\n",
       "  </tbody>\n",
       "</table>\n",
       "</div>"
      ],
      "text/plain": [
       "   AtBat  Hits  HmRun  Runs  RBI  Walks  Years  CAtBat  CHits  CHmRun  CRuns  \\\n",
       "0    315    81      7    24   38     39     14    3449    835      69    321   \n",
       "1    479   130     18    66   72     76      3    1624    457      63    224   \n",
       "2    496   141     20    65   78     37     11    5628   1575     225    828   \n",
       "3    321    87     10    39   42     30      2     396    101      12     48   \n",
       "4    594   169      4    74   51     35     11    4408   1133      19    501   \n",
       "\n",
       "   CRBI  CWalks  PutOuts  Assists  Errors  Salary  \n",
       "0   414     375      632       43      10   475.0  \n",
       "1   266     263      880       82      14   480.0  \n",
       "2   838     354      200       11       3   500.0  \n",
       "3    46      33      805       40       4    91.5  \n",
       "4   336     194      282      421      25   750.0  "
      ]
     },
     "execution_count": 5,
     "metadata": {},
     "output_type": "execute_result"
    }
   ],
   "source": [
    "Data_train.head()"
   ]
  },
  {
   "cell_type": "markdown",
   "id": "65edb4df",
   "metadata": {},
   "source": [
    "用于评价的数据集为"
   ]
  },
  {
   "cell_type": "code",
   "execution_count": 6,
   "id": "30bf6c77",
   "metadata": {},
   "outputs": [
    {
     "data": {
      "text/html": [
       "<div>\n",
       "<style scoped>\n",
       "    .dataframe tbody tr th:only-of-type {\n",
       "        vertical-align: middle;\n",
       "    }\n",
       "\n",
       "    .dataframe tbody tr th {\n",
       "        vertical-align: top;\n",
       "    }\n",
       "\n",
       "    .dataframe thead th {\n",
       "        text-align: right;\n",
       "    }\n",
       "</style>\n",
       "<table border=\"1\" class=\"dataframe\">\n",
       "  <thead>\n",
       "    <tr style=\"text-align: right;\">\n",
       "      <th></th>\n",
       "      <th>AtBat</th>\n",
       "      <th>Hits</th>\n",
       "      <th>HmRun</th>\n",
       "      <th>Runs</th>\n",
       "      <th>RBI</th>\n",
       "      <th>Walks</th>\n",
       "      <th>Years</th>\n",
       "      <th>CAtBat</th>\n",
       "      <th>CHits</th>\n",
       "      <th>CHmRun</th>\n",
       "      <th>CRuns</th>\n",
       "      <th>CRBI</th>\n",
       "      <th>CWalks</th>\n",
       "      <th>PutOuts</th>\n",
       "      <th>Assists</th>\n",
       "      <th>Errors</th>\n",
       "      <th>Salary</th>\n",
       "    </tr>\n",
       "  </thead>\n",
       "  <tbody>\n",
       "    <tr>\n",
       "      <th>12</th>\n",
       "      <td>239</td>\n",
       "      <td>60</td>\n",
       "      <td>0</td>\n",
       "      <td>30</td>\n",
       "      <td>11</td>\n",
       "      <td>22</td>\n",
       "      <td>6</td>\n",
       "      <td>1941</td>\n",
       "      <td>510</td>\n",
       "      <td>4</td>\n",
       "      <td>309</td>\n",
       "      <td>103</td>\n",
       "      <td>207</td>\n",
       "      <td>121</td>\n",
       "      <td>151</td>\n",
       "      <td>6</td>\n",
       "      <td>700.0</td>\n",
       "    </tr>\n",
       "    <tr>\n",
       "      <th>15</th>\n",
       "      <td>190</td>\n",
       "      <td>46</td>\n",
       "      <td>2</td>\n",
       "      <td>24</td>\n",
       "      <td>8</td>\n",
       "      <td>15</td>\n",
       "      <td>5</td>\n",
       "      <td>479</td>\n",
       "      <td>102</td>\n",
       "      <td>5</td>\n",
       "      <td>65</td>\n",
       "      <td>23</td>\n",
       "      <td>39</td>\n",
       "      <td>102</td>\n",
       "      <td>177</td>\n",
       "      <td>16</td>\n",
       "      <td>175.0</td>\n",
       "    </tr>\n",
       "    <tr>\n",
       "      <th>17</th>\n",
       "      <td>413</td>\n",
       "      <td>92</td>\n",
       "      <td>16</td>\n",
       "      <td>72</td>\n",
       "      <td>48</td>\n",
       "      <td>65</td>\n",
       "      <td>1</td>\n",
       "      <td>413</td>\n",
       "      <td>92</td>\n",
       "      <td>16</td>\n",
       "      <td>72</td>\n",
       "      <td>48</td>\n",
       "      <td>65</td>\n",
       "      <td>280</td>\n",
       "      <td>9</td>\n",
       "      <td>5</td>\n",
       "      <td>100.0</td>\n",
       "    </tr>\n",
       "    <tr>\n",
       "      <th>18</th>\n",
       "      <td>426</td>\n",
       "      <td>109</td>\n",
       "      <td>3</td>\n",
       "      <td>55</td>\n",
       "      <td>43</td>\n",
       "      <td>62</td>\n",
       "      <td>1</td>\n",
       "      <td>426</td>\n",
       "      <td>109</td>\n",
       "      <td>3</td>\n",
       "      <td>55</td>\n",
       "      <td>43</td>\n",
       "      <td>62</td>\n",
       "      <td>361</td>\n",
       "      <td>22</td>\n",
       "      <td>2</td>\n",
       "      <td>115.0</td>\n",
       "    </tr>\n",
       "    <tr>\n",
       "      <th>19</th>\n",
       "      <td>472</td>\n",
       "      <td>116</td>\n",
       "      <td>16</td>\n",
       "      <td>60</td>\n",
       "      <td>62</td>\n",
       "      <td>74</td>\n",
       "      <td>6</td>\n",
       "      <td>1924</td>\n",
       "      <td>489</td>\n",
       "      <td>67</td>\n",
       "      <td>242</td>\n",
       "      <td>251</td>\n",
       "      <td>240</td>\n",
       "      <td>518</td>\n",
       "      <td>55</td>\n",
       "      <td>3</td>\n",
       "      <td>600.0</td>\n",
       "    </tr>\n",
       "  </tbody>\n",
       "</table>\n",
       "</div>"
      ],
      "text/plain": [
       "    AtBat  Hits  HmRun  Runs  RBI  Walks  Years  CAtBat  CHits  CHmRun  CRuns  \\\n",
       "12    239    60      0    30   11     22      6    1941    510       4    309   \n",
       "15    190    46      2    24    8     15      5     479    102       5     65   \n",
       "17    413    92     16    72   48     65      1     413     92      16     72   \n",
       "18    426   109      3    55   43     62      1     426    109       3     55   \n",
       "19    472   116     16    60   62     74      6    1924    489      67    242   \n",
       "\n",
       "    CRBI  CWalks  PutOuts  Assists  Errors  Salary  \n",
       "12   103     207      121      151       6   700.0  \n",
       "15    23      39      102      177      16   175.0  \n",
       "17    48      65      280        9       5   100.0  \n",
       "18    43      62      361       22       2   115.0  \n",
       "19   251     240      518       55       3   600.0  "
      ]
     },
     "execution_count": 6,
     "metadata": {},
     "output_type": "execute_result"
    }
   ],
   "source": [
    "Data_test.head()"
   ]
  },
  {
   "cell_type": "markdown",
   "id": "96266c39",
   "metadata": {},
   "source": [
    "除了划分训练集和测试集之外，我们还需要将数据进行预处理。在本次实验中，我们将特征，即自变量，进行**标准化**，而将标签，即响应变量，进行中心化。"
   ]
  },
  {
   "cell_type": "code",
   "execution_count": 7,
   "id": "bbebd360",
   "metadata": {},
   "outputs": [],
   "source": [
    "## Pre-processing\n",
    "X_train = Data_train.drop(columns = ['Salary'],axis = 1)\n",
    "Y_train = Data_train.Salary\n",
    "X_test = Data_test.drop(columns = [\"Salary\"],axis=1)\n",
    "Y_test = Data_test.Salary\n",
    "\n",
    "X_train_standardized = preprocessing.scale(X_train, with_mean = True, with_std=True)/np.sqrt(n_train)\n",
    "Y_train_centered = preprocessing.scale(Y_train, with_mean = True, with_std=False)\n",
    "Y_train_mean = np.average(Y_train)\n",
    "X_test_standardized = preprocessing.scale(X_test, with_mean = True, with_std=True)/np.sqrt(n_test)\n"
   ]
  },
  {
   "cell_type": "markdown",
   "id": "1af4c239",
   "metadata": {},
   "source": [
    "我们可以建立一个线性回归模型，即"
   ]
  },
  {
   "cell_type": "code",
   "execution_count": 8,
   "id": "05788683",
   "metadata": {},
   "outputs": [
    {
     "data": {
      "text/html": [
       "<table class=\"simpletable\">\n",
       "<caption>OLS Regression Results</caption>\n",
       "<tr>\n",
       "  <th>Dep. Variable:</th>         <td>Salary</td>      <th>  R-squared:         </th> <td>   0.591</td>\n",
       "</tr>\n",
       "<tr>\n",
       "  <th>Model:</th>                   <td>OLS</td>       <th>  Adj. R-squared:    </th> <td>   0.557</td>\n",
       "</tr>\n",
       "<tr>\n",
       "  <th>Method:</th>             <td>Least Squares</td>  <th>  F-statistic:       </th> <td>   17.42</td>\n",
       "</tr>\n",
       "<tr>\n",
       "  <th>Date:</th>             <td>Thu, 02 Nov 2023</td> <th>  Prob (F-statistic):</th> <td>1.88e-29</td>\n",
       "</tr>\n",
       "<tr>\n",
       "  <th>Time:</th>                 <td>08:00:32</td>     <th>  Log-Likelihood:    </th> <td> -1483.7</td>\n",
       "</tr>\n",
       "<tr>\n",
       "  <th>No. Observations:</th>      <td>   210</td>      <th>  AIC:               </th> <td>   3001.</td>\n",
       "</tr>\n",
       "<tr>\n",
       "  <th>Df Residuals:</th>          <td>   193</td>      <th>  BIC:               </th> <td>   3058.</td>\n",
       "</tr>\n",
       "<tr>\n",
       "  <th>Df Model:</th>              <td>    16</td>      <th>                     </th>     <td> </td>   \n",
       "</tr>\n",
       "<tr>\n",
       "  <th>Covariance Type:</th>      <td>nonrobust</td>    <th>                     </th>     <td> </td>   \n",
       "</tr>\n",
       "</table>\n",
       "<table class=\"simpletable\">\n",
       "<tr>\n",
       "     <td></td>        <th>coef</th>     <th>std err</th>      <th>t</th>      <th>P>|t|</th>  <th>[0.025</th>    <th>0.975]</th>  \n",
       "</tr>\n",
       "<tr>\n",
       "  <th>const</th>   <td>  184.2230</td> <td>   91.411</td> <td>    2.015</td> <td> 0.045</td> <td>    3.930</td> <td>  364.515</td>\n",
       "</tr>\n",
       "<tr>\n",
       "  <th>AtBat</th>   <td>   -2.5127</td> <td>    0.673</td> <td>   -3.732</td> <td> 0.000</td> <td>   -3.841</td> <td>   -1.185</td>\n",
       "</tr>\n",
       "<tr>\n",
       "  <th>Hits</th>    <td>   10.9852</td> <td>    2.545</td> <td>    4.317</td> <td> 0.000</td> <td>    5.967</td> <td>   16.004</td>\n",
       "</tr>\n",
       "<tr>\n",
       "  <th>HmRun</th>   <td>   -4.3432</td> <td>    6.662</td> <td>   -0.652</td> <td> 0.515</td> <td>  -17.483</td> <td>    8.796</td>\n",
       "</tr>\n",
       "<tr>\n",
       "  <th>Runs</th>    <td>   -5.0320</td> <td>    3.085</td> <td>   -1.631</td> <td> 0.104</td> <td>  -11.116</td> <td>    1.052</td>\n",
       "</tr>\n",
       "<tr>\n",
       "  <th>RBI</th>     <td>   -1.4118</td> <td>    2.666</td> <td>   -0.530</td> <td> 0.597</td> <td>   -6.670</td> <td>    3.846</td>\n",
       "</tr>\n",
       "<tr>\n",
       "  <th>Walks</th>   <td>    7.8608</td> <td>    1.929</td> <td>    4.075</td> <td> 0.000</td> <td>    4.056</td> <td>   11.665</td>\n",
       "</tr>\n",
       "<tr>\n",
       "  <th>Years</th>   <td>  -10.2313</td> <td>   13.991</td> <td>   -0.731</td> <td> 0.465</td> <td>  -37.826</td> <td>   17.364</td>\n",
       "</tr>\n",
       "<tr>\n",
       "  <th>CAtBat</th>  <td>   -0.0192</td> <td>    0.141</td> <td>   -0.136</td> <td> 0.892</td> <td>   -0.298</td> <td>    0.259</td>\n",
       "</tr>\n",
       "<tr>\n",
       "  <th>CHits</th>   <td>   -0.1728</td> <td>    0.688</td> <td>   -0.251</td> <td> 0.802</td> <td>   -1.530</td> <td>    1.184</td>\n",
       "</tr>\n",
       "<tr>\n",
       "  <th>CHmRun</th>  <td>    3.0831</td> <td>    1.862</td> <td>    1.656</td> <td> 0.099</td> <td>   -0.589</td> <td>    6.755</td>\n",
       "</tr>\n",
       "<tr>\n",
       "  <th>CRuns</th>   <td>    1.1291</td> <td>    0.781</td> <td>    1.445</td> <td> 0.150</td> <td>   -0.412</td> <td>    2.670</td>\n",
       "</tr>\n",
       "<tr>\n",
       "  <th>CRBI</th>    <td>    0.1071</td> <td>    0.766</td> <td>    0.140</td> <td> 0.889</td> <td>   -1.404</td> <td>    1.618</td>\n",
       "</tr>\n",
       "<tr>\n",
       "  <th>CWalks</th>  <td>   -0.7261</td> <td>    0.349</td> <td>   -2.081</td> <td> 0.039</td> <td>   -1.414</td> <td>   -0.038</td>\n",
       "</tr>\n",
       "<tr>\n",
       "  <th>PutOuts</th> <td>    0.1723</td> <td>    0.082</td> <td>    2.098</td> <td> 0.037</td> <td>    0.010</td> <td>    0.334</td>\n",
       "</tr>\n",
       "<tr>\n",
       "  <th>Assists</th> <td>    0.4055</td> <td>    0.225</td> <td>    1.803</td> <td> 0.073</td> <td>   -0.038</td> <td>    0.849</td>\n",
       "</tr>\n",
       "<tr>\n",
       "  <th>Errors</th>  <td>   -4.4775</td> <td>    4.427</td> <td>   -1.011</td> <td> 0.313</td> <td>  -13.208</td> <td>    4.253</td>\n",
       "</tr>\n",
       "</table>\n",
       "<table class=\"simpletable\">\n",
       "<tr>\n",
       "  <th>Omnibus:</th>       <td>113.886</td> <th>  Durbin-Watson:     </th> <td>   1.875</td> \n",
       "</tr>\n",
       "<tr>\n",
       "  <th>Prob(Omnibus):</th> <td> 0.000</td>  <th>  Jarque-Bera (JB):  </th> <td> 966.375</td> \n",
       "</tr>\n",
       "<tr>\n",
       "  <th>Skew:</th>          <td> 1.909</td>  <th>  Prob(JB):          </th> <td>1.43e-210</td>\n",
       "</tr>\n",
       "<tr>\n",
       "  <th>Kurtosis:</th>      <td>12.791</td>  <th>  Cond. No.          </th> <td>1.67e+04</td> \n",
       "</tr>\n",
       "</table><br/><br/>Notes:<br/>[1] Standard Errors assume that the covariance matrix of the errors is correctly specified.<br/>[2] The condition number is large, 1.67e+04. This might indicate that there are<br/>strong multicollinearity or other numerical problems."
      ],
      "text/latex": [
       "\\begin{center}\n",
       "\\begin{tabular}{lclc}\n",
       "\\toprule\n",
       "\\textbf{Dep. Variable:}    &      Salary      & \\textbf{  R-squared:         } &     0.591   \\\\\n",
       "\\textbf{Model:}            &       OLS        & \\textbf{  Adj. R-squared:    } &     0.557   \\\\\n",
       "\\textbf{Method:}           &  Least Squares   & \\textbf{  F-statistic:       } &     17.42   \\\\\n",
       "\\textbf{Date:}             & Thu, 02 Nov 2023 & \\textbf{  Prob (F-statistic):} &  1.88e-29   \\\\\n",
       "\\textbf{Time:}             &     08:00:32     & \\textbf{  Log-Likelihood:    } &   -1483.7   \\\\\n",
       "\\textbf{No. Observations:} &         210      & \\textbf{  AIC:               } &     3001.   \\\\\n",
       "\\textbf{Df Residuals:}     &         193      & \\textbf{  BIC:               } &     3058.   \\\\\n",
       "\\textbf{Df Model:}         &          16      & \\textbf{                     } &             \\\\\n",
       "\\textbf{Covariance Type:}  &    nonrobust     & \\textbf{                     } &             \\\\\n",
       "\\bottomrule\n",
       "\\end{tabular}\n",
       "\\begin{tabular}{lcccccc}\n",
       "                 & \\textbf{coef} & \\textbf{std err} & \\textbf{t} & \\textbf{P$> |$t$|$} & \\textbf{[0.025} & \\textbf{0.975]}  \\\\\n",
       "\\midrule\n",
       "\\textbf{const}   &     184.2230  &       91.411     &     2.015  &         0.045        &        3.930    &      364.515     \\\\\n",
       "\\textbf{AtBat}   &      -2.5127  &        0.673     &    -3.732  &         0.000        &       -3.841    &       -1.185     \\\\\n",
       "\\textbf{Hits}    &      10.9852  &        2.545     &     4.317  &         0.000        &        5.967    &       16.004     \\\\\n",
       "\\textbf{HmRun}   &      -4.3432  &        6.662     &    -0.652  &         0.515        &      -17.483    &        8.796     \\\\\n",
       "\\textbf{Runs}    &      -5.0320  &        3.085     &    -1.631  &         0.104        &      -11.116    &        1.052     \\\\\n",
       "\\textbf{RBI}     &      -1.4118  &        2.666     &    -0.530  &         0.597        &       -6.670    &        3.846     \\\\\n",
       "\\textbf{Walks}   &       7.8608  &        1.929     &     4.075  &         0.000        &        4.056    &       11.665     \\\\\n",
       "\\textbf{Years}   &     -10.2313  &       13.991     &    -0.731  &         0.465        &      -37.826    &       17.364     \\\\\n",
       "\\textbf{CAtBat}  &      -0.0192  &        0.141     &    -0.136  &         0.892        &       -0.298    &        0.259     \\\\\n",
       "\\textbf{CHits}   &      -0.1728  &        0.688     &    -0.251  &         0.802        &       -1.530    &        1.184     \\\\\n",
       "\\textbf{CHmRun}  &       3.0831  &        1.862     &     1.656  &         0.099        &       -0.589    &        6.755     \\\\\n",
       "\\textbf{CRuns}   &       1.1291  &        0.781     &     1.445  &         0.150        &       -0.412    &        2.670     \\\\\n",
       "\\textbf{CRBI}    &       0.1071  &        0.766     &     0.140  &         0.889        &       -1.404    &        1.618     \\\\\n",
       "\\textbf{CWalks}  &      -0.7261  &        0.349     &    -2.081  &         0.039        &       -1.414    &       -0.038     \\\\\n",
       "\\textbf{PutOuts} &       0.1723  &        0.082     &     2.098  &         0.037        &        0.010    &        0.334     \\\\\n",
       "\\textbf{Assists} &       0.4055  &        0.225     &     1.803  &         0.073        &       -0.038    &        0.849     \\\\\n",
       "\\textbf{Errors}  &      -4.4775  &        4.427     &    -1.011  &         0.313        &      -13.208    &        4.253     \\\\\n",
       "\\bottomrule\n",
       "\\end{tabular}\n",
       "\\begin{tabular}{lclc}\n",
       "\\textbf{Omnibus:}       & 113.886 & \\textbf{  Durbin-Watson:     } &     1.875  \\\\\n",
       "\\textbf{Prob(Omnibus):} &   0.000 & \\textbf{  Jarque-Bera (JB):  } &   966.375  \\\\\n",
       "\\textbf{Skew:}          &   1.909 & \\textbf{  Prob(JB):          } & 1.43e-210  \\\\\n",
       "\\textbf{Kurtosis:}      &  12.791 & \\textbf{  Cond. No.          } &  1.67e+04  \\\\\n",
       "\\bottomrule\n",
       "\\end{tabular}\n",
       "%\\caption{OLS Regression Results}\n",
       "\\end{center}\n",
       "\n",
       "Notes: \\newline\n",
       " [1] Standard Errors assume that the covariance matrix of the errors is correctly specified. \\newline\n",
       " [2] The condition number is large, 1.67e+04. This might indicate that there are \\newline\n",
       " strong multicollinearity or other numerical problems."
      ],
      "text/plain": [
       "<class 'statsmodels.iolib.summary.Summary'>\n",
       "\"\"\"\n",
       "                            OLS Regression Results                            \n",
       "==============================================================================\n",
       "Dep. Variable:                 Salary   R-squared:                       0.591\n",
       "Model:                            OLS   Adj. R-squared:                  0.557\n",
       "Method:                 Least Squares   F-statistic:                     17.42\n",
       "Date:                Thu, 02 Nov 2023   Prob (F-statistic):           1.88e-29\n",
       "Time:                        08:00:32   Log-Likelihood:                -1483.7\n",
       "No. Observations:                 210   AIC:                             3001.\n",
       "Df Residuals:                     193   BIC:                             3058.\n",
       "Df Model:                          16                                         \n",
       "Covariance Type:            nonrobust                                         \n",
       "==============================================================================\n",
       "                 coef    std err          t      P>|t|      [0.025      0.975]\n",
       "------------------------------------------------------------------------------\n",
       "const        184.2230     91.411      2.015      0.045       3.930     364.515\n",
       "AtBat         -2.5127      0.673     -3.732      0.000      -3.841      -1.185\n",
       "Hits          10.9852      2.545      4.317      0.000       5.967      16.004\n",
       "HmRun         -4.3432      6.662     -0.652      0.515     -17.483       8.796\n",
       "Runs          -5.0320      3.085     -1.631      0.104     -11.116       1.052\n",
       "RBI           -1.4118      2.666     -0.530      0.597      -6.670       3.846\n",
       "Walks          7.8608      1.929      4.075      0.000       4.056      11.665\n",
       "Years        -10.2313     13.991     -0.731      0.465     -37.826      17.364\n",
       "CAtBat        -0.0192      0.141     -0.136      0.892      -0.298       0.259\n",
       "CHits         -0.1728      0.688     -0.251      0.802      -1.530       1.184\n",
       "CHmRun         3.0831      1.862      1.656      0.099      -0.589       6.755\n",
       "CRuns          1.1291      0.781      1.445      0.150      -0.412       2.670\n",
       "CRBI           0.1071      0.766      0.140      0.889      -1.404       1.618\n",
       "CWalks        -0.7261      0.349     -2.081      0.039      -1.414      -0.038\n",
       "PutOuts        0.1723      0.082      2.098      0.037       0.010       0.334\n",
       "Assists        0.4055      0.225      1.803      0.073      -0.038       0.849\n",
       "Errors        -4.4775      4.427     -1.011      0.313     -13.208       4.253\n",
       "==============================================================================\n",
       "Omnibus:                      113.886   Durbin-Watson:                   1.875\n",
       "Prob(Omnibus):                  0.000   Jarque-Bera (JB):              966.375\n",
       "Skew:                           1.909   Prob(JB):                    1.43e-210\n",
       "Kurtosis:                      12.791   Cond. No.                     1.67e+04\n",
       "==============================================================================\n",
       "\n",
       "Notes:\n",
       "[1] Standard Errors assume that the covariance matrix of the errors is correctly specified.\n",
       "[2] The condition number is large, 1.67e+04. This might indicate that there are\n",
       "strong multicollinearity or other numerical problems.\n",
       "\"\"\""
      ]
     },
     "execution_count": 8,
     "metadata": {},
     "output_type": "execute_result"
    }
   ],
   "source": [
    "X_train_withintercept = sm.add_constant(X_train)\n",
    "model = sm.OLS(Y_train,X_train_withintercept).fit()\n",
    "model.summary()"
   ]
  },
  {
   "cell_type": "markdown",
   "id": "494249ee",
   "metadata": {},
   "source": [
    "在上述结论中，我们发现：\n",
    "1. 有一些特征前的回归系数与专业认知不一致；比如：HmRun。\n",
    "2. 在第二个注意中，Python也表明需要注意多重共线性的问题。"
   ]
  },
  {
   "cell_type": "markdown",
   "id": "ea31bde9",
   "metadata": {},
   "source": [
    "### Task 1:  如何判断特征数据中是否存在多重共线性？\n",
    "\n",
    "多重共线性是严重影响线性回归模型效果的原因之一。倘若数据中存在多重共线性，自变量之间存在接近线性的相关性。虽然多重共线性并不违反线性回归模型的基本假设，但是多重共线性会影响最小二乘估计的效果。\n",
    "\n",
    "一方面，我们可以先关注一下特征之间自身的相关性，并绘制热力图。"
   ]
  },
  {
   "cell_type": "code",
   "execution_count": 9,
   "id": "c91d7be7",
   "metadata": {},
   "outputs": [
    {
     "data": {
      "text/plain": [
       "<Axes: >"
      ]
     },
     "execution_count": 9,
     "metadata": {},
     "output_type": "execute_result"
    },
    {
     "data": {
      "image/png": "[encoded data removed]",
      "text/plain": [
       "<Figure size 432x288 with 2 Axes>"
      ]
     },
     "metadata": {
      "needs_background": "light"
     },
     "output_type": "display_data"
    }
   ],
   "source": [
    "pcorr = X_train.corr(method = 'pearson')\n",
    "tick_ = (np.arange(0,13,2)-2)/10\n",
    "dict_ = {\"orientation\":'vertical',\n",
    "         'label':'Correlation Coefficients',\n",
    "         \"drawedges\":False,\n",
    "         \"ticklocation\":\"top\",\n",
    "         \"extend\":\"min\",\n",
    "         \"alpha\":0.8,\n",
    "         \"cmap\":\"cmap\",\n",
    "         \"ticks\":tick_}\n",
    "sns.heatmap(pcorr,cbar_kws= dict_,center=0)"
   ]
  },
  {
   "cell_type": "markdown",
   "id": "4921652a",
   "metadata": {},
   "source": [
    "从上图中可以发现，颜色越浅的特征之间相关性越强，而颜色越深的特征之间相关性越弱。很容易发现AtBat与Hits，CAtBat与CHits，Assists与Errors都有比较强的相关性。从相关阵可以初步判断出数据之间可能出现**多重共线性**。"
   ]
  },
  {
   "cell_type": "markdown",
   "id": "b8e6b7b8",
   "metadata": {},
   "source": [
    "另一方面，在实际中，我们通常根据方差扩大因子和特征值两类指标来判断数据是否存在多重共线性。\n",
    "\n",
    "#### 方差扩大因子法\n",
    "\n",
    "方差扩大因子法中，一般我们需要设置一个临界值，在本次实验中我们设定为5。"
   ]
  },
  {
   "cell_type": "code",
   "execution_count": 10,
   "id": "50395d55",
   "metadata": {},
   "outputs": [],
   "source": [
    "vif_cv = 5 # The criterion value of VIF"
   ]
  },
  {
   "cell_type": "markdown",
   "id": "8cccda22",
   "metadata": {},
   "source": [
    "方差扩大因子的计算方法：\n",
    "假定特征数据已经经过标准化，现数据有\n",
    "$$\n",
    "X = \\begin{pmatrix}\n",
    "x_{11} & x_{12} & \\cdots & x_{1p}\\\\\n",
    "x_{21} & x_{22} & \\cdots & x_{2p}\\\\\n",
    "\\vdots & \\vdots &  & \\vdots \\\\\n",
    "x_{n1} & x_{n2} & \\cdots & x_{np}\\\\\n",
    "\\end{pmatrix}\n",
    "$$\n",
    "\n",
    "方差扩大因子指的是$(X'X)^{-1}$的对角线元素。"
   ]
  },
  {
   "cell_type": "markdown",
   "id": "c9fea3ad",
   "metadata": {},
   "source": [
    "1. 根据方差扩大因子的定义，我们可以通过矩阵计算来确定方差扩大因子，如方法一。"
   ]
  },
  {
   "cell_type": "code",
   "execution_count": 11,
   "id": "c27bb779",
   "metadata": {},
   "outputs": [
    {
     "name": "stdout",
     "output_type": "stream",
     "text": [
      "The VIF's are [ 22.91  30.81   8.11  14.14  11.67   3.92   9.59 242.45 474.68  45.5\n",
      " 154.87 133.93  17.44   1.28   2.65   2.13]\n"
     ]
    }
   ],
   "source": [
    "# Method One\n",
    "C = np.linalg.inv(np.dot(X_train_standardized.T,X_train_standardized))\n",
    "VIF_1 = np.diag(C)\n",
    "print(\"The VIF's are\", np.round(VIF_1,2))"
   ]
  },
  {
   "cell_type": "markdown",
   "id": "e0679e18",
   "metadata": {},
   "source": [
    "2. 在Python中statsmodel包中自带函数variance_inflation_factor也可以直接用于计算方差扩大因子，如方法二。"
   ]
  },
  {
   "cell_type": "code",
   "execution_count": 12,
   "id": "5979f16d",
   "metadata": {},
   "outputs": [
    {
     "name": "stdout",
     "output_type": "stream",
     "text": [
      "The VIF's are [ 22.91  30.81   8.11  14.14  11.67   3.92   9.59 242.45 474.68  45.5\n",
      " 154.87 133.93  17.44   1.28   2.65   2.13]\n"
     ]
    }
   ],
   "source": [
    "# Method Two\n",
    "VIF_2 = [variance_inflation_factor(X_train_standardized[:,0:p], i) for i in range(p)]\n",
    "print(\"The VIF's are\", np.round(VIF_2,2))"
   ]
  },
  {
   "cell_type": "markdown",
   "id": "908a10d7",
   "metadata": {},
   "source": [
    "方差扩大因子的命名来源是基于方法一。但是，问题是：为什么方差扩大因子能够度量特征存在多重共线性？\n",
    "\n",
    "举例来说，以$x_j$作为响应变量，其他特征$x_1,x_2,\\cdots,x_{j-1},x_{j+1},\\cdots,x_{p}$作为自变量，构建线性回归模型即\n",
    "$$\n",
    "x_j = \\alpha_0 + \\alpha_1 x_1 + \\alpha_2 x_2 + \\cdots +\\alpha_{j-1}x_{j-1} + \\alpha_{j+1}x_{j+1} + \\cdots + \\alpha_p x_p +\\epsilon\n",
    "$$\n",
    "\n",
    "如果这个特征能够被其他特征近似看作其他特征的线性组合，那么我们称这个现象为**多重共线性**。基于这个想法，如果上述回归模型的决定系数$R^2$很接近于1，那么这个特征很有可能看作其他特征的线性组合。因此，多重共线性VIF还有一种计算方法，即\n",
    "$$\n",
    "\\text{VIF}_j = \\frac{1}{1-R_j^2} \n",
    "$$"
   ]
  },
  {
   "cell_type": "code",
   "execution_count": 13,
   "id": "36915af6",
   "metadata": {},
   "outputs": [
    {
     "name": "stdout",
     "output_type": "stream",
     "text": [
      "The VIF of the first feature is 22.91\n"
     ]
    }
   ],
   "source": [
    "# Method Three\n",
    "X_1 = X_train_standardized[:,0]\n",
    "X_others = X_train_standardized[:,1:p]\n",
    "model_vif = sm.OLS(X_1,X_others).fit()\n",
    "X_1_VIF = 1/(1-model_vif.rsquared)\n",
    "print(\"The VIF of the first feature is\", np.round(X_1_VIF,2))"
   ]
  },
  {
   "cell_type": "markdown",
   "id": "df8b991f",
   "metadata": {},
   "source": [
    "方差扩大因子的评价方式：如果方差扩大因子越大，那么可以认为多重共线性是严重的。"
   ]
  },
  {
   "cell_type": "markdown",
   "id": "8dce9757",
   "metadata": {},
   "source": [
    "可以发现，在计算有些指标的时候，需要调用Python中线性回归模型的结果。我们这里补充一些线性回归模型中常见需要调用的函数，具体如下："
   ]
  },
  {
   "cell_type": "code",
   "execution_count": 14,
   "id": "4a32d234",
   "metadata": {},
   "outputs": [
    {
     "data": {
      "text/html": [
       "<table class=\"simpletable\">\n",
       "<caption>OLS Regression Results</caption>\n",
       "<tr>\n",
       "  <th>Dep. Variable:</th>            <td>y</td>        <th>  R-squared (uncentered):</th>      <td>   0.956</td> \n",
       "</tr>\n",
       "<tr>\n",
       "  <th>Model:</th>                   <td>OLS</td>       <th>  Adj. R-squared (uncentered):</th> <td>   0.953</td> \n",
       "</tr>\n",
       "<tr>\n",
       "  <th>Method:</th>             <td>Least Squares</td>  <th>  F-statistic:       </th>          <td>   284.8</td> \n",
       "</tr>\n",
       "<tr>\n",
       "  <th>Date:</th>             <td>Thu, 02 Nov 2023</td> <th>  Prob (F-statistic):</th>          <td>1.08e-123</td>\n",
       "</tr>\n",
       "<tr>\n",
       "  <th>Time:</th>                 <td>08:00:57</td>     <th>  Log-Likelihood:    </th>          <td>  592.29</td> \n",
       "</tr>\n",
       "<tr>\n",
       "  <th>No. Observations:</th>      <td>   210</td>      <th>  AIC:               </th>          <td>  -1155.</td> \n",
       "</tr>\n",
       "<tr>\n",
       "  <th>Df Residuals:</th>          <td>   195</td>      <th>  BIC:               </th>          <td>  -1104.</td> \n",
       "</tr>\n",
       "<tr>\n",
       "  <th>Df Model:</th>              <td>    15</td>      <th>                     </th>              <td> </td>    \n",
       "</tr>\n",
       "<tr>\n",
       "  <th>Covariance Type:</th>      <td>nonrobust</td>    <th>                     </th>              <td> </td>    \n",
       "</tr>\n",
       "</table>\n",
       "<table class=\"simpletable\">\n",
       "<tr>\n",
       "   <td></td>      <th>coef</th>     <th>std err</th>      <th>t</th>      <th>P>|t|</th>  <th>[0.025</th>    <th>0.975]</th>  \n",
       "</tr>\n",
       "<tr>\n",
       "  <th>x1</th>  <td>    0.8569</td> <td>    0.056</td> <td>   15.312</td> <td> 0.000</td> <td>    0.747</td> <td>    0.967</td>\n",
       "</tr>\n",
       "<tr>\n",
       "  <th>x2</th>  <td>    0.0121</td> <td>    0.043</td> <td>    0.285</td> <td> 0.776</td> <td>   -0.072</td> <td>    0.096</td>\n",
       "</tr>\n",
       "<tr>\n",
       "  <th>x3</th>  <td>   -0.0724</td> <td>    0.056</td> <td>   -1.293</td> <td> 0.197</td> <td>   -0.183</td> <td>    0.038</td>\n",
       "</tr>\n",
       "<tr>\n",
       "  <th>x4</th>  <td>    0.0840</td> <td>    0.051</td> <td>    1.655</td> <td> 0.099</td> <td>   -0.016</td> <td>    0.184</td>\n",
       "</tr>\n",
       "<tr>\n",
       "  <th>x5</th>  <td>    0.1000</td> <td>    0.029</td> <td>    3.479</td> <td> 0.001</td> <td>    0.043</td> <td>    0.157</td>\n",
       "</tr>\n",
       "<tr>\n",
       "  <th>x6</th>  <td>   -0.1302</td> <td>    0.045</td> <td>   -2.869</td> <td> 0.005</td> <td>   -0.220</td> <td>   -0.041</td>\n",
       "</tr>\n",
       "<tr>\n",
       "  <th>x7</th>  <td>    1.3350</td> <td>    0.212</td> <td>    6.284</td> <td> 0.000</td> <td>    0.916</td> <td>    1.754</td>\n",
       "</tr>\n",
       "<tr>\n",
       "  <th>x8</th>  <td>   -1.4344</td> <td>    0.309</td> <td>   -4.637</td> <td> 0.000</td> <td>   -2.044</td> <td>   -0.824</td>\n",
       "</tr>\n",
       "<tr>\n",
       "  <th>x9</th>  <td>    0.0037</td> <td>    0.101</td> <td>    0.037</td> <td> 0.971</td> <td>   -0.195</td> <td>    0.203</td>\n",
       "</tr>\n",
       "<tr>\n",
       "  <th>x10</th> <td>    0.4719</td> <td>    0.183</td> <td>    2.577</td> <td> 0.011</td> <td>    0.111</td> <td>    0.833</td>\n",
       "</tr>\n",
       "<tr>\n",
       "  <th>x11</th> <td>   -0.0510</td> <td>    0.173</td> <td>   -0.295</td> <td> 0.768</td> <td>   -0.392</td> <td>    0.290</td>\n",
       "</tr>\n",
       "<tr>\n",
       "  <th>x12</th> <td>   -0.2415</td> <td>    0.060</td> <td>   -4.021</td> <td> 0.000</td> <td>   -0.360</td> <td>   -0.123</td>\n",
       "</tr>\n",
       "<tr>\n",
       "  <th>x13</th> <td>    0.0400</td> <td>    0.017</td> <td>    2.401</td> <td> 0.017</td> <td>    0.007</td> <td>    0.073</td>\n",
       "</tr>\n",
       "<tr>\n",
       "  <th>x14</th> <td>    0.0484</td> <td>    0.024</td> <td>    2.005</td> <td> 0.046</td> <td>    0.001</td> <td>    0.096</td>\n",
       "</tr>\n",
       "<tr>\n",
       "  <th>x15</th> <td>    0.0195</td> <td>    0.022</td> <td>    0.896</td> <td> 0.372</td> <td>   -0.023</td> <td>    0.062</td>\n",
       "</tr>\n",
       "</table>\n",
       "<table class=\"simpletable\">\n",
       "<tr>\n",
       "  <th>Omnibus:</th>       <td> 2.402</td> <th>  Durbin-Watson:     </th> <td>   2.011</td>\n",
       "</tr>\n",
       "<tr>\n",
       "  <th>Prob(Omnibus):</th> <td> 0.301</td> <th>  Jarque-Bera (JB):  </th> <td>   2.014</td>\n",
       "</tr>\n",
       "<tr>\n",
       "  <th>Skew:</th>          <td> 0.202</td> <th>  Prob(JB):          </th> <td>   0.365</td>\n",
       "</tr>\n",
       "<tr>\n",
       "  <th>Kurtosis:</th>      <td> 3.259</td> <th>  Cond. No.          </th> <td>    70.4</td>\n",
       "</tr>\n",
       "</table><br/><br/>Notes:<br/>[1] R² is computed without centering (uncentered) since the model does not contain a constant.<br/>[2] Standard Errors assume that the covariance matrix of the errors is correctly specified."
      ],
      "text/latex": [
       "\\begin{center}\n",
       "\\begin{tabular}{lclc}\n",
       "\\toprule\n",
       "\\textbf{Dep. Variable:}    &        y         & \\textbf{  R-squared (uncentered):}      &     0.956   \\\\\n",
       "\\textbf{Model:}            &       OLS        & \\textbf{  Adj. R-squared (uncentered):} &     0.953   \\\\\n",
       "\\textbf{Method:}           &  Least Squares   & \\textbf{  F-statistic:       }          &     284.8   \\\\\n",
       "\\textbf{Date:}             & Thu, 02 Nov 2023 & \\textbf{  Prob (F-statistic):}          & 1.08e-123   \\\\\n",
       "\\textbf{Time:}             &     08:00:57     & \\textbf{  Log-Likelihood:    }          &    592.29   \\\\\n",
       "\\textbf{No. Observations:} &         210      & \\textbf{  AIC:               }          &    -1155.   \\\\\n",
       "\\textbf{Df Residuals:}     &         195      & \\textbf{  BIC:               }          &    -1104.   \\\\\n",
       "\\textbf{Df Model:}         &          15      & \\textbf{                     }          &             \\\\\n",
       "\\textbf{Covariance Type:}  &    nonrobust     & \\textbf{                     }          &             \\\\\n",
       "\\bottomrule\n",
       "\\end{tabular}\n",
       "\\begin{tabular}{lcccccc}\n",
       "             & \\textbf{coef} & \\textbf{std err} & \\textbf{t} & \\textbf{P$> |$t$|$} & \\textbf{[0.025} & \\textbf{0.975]}  \\\\\n",
       "\\midrule\n",
       "\\textbf{x1}  &       0.8569  &        0.056     &    15.312  &         0.000        &        0.747    &        0.967     \\\\\n",
       "\\textbf{x2}  &       0.0121  &        0.043     &     0.285  &         0.776        &       -0.072    &        0.096     \\\\\n",
       "\\textbf{x3}  &      -0.0724  &        0.056     &    -1.293  &         0.197        &       -0.183    &        0.038     \\\\\n",
       "\\textbf{x4}  &       0.0840  &        0.051     &     1.655  &         0.099        &       -0.016    &        0.184     \\\\\n",
       "\\textbf{x5}  &       0.1000  &        0.029     &     3.479  &         0.001        &        0.043    &        0.157     \\\\\n",
       "\\textbf{x6}  &      -0.1302  &        0.045     &    -2.869  &         0.005        &       -0.220    &       -0.041     \\\\\n",
       "\\textbf{x7}  &       1.3350  &        0.212     &     6.284  &         0.000        &        0.916    &        1.754     \\\\\n",
       "\\textbf{x8}  &      -1.4344  &        0.309     &    -4.637  &         0.000        &       -2.044    &       -0.824     \\\\\n",
       "\\textbf{x9}  &       0.0037  &        0.101     &     0.037  &         0.971        &       -0.195    &        0.203     \\\\\n",
       "\\textbf{x10} &       0.4719  &        0.183     &     2.577  &         0.011        &        0.111    &        0.833     \\\\\n",
       "\\textbf{x11} &      -0.0510  &        0.173     &    -0.295  &         0.768        &       -0.392    &        0.290     \\\\\n",
       "\\textbf{x12} &      -0.2415  &        0.060     &    -4.021  &         0.000        &       -0.360    &       -0.123     \\\\\n",
       "\\textbf{x13} &       0.0400  &        0.017     &     2.401  &         0.017        &        0.007    &        0.073     \\\\\n",
       "\\textbf{x14} &       0.0484  &        0.024     &     2.005  &         0.046        &        0.001    &        0.096     \\\\\n",
       "\\textbf{x15} &       0.0195  &        0.022     &     0.896  &         0.372        &       -0.023    &        0.062     \\\\\n",
       "\\bottomrule\n",
       "\\end{tabular}\n",
       "\\begin{tabular}{lclc}\n",
       "\\textbf{Omnibus:}       &  2.402 & \\textbf{  Durbin-Watson:     } &    2.011  \\\\\n",
       "\\textbf{Prob(Omnibus):} &  0.301 & \\textbf{  Jarque-Bera (JB):  } &    2.014  \\\\\n",
       "\\textbf{Skew:}          &  0.202 & \\textbf{  Prob(JB):          } &    0.365  \\\\\n",
       "\\textbf{Kurtosis:}      &  3.259 & \\textbf{  Cond. No.          } &     70.4  \\\\\n",
       "\\bottomrule\n",
       "\\end{tabular}\n",
       "%\\caption{OLS Regression Results}\n",
       "\\end{center}\n",
       "\n",
       "Notes: \\newline\n",
       " [1] R² is computed without centering (uncentered) since the model does not contain a constant. \\newline\n",
       " [2] Standard Errors assume that the covariance matrix of the errors is correctly specified."
      ],
      "text/plain": [
       "<class 'statsmodels.iolib.summary.Summary'>\n",
       "\"\"\"\n",
       "                                 OLS Regression Results                                \n",
       "=======================================================================================\n",
       "Dep. Variable:                      y   R-squared (uncentered):                   0.956\n",
       "Model:                            OLS   Adj. R-squared (uncentered):              0.953\n",
       "Method:                 Least Squares   F-statistic:                              284.8\n",
       "Date:                Thu, 02 Nov 2023   Prob (F-statistic):                   1.08e-123\n",
       "Time:                        08:00:57   Log-Likelihood:                          592.29\n",
       "No. Observations:                 210   AIC:                                     -1155.\n",
       "Df Residuals:                     195   BIC:                                     -1104.\n",
       "Df Model:                          15                                                  \n",
       "Covariance Type:            nonrobust                                                  \n",
       "==============================================================================\n",
       "                 coef    std err          t      P>|t|      [0.025      0.975]\n",
       "------------------------------------------------------------------------------\n",
       "x1             0.8569      0.056     15.312      0.000       0.747       0.967\n",
       "x2             0.0121      0.043      0.285      0.776      -0.072       0.096\n",
       "x3            -0.0724      0.056     -1.293      0.197      -0.183       0.038\n",
       "x4             0.0840      0.051      1.655      0.099      -0.016       0.184\n",
       "x5             0.1000      0.029      3.479      0.001       0.043       0.157\n",
       "x6            -0.1302      0.045     -2.869      0.005      -0.220      -0.041\n",
       "x7             1.3350      0.212      6.284      0.000       0.916       1.754\n",
       "x8            -1.4344      0.309     -4.637      0.000      -2.044      -0.824\n",
       "x9             0.0037      0.101      0.037      0.971      -0.195       0.203\n",
       "x10            0.4719      0.183      2.577      0.011       0.111       0.833\n",
       "x11           -0.0510      0.173     -0.295      0.768      -0.392       0.290\n",
       "x12           -0.2415      0.060     -4.021      0.000      -0.360      -0.123\n",
       "x13            0.0400      0.017      2.401      0.017       0.007       0.073\n",
       "x14            0.0484      0.024      2.005      0.046       0.001       0.096\n",
       "x15            0.0195      0.022      0.896      0.372      -0.023       0.062\n",
       "==============================================================================\n",
       "Omnibus:                        2.402   Durbin-Watson:                   2.011\n",
       "Prob(Omnibus):                  0.301   Jarque-Bera (JB):                2.014\n",
       "Skew:                           0.202   Prob(JB):                        0.365\n",
       "Kurtosis:                       3.259   Cond. No.                         70.4\n",
       "==============================================================================\n",
       "\n",
       "Notes:\n",
       "[1] R² is computed without centering (uncentered) since the model does not contain a constant.\n",
       "[2] Standard Errors assume that the covariance matrix of the errors is correctly specified.\n",
       "\"\"\""
      ]
     },
     "execution_count": 14,
     "metadata": {},
     "output_type": "execute_result"
    }
   ],
   "source": [
    "### 补充内容：\n",
    "model_vif.summary()\n",
    "## 建模类\n",
    "# model_vif.params # 回归系数(向量，p)\n",
    "# model_vif.bse # 回归系数的标准误\n",
    "# model_vif.tvalues # 回归系数的t统计量（向量，p）\n",
    "# model_vif.pvalues # 回归系数的t检验对应的p值（向量，p）\n",
    "# model_vif.fittedvalues # 回归模型的拟合值（向量，n）\n",
    "# model_vif.resid # 回归模型的残差（向量，n）\n",
    "\n",
    "## 评价类\n",
    "# model_vif.fvalue # 回归模型的F检验统计量\n",
    "# model_vif.f_pvalue # 回归模型的F检验对应的p值\n",
    "# model_vif.rsquared # 回归模型的决定系数R2\n",
    "# model_vif.rsquared_adj # 回归模型修正后的决定系数 Adj. R2\n",
    "# model_vif.ess # 回归平方和\n",
    "# model_vif.ssr # 残差平方和\n",
    "# model_vif.aic # AIC\n",
    "# model_vif.bic # BIC"
   ]
  },
  {
   "cell_type": "markdown",
   "id": "f5f6b786",
   "metadata": {},
   "source": [
    "#### 特征值方法\n",
    "\n",
    "我们可以计算$\\mathbf{X}'\\mathbf{X}$的特征值来判断数据多重共线性的程度。"
   ]
  },
  {
   "cell_type": "code",
   "execution_count": 15,
   "id": "ea59cb7f",
   "metadata": {},
   "outputs": [
    {
     "name": "stdout",
     "output_type": "stream",
     "text": [
      "The eigen values are [7.2985e+00 3.9851e+00 1.7352e+00 9.1210e-01 6.8070e-01 5.5120e-01\n",
      " 2.6490e-01 1.8050e-01 1.2800e-01 1.0050e-01 6.0000e-02 5.3300e-02\n",
      " 2.8200e-02 1.6100e-02 4.4000e-03 1.3000e-03]\n"
     ]
    }
   ],
   "source": [
    "R = np.dot(X_train_standardized.T,X_train_standardized)\n",
    "W, V = np.linalg.eig(R)\n",
    "W = -1* np.sort(-1*W)\n",
    "W_diag = np.diag(W)\n",
    "V = V.T\n",
    "print(\"The eigen values are\", np.round(W,4))"
   ]
  },
  {
   "cell_type": "markdown",
   "id": "b1b48534",
   "metadata": {},
   "source": [
    "这里特别需要说明一下，np.linalg.eig函数所输出特征值并不是按从大到小的顺序进行排列的。\n",
    "\n",
    "基于所计算的特征值，我们进一步需要计算条件数。"
   ]
  },
  {
   "cell_type": "code",
   "execution_count": 16,
   "id": "5e1e15fc",
   "metadata": {},
   "outputs": [
    {
     "name": "stdout",
     "output_type": "stream",
     "text": [
      "The condition number is 75.7146\n"
     ]
    }
   ],
   "source": [
    "Condition_Number = np.sqrt(np.max(W)/np.min(W))\n",
    "print(\"The condition number is\",np.round(Condition_Number,4))"
   ]
  },
  {
   "cell_type": "markdown",
   "id": "ea28d138",
   "metadata": {},
   "source": [
    "可以发现：所计算出的条件数也是比较大的。这里也可以预先设置临界值进行判断。\n",
    "\n",
    "同时，我们也可以重新运行线性回归模型，查看所计算的条件数。"
   ]
  },
  {
   "cell_type": "code",
   "execution_count": 17,
   "id": "d9ce814c",
   "metadata": {},
   "outputs": [
    {
     "name": "stdout",
     "output_type": "stream",
     "text": [
      "The condition number is 75.7146\n"
     ]
    }
   ],
   "source": [
    "model_ols = sm.OLS(Y_train_centered,X_train_standardized).fit()\n",
    "print(\"The condition number is\",round(model_ols.condition_number,4))"
   ]
  },
  {
   "cell_type": "markdown",
   "id": "b455bc2c",
   "metadata": {},
   "source": [
    "### Task 2：如何构建岭回归模型？\n",
    "\n",
    "岭回归估计为\n",
    "$$\n",
    "\\hat{\\mathbf{\\beta}}(k) = (\\mathbf{X}'\\mathbf{X} + k \\mathbf{I})^{-1} \\mathbf{X}' \\mathbf{y}.\n",
    "$$\n",
    "\n",
    "在Python的statmodels.api包中OLS.fit_regularized可以实现，具体如下："
   ]
  },
  {
   "cell_type": "code",
   "execution_count": 18,
   "id": "a586b8cf",
   "metadata": {},
   "outputs": [
    {
     "name": "stdout",
     "output_type": "stream",
     "text": [
      "The parameters in the ridge regression are  [ 84.07  97.4   62.58  87.16  87.79 113.32 100.7  128.48 132.56 146.93\n",
      " 137.78 145.26 124.65  51.17   7.34  -7.15]\n"
     ]
    }
   ],
   "source": [
    "## Ridge Regression\n",
    "alpha  = 0.1 # A hyperparameter in Ridge Regression (equivalently but not equally, k in slides)\n",
    "model_rr = sm.OLS(Y_train_centered,X_train_standardized).fit_regularized(L1_wt=0,alpha = alpha)\n",
    "print(\"The parameters in the ridge regression are \",np.round(model_rr.params,2))"
   ]
  },
  {
   "cell_type": "markdown",
   "id": "ed7c11c8",
   "metadata": {},
   "source": [
    "在上述代码中，有一个超参数$\\alpha$，与我们在介绍岭回归中的$k$并不是同一个参数，但是与$k$是等价的。这是因为这个函数本身是为了解决Elastic Net问题。在Elastic Net中，最优化问题是\n",
    "$$\n",
    "0.5* RSS/n +\\alpha *((1-L1_{wt})*|\\mathbf{\\beta}|_2^2/2 + L1_{wt} * |\\mathbf{\\beta}|_1)\n",
    "$$\n",
    "其中，\n",
    "- RSS：原本的偏差平方和；\n",
    "- n：样本量；\n",
    "- $|\\cdot|_1,|\\cdot|_2$：$L_1$和$L_2$范数。"
   ]
  },
  {
   "cell_type": "code",
   "execution_count": 20,
   "id": "9be80d22",
   "metadata": {},
   "outputs": [
    {
     "data": {
      "text/html": [
       "<div id=\"oOZSHCoHPbzR\" data-shufflequestions=\"False\"\n",
       "               data-shuffleanswers=\"True\"\n",
       "               data-preserveresponses=\"false\"\n",
       "               data-numquestions=\"1000000\"\n",
       "               data-maxwidth=\"600\"\n",
       "               style=\"border-radius: 10px; text-align: left\"> <style>\n",
       "#oOZSHCoHPbzR {\n",
       "   --jq-multiple-choice-bg: #6f78ffff;\n",
       "   --jq-mc-button-bg: #fafafa;\n",
       "   --jq-mc-button-border: #e0e0e0e0;\n",
       "   --jq-mc-button-inset-shadow: #555555;\n",
       "   --jq-many-choice-bg: #f75c03ff;\n",
       "   --jq-numeric-bg: #392061ff;\n",
       "   --jq-numeric-input-bg: #c0c0c0;\n",
       "   --jq-numeric-input-label: #101010;\n",
       "   --jq-numeric-input-shadow: #999999;\n",
       "   --jq-incorrect-color: #c80202;\n",
       "   --jq-correct-color: #009113;\n",
       "   --jq-text-color: #fafafa;\n",
       "}\n",
       "\n",
       ".Quiz {\n",
       "    max-width: 600px;\n",
       "    margin-top: 15px;\n",
       "    margin-left: auto;\n",
       "    margin-right: auto;\n",
       "    margin-bottom: 15px;\n",
       "    padding-bottom: 4px;\n",
       "    padding-top: 4px;\n",
       "    line-height: 1.1;\n",
       "    font-size: 16pt;\n",
       "    border-radius: inherit;\n",
       "}\n",
       "\n",
       ".QuizCode {\n",
       "    font-size: 14pt;\n",
       "    margin-top: 10px;\n",
       "    margin-left: 20px;\n",
       "    margin-right: 20px;\n",
       "}\n",
       "\n",
       ".QuizCode>pre {\n",
       "    padding: 4px;\n",
       "}\n",
       "\n",
       ".Answer {\n",
       "    margin: 10px 0;\n",
       "    display: grid;\n",
       "    grid-template-columns: 1fr 1fr;\n",
       "    grid-gap: 10px;\n",
       "    border-radius: inherit;\n",
       "}\n",
       "\n",
       ".Feedback {\n",
       "    font-size: 16pt;\n",
       "    text-align: center;\n",
       "    min-height: 2em;\n",
       "}\n",
       "\n",
       ".Input {\n",
       "    align: left;\n",
       "    font-size: 20pt;\n",
       "}\n",
       "\n",
       ".Input-text {\n",
       "    display: block;\n",
       "    margin: 10px;\n",
       "    color: inherit;\n",
       "    width: 140px;\n",
       "    background-color: var(--jq-numeric-input-bg);\n",
       "    color: var(--jq-text-color);\n",
       "    padding: 5px;\n",
       "    padding-left: 10px;\n",
       "    font-family: inherit;\n",
       "    font-size: 20px;\n",
       "    font-weight: inherit;\n",
       "    line-height: 20pt;\n",
       "    border: none;\n",
       "    border-radius: 0.2rem;\n",
       "    transition: box-shadow 0.1s);\n",
       "}\n",
       "\n",
       ".Input-text:focus {\n",
       "    outline: none;\n",
       "    background-color: var(--jq-numeric-input-bg);\n",
       "    box-shadow: 0.6rem 0.8rem 1.4rem -0.5rem var(--jq-numeric-input-shadow);\n",
       "}\n",
       "\n",
       ".MCButton {\n",
       "    background: var(--jq-mc-button-bg);\n",
       "    border: 1px solid var(--jq-mc-button-border);\n",
       "    border-radius: inherit;\n",
       "    padding: 10px;\n",
       "    font-size: 16px;\n",
       "    cursor: pointer;\n",
       "    text-align: center;\n",
       "    display: flex;\n",
       "    align-items: center;\n",
       "    justify-content: center;\n",
       "}\n",
       "\n",
       ".MCButton p {\n",
       "    color: inherit;\n",
       "}\n",
       "\n",
       ".MultipleChoiceQn {\n",
       "    padding: 10px;\n",
       "    background: var(--jq-multiple-choice-bg);\n",
       "    color: var(--jq-text-color);\n",
       "    border-radius: inherit;\n",
       "}\n",
       "\n",
       ".ManyChoiceQn {\n",
       "    padding: 10px;\n",
       "    background: var(--jq-many-choice-bg);\n",
       "    color: var(--jq-text-color);\n",
       "    border-radius: inherit;\n",
       "}\n",
       "\n",
       ".NumericQn {\n",
       "    padding: 10px;\n",
       "    background: var(--jq-numeric-bg);\n",
       "    color: var(--jq-text-color);\n",
       "    border-radius: inherit;\n",
       "}\n",
       "\n",
       ".NumericQn p {\n",
       "    color: inherit;\n",
       "}\n",
       "\n",
       ".InpLabel {\n",
       "    line-height: 34px;\n",
       "    float: left;\n",
       "    margin-right: 10px;\n",
       "    color: var(--jq-numeric-input-label);\n",
       "    font-size: 15pt;\n",
       "}\n",
       "\n",
       ".incorrect {\n",
       "    color: var(--jq-incorrect-color);\n",
       "}\n",
       "\n",
       ".correct {\n",
       "    color: var(--jq-correct-color);\n",
       "}\n",
       "\n",
       ".correctButton {\n",
       "    /*\n",
       "    background: var(--jq-correct-color);\n",
       "   */\n",
       "    animation: correct-anim 0.6s ease;\n",
       "    animation-fill-mode: forwards;\n",
       "    color: var(--jq-text-color);\n",
       "    box-shadow: inset 0px 0px 5px var(--jq-mc-button-inset-shadow);\n",
       "    outline: none;\n",
       "}\n",
       "\n",
       ".incorrectButton {\n",
       "    animation: incorrect-anim 0.8s ease;\n",
       "    animation-fill-mode: forwards;\n",
       "    color: var(--jq-text-color);\n",
       "    box-shadow: inset 0px 0px 5px var(--jq-mc-button-inset-shadow);\n",
       "    outline: none;\n",
       "}\n",
       "\n",
       "@keyframes incorrect-anim {\n",
       "    100% {\n",
       "        background-color: var(--jq-incorrect-color);\n",
       "    }\n",
       "}\n",
       "\n",
       "@keyframes correct-anim {\n",
       "    100% {\n",
       "        background-color: var(--jq-correct-color);\n",
       "    }\n",
       "}\n",
       "</style>"
      ],
      "text/plain": [
       "<IPython.core.display.HTML object>"
      ]
     },
     "metadata": {},
     "output_type": "display_data"
    },
    {
     "data": {
      "application/javascript": "var questionsoOZSHCoHPbzR=[\n    {\n        \"question\": \"alpha 与 k 的关系是什么？\",\n        \"type\": \"multiple_choice\",\n        \"answers\": [\n            {\n                \"answer\": \"alpha = k * n\",\n                \"correct\": false\n            },\n            {\n                \"answer\": \"alpha = k / n\",\n                \"correct\": true\n            },\n            {\n                \"answer\": \"alpha = k * n^{1/2}\",\n                \"correct\": false\n            },\n            {\n                \"answer\": \"alpha = k / n^{1/2}\",\n                \"correct\": false\n            }\n        ]\n    }\n];\n    // Make a random ID\nfunction makeid(length) {\n    var result = [];\n    var characters = 'ABCDEFGHIJKLMNOPQRSTUVWXYZabcdefghijklmnopqrstuvwxyz';\n    var charactersLength = characters.length;\n    for (var i = 0; i < length; i++) {\n        result.push(characters.charAt(Math.floor(Math.random() * charactersLength)));\n    }\n    return result.join('');\n}\n\n// Choose a random subset of an array. Can also be used to shuffle the array\nfunction getRandomSubarray(arr, size) {\n    var shuffled = arr.slice(0), i = arr.length, temp, index;\n    while (i--) {\n        index = Math.floor((i + 1) * Math.random());\n        temp = shuffled[index];\n        shuffled[index] = shuffled[i];\n        shuffled[i] = temp;\n    }\n    return shuffled.slice(0, size);\n}\n\nfunction printResponses(responsesContainer) {\n    var responses=JSON.parse(responsesContainer.dataset.responses);\n    var stringResponses='<B>IMPORTANT!</B>To preserve this answer sequence for submission, when you have finalized your answers: <ol> <li> Copy the text in this cell below \"Answer String\"</li> <li> Double click on the cell directly below the Answer String, labeled \"Replace Me\"</li> <li> Select the whole \"Replace Me\" text</li> <li> Paste in your answer string and press shift-Enter.</li><li>Save the notebook using the save icon or File->Save Notebook menu item</li></ul><br><br><br><b>Answer String:</b><br> ';\n    console.log(responses);\n    responses.forEach((response, index) => {\n        if (response) {\n            console.log(index + ': ' + response);\n            stringResponses+= index + ': ' + response +\"<BR>\";\n        }\n    });\n    responsesContainer.innerHTML=stringResponses;\n}\nfunction check_mc() {\n    var id = this.id.split('-')[0];\n    //var response = this.id.split('-')[1];\n    //console.log(response);\n    //console.log(\"In check_mc(), id=\"+id);\n    //console.log(event.srcElement.id)           \n    //console.log(event.srcElement.dataset.correct)   \n    //console.log(event.srcElement.dataset.feedback)\n\n    var label = event.srcElement;\n    //console.log(label, label.nodeName);\n    var depth = 0;\n    while ((label.nodeName != \"LABEL\") && (depth < 20)) {\n        label = label.parentElement;\n        console.log(depth, label);\n        depth++;\n    }\n\n\n\n    var answers = label.parentElement.children;\n\n    //console.log(answers);\n\n\n    // Split behavior based on multiple choice vs many choice:\n    var fb = document.getElementById(\"fb\" + id);\n\n\n\n\n    if (fb.dataset.numcorrect == 1) {\n        // What follows is for the saved responses stuff\n        var outerContainer = fb.parentElement.parentElement;\n        var responsesContainer = document.getElementById(\"responses\" + outerContainer.id);\n        if (responsesContainer) {\n            //console.log(responsesContainer);\n            var response = label.firstChild.innerText;\n            if (label.querySelector(\".QuizCode\")){\n                response+= label.querySelector(\".QuizCode\").firstChild.innerText;\n            }\n            console.log(response);\n            //console.log(document.getElementById(\"quizWrap\"+id));\n            var qnum = document.getElementById(\"quizWrap\"+id).dataset.qnum;\n            console.log(\"Question \" + qnum);\n            //console.log(id, \", got numcorrect=\",fb.dataset.numcorrect);\n            var responses=JSON.parse(responsesContainer.dataset.responses);\n            console.log(responses);\n            responses[qnum]= response;\n            responsesContainer.setAttribute('data-responses', JSON.stringify(responses));\n            printResponses(responsesContainer);\n        }\n        // End code to preserve responses\n        \n        for (var i = 0; i < answers.length; i++) {\n            var child = answers[i];\n            //console.log(child);\n            child.className = \"MCButton\";\n        }\n\n\n\n        if (label.dataset.correct == \"true\") {\n            // console.log(\"Correct action\");\n            if (\"feedback\" in label.dataset) {\n                fb.textContent = jaxify(label.dataset.feedback);\n            } else {\n                fb.textContent = \"Correct!\";\n            }\n            label.classList.add(\"correctButton\");\n\n            fb.className = \"Feedback\";\n            fb.classList.add(\"correct\");\n\n        } else {\n            if (\"feedback\" in label.dataset) {\n                fb.textContent = jaxify(label.dataset.feedback);\n            } else {\n                fb.textContent = \"Incorrect -- try again.\";\n            }\n            //console.log(\"Error action\");\n            label.classList.add(\"incorrectButton\");\n            fb.className = \"Feedback\";\n            fb.classList.add(\"incorrect\");\n        }\n    }\n    else {\n        var reset = false;\n        var feedback;\n         if (label.dataset.correct == \"true\") {\n            if (\"feedback\" in label.dataset) {\n                feedback = jaxify(label.dataset.feedback);\n            } else {\n                feedback = \"Correct!\";\n            }\n            if (label.dataset.answered <= 0) {\n                if (fb.dataset.answeredcorrect < 0) {\n                    fb.dataset.answeredcorrect = 1;\n                    reset = true;\n                } else {\n                    fb.dataset.answeredcorrect++;\n                }\n                if (reset) {\n                    for (var i = 0; i < answers.length; i++) {\n                        var child = answers[i];\n                        child.className = \"MCButton\";\n                        child.dataset.answered = 0;\n                    }\n                }\n                label.classList.add(\"correctButton\");\n                label.dataset.answered = 1;\n                fb.className = \"Feedback\";\n                fb.classList.add(\"correct\");\n\n            }\n        } else {\n            if (\"feedback\" in label.dataset) {\n                feedback = jaxify(label.dataset.feedback);\n            } else {\n                feedback = \"Incorrect -- try again.\";\n            }\n            if (fb.dataset.answeredcorrect > 0) {\n                fb.dataset.answeredcorrect = -1;\n                reset = true;\n            } else {\n                fb.dataset.answeredcorrect--;\n            }\n\n            if (reset) {\n                for (var i = 0; i < answers.length; i++) {\n                    var child = answers[i];\n                    child.className = \"MCButton\";\n                    child.dataset.answered = 0;\n                }\n            }\n            label.classList.add(\"incorrectButton\");\n            fb.className = \"Feedback\";\n            fb.classList.add(\"incorrect\");\n        }\n        // What follows is for the saved responses stuff\n        var outerContainer = fb.parentElement.parentElement;\n        var responsesContainer = document.getElementById(\"responses\" + outerContainer.id);\n        if (responsesContainer) {\n            //console.log(responsesContainer);\n            var response = label.firstChild.innerText;\n            if (label.querySelector(\".QuizCode\")){\n                response+= label.querySelector(\".QuizCode\").firstChild.innerText;\n            }\n            console.log(response);\n            //console.log(document.getElementById(\"quizWrap\"+id));\n            var qnum = document.getElementById(\"quizWrap\"+id).dataset.qnum;\n            console.log(\"Question \" + qnum);\n            //console.log(id, \", got numcorrect=\",fb.dataset.numcorrect);\n            var responses=JSON.parse(responsesContainer.dataset.responses);\n            if (label.dataset.correct == \"true\") {\n                if (typeof(responses[qnum]) == \"object\"){\n                    if (!responses[qnum].includes(response))\n                        responses[qnum].push(response);\n                } else{\n                    responses[qnum]= [ response ];\n                }\n            } else {\n                responses[qnum]= response;\n            }\n            console.log(responses);\n            responsesContainer.setAttribute('data-responses', JSON.stringify(responses));\n            printResponses(responsesContainer);\n        }\n        // End save responses stuff\n\n\n\n        var numcorrect = fb.dataset.numcorrect;\n        var answeredcorrect = fb.dataset.answeredcorrect;\n        if (answeredcorrect >= 0) {\n            fb.textContent = feedback + \" [\" + answeredcorrect + \"/\" + numcorrect + \"]\";\n        } else {\n            fb.textContent = feedback + \" [\" + 0 + \"/\" + numcorrect + \"]\";\n        }\n\n\n    }\n\n    if (typeof MathJax != 'undefined') {\n        var version = MathJax.version;\n        console.log('MathJax version', version);\n        if (version[0] == \"2\") {\n            MathJax.Hub.Queue([\"Typeset\", MathJax.Hub]);\n        } else if (version[0] == \"3\") {\n            MathJax.typeset([fb]);\n        }\n    } else {\n        console.log('MathJax not detected');\n    }\n\n}\n\nfunction make_mc(qa, shuffle_answers, outerqDiv, qDiv, aDiv, id) {\n    var shuffled;\n    if (shuffle_answers == \"True\") {\n        //console.log(shuffle_answers+\" read as true\");\n        shuffled = getRandomSubarray(qa.answers, qa.answers.length);\n    } else {\n        //console.log(shuffle_answers+\" read as false\");\n        shuffled = qa.answers;\n    }\n\n\n    var num_correct = 0;\n\n\n\n    shuffled.forEach((item, index, ans_array) => {\n        //console.log(answer);\n\n        // Make input element\n        var inp = document.createElement(\"input\");\n        inp.type = \"radio\";\n        inp.id = \"quizo\" + id + index;\n        inp.style = \"display:none;\";\n        aDiv.append(inp);\n\n        //Make label for input element\n        var lab = document.createElement(\"label\");\n        lab.className = \"MCButton\";\n        lab.id = id + '-' + index;\n        lab.onclick = check_mc;\n        var aSpan = document.createElement('span');\n        aSpan.classsName = \"\";\n        //qDiv.id=\"quizQn\"+id+index;\n        if (\"answer\" in item) {\n            aSpan.innerHTML = jaxify(item.answer);\n            //aSpan.innerHTML=item.answer;\n        }\n        lab.append(aSpan);\n\n        // Create div for code inside question\n        var codeSpan;\n        if (\"code\" in item) {\n            codeSpan = document.createElement('span');\n            codeSpan.id = \"code\" + id + index;\n            codeSpan.className = \"QuizCode\";\n            var codePre = document.createElement('pre');\n            codeSpan.append(codePre);\n            var codeCode = document.createElement('code');\n            codePre.append(codeCode);\n            codeCode.innerHTML = item.code;\n            lab.append(codeSpan);\n            //console.log(codeSpan);\n        }\n\n        //lab.textContent=item.answer;\n\n        // Set the data attributes for the answer\n        lab.setAttribute('data-correct', item.correct);\n        if (item.correct) {\n            num_correct++;\n        }\n        if (\"feedback\" in item) {\n            lab.setAttribute('data-feedback', item.feedback);\n        }\n        lab.setAttribute('data-answered', 0);\n\n        aDiv.append(lab);\n\n    });\n\n    if (num_correct > 1) {\n        outerqDiv.className = \"ManyChoiceQn\";\n    } else {\n        outerqDiv.className = \"MultipleChoiceQn\";\n    }\n\n    return num_correct;\n\n}\nfunction check_numeric(ths, event) {\n\n    if (event.keyCode === 13) {\n        ths.blur();\n\n        var id = ths.id.split('-')[0];\n\n        var submission = ths.value;\n        if (submission.indexOf('/') != -1) {\n            var sub_parts = submission.split('/');\n            //console.log(sub_parts);\n            submission = sub_parts[0] / sub_parts[1];\n        }\n        //console.log(\"Reader entered\", submission);\n\n        if (\"precision\" in ths.dataset) {\n            var precision = ths.dataset.precision;\n            // console.log(\"1:\", submission)\n            submission = Math.round((1 * submission + Number.EPSILON) * 10 ** precision) / 10 ** precision;\n            // console.log(\"Rounded to \", submission, \" precision=\", precision  );\n        }\n\n\n        //console.log(\"In check_numeric(), id=\"+id);\n        //console.log(event.srcElement.id)           \n        //console.log(event.srcElement.dataset.feedback)\n\n        var fb = document.getElementById(\"fb\" + id);\n        fb.style.display = \"none\";\n        fb.textContent = \"Incorrect -- try again.\";\n\n        var answers = JSON.parse(ths.dataset.answers);\n        //console.log(answers);\n\n        var defaultFB = \"\";\n        var correct;\n        var done = false;\n        answers.every(answer => {\n            //console.log(answer.type);\n\n            correct = false;\n            // if (answer.type==\"value\"){\n            if ('value' in answer) {\n                if (submission == answer.value) {\n                    if (\"feedback\" in answer) {\n                        fb.textContent = jaxify(answer.feedback);\n                    } else {\n                        fb.textContent = jaxify(\"Correct\");\n                    }\n                    correct = answer.correct;\n                    //console.log(answer.correct);\n                    done = true;\n                }\n                // } else if (answer.type==\"range\") {\n            } else if ('range' in answer) {\n                //console.log(answer.range);\n                if ((submission >= answer.range[0]) && (submission < answer.range[1])) {\n                    fb.textContent = jaxify(answer.feedback);\n                    correct = answer.correct;\n                    //console.log(answer.correct);\n                    done = true;\n                }\n            } else if (answer.type == \"default\") {\n                defaultFB = answer.feedback;\n            }\n            if (done) {\n                return false; // Break out of loop if this has been marked correct\n            } else {\n                return true; // Keep looking for case that includes this as a correct answer\n            }\n        });\n\n        if ((!done) && (defaultFB != \"\")) {\n            fb.innerHTML = jaxify(defaultFB);\n            //console.log(\"Default feedback\", defaultFB);\n        }\n\n        fb.style.display = \"block\";\n        if (correct) {\n            ths.className = \"Input-text\";\n            ths.classList.add(\"correctButton\");\n            fb.className = \"Feedback\";\n            fb.classList.add(\"correct\");\n        } else {\n            ths.className = \"Input-text\";\n            ths.classList.add(\"incorrectButton\");\n            fb.className = \"Feedback\";\n            fb.classList.add(\"incorrect\");\n        }\n\n        // What follows is for the saved responses stuff\n        var outerContainer = fb.parentElement.parentElement;\n        var responsesContainer = document.getElementById(\"responses\" + outerContainer.id);\n        if (responsesContainer) {\n            console.log(submission);\n            var qnum = document.getElementById(\"quizWrap\"+id).dataset.qnum;\n            //console.log(\"Question \" + qnum);\n            //console.log(id, \", got numcorrect=\",fb.dataset.numcorrect);\n            var responses=JSON.parse(responsesContainer.dataset.responses);\n            console.log(responses);\n            if (submission == ths.value){\n                responses[qnum]= submission;\n            } else {\n                responses[qnum]= ths.value + \"(\" + submission +\")\";\n            }\n            responsesContainer.setAttribute('data-responses', JSON.stringify(responses));\n            printResponses(responsesContainer);\n        }\n        // End code to preserve responses\n\n        if (typeof MathJax != 'undefined') {\n            var version = MathJax.version;\n            console.log('MathJax version', version);\n            if (version[0] == \"2\") {\n                MathJax.Hub.Queue([\"Typeset\", MathJax.Hub]);\n            } else if (version[0] == \"3\") {\n                MathJax.typeset([fb]);\n            }\n        } else {\n            console.log('MathJax not detected');\n        }\n        return false;\n    }\n\n}\n\nfunction isValid(el, charC) {\n    //console.log(\"Input char: \", charC);\n    if (charC == 46) {\n        if (el.value.indexOf('.') === -1) {\n            return true;\n        } else if (el.value.indexOf('/') != -1) {\n            var parts = el.value.split('/');\n            if (parts[1].indexOf('.') === -1) {\n                return true;\n            }\n        }\n        else {\n            return false;\n        }\n    } else if (charC == 47) {\n        if (el.value.indexOf('/') === -1) {\n            if ((el.value != \"\") && (el.value != \".\")) {\n                return true;\n            } else {\n                return false;\n            }\n        } else {\n            return false;\n        }\n    } else if (charC == 45) {\n        var edex = el.value.indexOf('e');\n        if (edex == -1) {\n            edex = el.value.indexOf('E');\n        }\n\n        if (el.value == \"\") {\n            return true;\n        } else if (edex == (el.value.length - 1)) { // If just after e or E\n            return true;\n        } else {\n            return false;\n        }\n    } else if (charC == 101) { // \"e\"\n        if ((el.value.indexOf('e') === -1) && (el.value.indexOf('E') === -1) && (el.value.indexOf('/') == -1)) {\n            // Prev symbol must be digit or decimal point:\n            if (el.value.slice(-1).search(/\\d/) >= 0) {\n                return true;\n            } else if (el.value.slice(-1).search(/\\./) >= 0) {\n                return true;\n            } else {\n                return false;\n            }\n        } else {\n            return false;\n        }\n    } else {\n        if (charC > 31 && (charC < 48 || charC > 57))\n            return false;\n    }\n    return true;\n}\n\nfunction numeric_keypress(evnt) {\n    var charC = (evnt.which) ? evnt.which : evnt.keyCode;\n\n    if (charC == 13) {\n        check_numeric(this, evnt);\n    } else {\n        return isValid(this, charC);\n    }\n}\n\n\n\n\n\nfunction make_numeric(qa, outerqDiv, qDiv, aDiv, id) {\n\n\n\n    //console.log(answer);\n\n\n    outerqDiv.className = \"NumericQn\";\n    aDiv.style.display = 'block';\n\n    var lab = document.createElement(\"label\");\n    lab.className = \"InpLabel\";\n    lab.textContent = \"Type numeric answer here:\";\n    aDiv.append(lab);\n\n    var inp = document.createElement(\"input\");\n    inp.type = \"text\";\n    //inp.id=\"input-\"+id;\n    inp.id = id + \"-0\";\n    inp.className = \"Input-text\";\n    inp.setAttribute('data-answers', JSON.stringify(qa.answers));\n    if (\"precision\" in qa) {\n        inp.setAttribute('data-precision', qa.precision);\n    }\n    aDiv.append(inp);\n    //console.log(inp);\n\n    //inp.addEventListener(\"keypress\", check_numeric);\n    //inp.addEventListener(\"keypress\", numeric_keypress);\n    /*\n    inp.addEventListener(\"keypress\", function(event) {\n        return numeric_keypress(this, event);\n    }\n                        );\n                        */\n    //inp.onkeypress=\"return numeric_keypress(this, event)\";\n    inp.onkeypress = numeric_keypress;\n    inp.onpaste = event => false;\n\n    inp.addEventListener(\"focus\", function (event) {\n        this.value = \"\";\n        return false;\n    }\n    );\n\n\n}\nfunction jaxify(string) {\n    var mystring = string;\n\n    var count = 0;\n    var loc = mystring.search(/([^\\\\]|^)(\\$)/);\n\n    var count2 = 0;\n    var loc2 = mystring.search(/([^\\\\]|^)(\\$\\$)/);\n\n    //console.log(loc);\n\n    while ((loc >= 0) || (loc2 >= 0)) {\n\n        /* Have to replace all the double $$ first with current implementation */\n        if (loc2 >= 0) {\n            if (count2 % 2 == 0) {\n                mystring = mystring.replace(/([^\\\\]|^)(\\$\\$)/, \"$1\\\\[\");\n            } else {\n                mystring = mystring.replace(/([^\\\\]|^)(\\$\\$)/, \"$1\\\\]\");\n            }\n            count2++;\n        } else {\n            if (count % 2 == 0) {\n                mystring = mystring.replace(/([^\\\\]|^)(\\$)/, \"$1\\\\(\");\n            } else {\n                mystring = mystring.replace(/([^\\\\]|^)(\\$)/, \"$1\\\\)\");\n            }\n            count++;\n        }\n        loc = mystring.search(/([^\\\\]|^)(\\$)/);\n        loc2 = mystring.search(/([^\\\\]|^)(\\$\\$)/);\n        //console.log(mystring,\", loc:\",loc,\", loc2:\",loc2);\n    }\n\n    //console.log(mystring);\n    return mystring;\n}\n\n\nfunction show_questions(json, mydiv) {\n    console.log('show_questions');\n    //var mydiv=document.getElementById(myid);\n    var shuffle_questions = mydiv.dataset.shufflequestions;\n    var num_questions = mydiv.dataset.numquestions;\n    var shuffle_answers = mydiv.dataset.shuffleanswers;\n    var max_width = mydiv.dataset.maxwidth;\n\n    if (num_questions > json.length) {\n        num_questions = json.length;\n    }\n\n    var questions;\n    if ((num_questions < json.length) || (shuffle_questions == \"True\")) {\n        //console.log(num_questions+\",\"+json.length);\n        questions = getRandomSubarray(json, num_questions);\n    } else {\n        questions = json;\n    }\n\n    //console.log(\"SQ: \"+shuffle_questions+\", NQ: \" + num_questions + \", SA: \", shuffle_answers);\n\n    // Iterate over questions\n    questions.forEach((qa, index, array) => {\n        //console.log(qa.question); \n\n        var id = makeid(8);\n        //console.log(id);\n\n\n        // Create Div to contain question and answers\n        var iDiv = document.createElement('div');\n        //iDiv.id = 'quizWrap' + id + index;\n        iDiv.id = 'quizWrap' + id;\n        iDiv.className = 'Quiz';\n        iDiv.setAttribute('data-qnum', index);\n        iDiv.style.maxWidth  =max_width+\"px\";\n        mydiv.appendChild(iDiv);\n        // iDiv.innerHTML=qa.question;\n        \n        var outerqDiv = document.createElement('div');\n        outerqDiv.id = \"OuterquizQn\" + id + index;\n        // Create div to contain question part\n        var qDiv = document.createElement('div');\n        qDiv.id = \"quizQn\" + id + index;\n        \n        if (qa.question) {\n            iDiv.append(outerqDiv);\n\n            //qDiv.textContent=qa.question;\n            qDiv.innerHTML = jaxify(qa.question);\n            outerqDiv.append(qDiv);\n        }\n\n        // Create div for code inside question\n        var codeDiv;\n        if (\"code\" in qa) {\n            codeDiv = document.createElement('div');\n            codeDiv.id = \"code\" + id + index;\n            codeDiv.className = \"QuizCode\";\n            var codePre = document.createElement('pre');\n            codeDiv.append(codePre);\n            var codeCode = document.createElement('code');\n            codePre.append(codeCode);\n            codeCode.innerHTML = qa.code;\n            outerqDiv.append(codeDiv);\n            //console.log(codeDiv);\n        }\n\n\n        // Create div to contain answer part\n        var aDiv = document.createElement('div');\n        aDiv.id = \"quizAns\" + id + index;\n        aDiv.className = 'Answer';\n        iDiv.append(aDiv);\n\n        //console.log(qa.type);\n\n        var num_correct;\n        if ((qa.type == \"multiple_choice\") || (qa.type == \"many_choice\") ) {\n            num_correct = make_mc(qa, shuffle_answers, outerqDiv, qDiv, aDiv, id);\n            if (\"answer_cols\" in qa) {\n                //aDiv.style.gridTemplateColumns = 'auto '.repeat(qa.answer_cols);\n                aDiv.style.gridTemplateColumns = 'repeat(' + qa.answer_cols + ', 1fr)';\n            }\n        } else if (qa.type == \"numeric\") {\n            //console.log(\"numeric\");\n            make_numeric(qa, outerqDiv, qDiv, aDiv, id);\n        }\n\n\n        //Make div for feedback\n        var fb = document.createElement(\"div\");\n        fb.id = \"fb\" + id;\n        //fb.style=\"font-size: 20px;text-align:center;\";\n        fb.className = \"Feedback\";\n        fb.setAttribute(\"data-answeredcorrect\", 0);\n        fb.setAttribute(\"data-numcorrect\", num_correct);\n        iDiv.append(fb);\n\n\n    });\n    var preserveResponses = mydiv.dataset.preserveresponses;\n    console.log(preserveResponses);\n    console.log(preserveResponses == \"true\");\n    if (preserveResponses == \"true\") {\n        console.log(preserveResponses);\n        // Create Div to contain record of answers\n        var iDiv = document.createElement('div');\n        iDiv.id = 'responses' + mydiv.id;\n        iDiv.className = 'JCResponses';\n        // Create a place to store responses as an empty array\n        iDiv.setAttribute('data-responses', '[]');\n\n        // Dummy Text\n        iDiv.innerHTML=\"<b>Select your answers and then follow the directions that will appear here.</b>\"\n        //iDiv.className = 'Quiz';\n        mydiv.appendChild(iDiv);\n    }\n//console.log(\"At end of show_questions\");\n    if (typeof MathJax != 'undefined') {\n        console.log(\"MathJax version\", MathJax.version);\n        var version = MathJax.version;\n        setTimeout(function(){\n            var version = MathJax.version;\n            console.log('After sleep, MathJax version', version);\n            if (version[0] == \"2\") {\n                MathJax.Hub.Queue([\"Typeset\", MathJax.Hub]);\n            } else if (version[0] == \"3\") {\n                MathJax.typeset([mydiv]);\n            }\n        }, 500);\nif (typeof version == 'undefined') {\n        } else\n        {\n            if (version[0] == \"2\") {\n                MathJax.Hub.Queue([\"Typeset\", MathJax.Hub]);\n            } else if (version[0] == \"3\") {\n                MathJax.typeset([mydiv]);\n            } else {\n                console.log(\"MathJax not found\");\n            }\n        }\n    }\n    return false;\n}\n/* This is to handle asynchrony issues in loading Jupyter notebooks\n           where the quiz has been previously run. The Javascript was generally\n           being run before the div was added to the DOM. I tried to do this\n           more elegantly using Mutation Observer, but I didn't get it to work.\n\n           Someone more knowledgeable could make this better ;-) */\n\n        function try_show() {\n          if(document.getElementById(\"oOZSHCoHPbzR\")) {\n            show_questions(questionsoOZSHCoHPbzR,  oOZSHCoHPbzR); \n          } else {\n             setTimeout(try_show, 200);\n          }\n        };\n    \n        {\n        // console.log(element);\n\n        //console.log(\"oOZSHCoHPbzR\");\n        // console.log(document.getElementById(\"oOZSHCoHPbzR\"));\n\n        try_show();\n        }\n        ",
      "text/plain": [
       "<IPython.core.display.Javascript object>"
      ]
     },
     "metadata": {},
     "output_type": "display_data"
    }
   ],
   "source": [
    "display_quiz(\"./Question/T5_Q1.json\")"
   ]
  },
  {
   "cell_type": "markdown",
   "id": "29fd72bc",
   "metadata": {},
   "source": [
    "</details>\n",
    "\n",
    "<details><summary>Q1【点击提示】</summary>\n",
    "    \n",
    "   请运行一下code来进行验证。\n",
    "<code>\n",
    "k = alpha * n_train # The relation between alpha and k\n",
    "print(\"The parameters in the ridge regression are \", np.around(np.linalg.inv(X_train_standardized.T @ X_train_standardized + k * np.eye(p)) @ X_train_standardized.T @ Y_train_centered,2))\n",
    "</code>\n",
    "</details>"
   ]
  },
  {
   "cell_type": "code",
   "execution_count": 21,
   "id": "1a2f851c",
   "metadata": {},
   "outputs": [],
   "source": [
    "alpha_num = 100\n",
    "alpha_vec = np.array(list(range(0,alpha_num)))/alpha_num/1000\n",
    "RR_coef = []\n",
    "RR_vif = []\n",
    "\n",
    "for alpha in alpha_vec:\n",
    "    rr_model = sm.OLS(Y_train_centered,X_train_standardized).fit_regularized(L1_wt=0,alpha = alpha)\n",
    "    rr_coef = rr_model.params\n",
    "    RR_coef.append(rr_coef)"
   ]
  },
  {
   "cell_type": "markdown",
   "id": "641e4264",
   "metadata": {},
   "source": [
    "如何确定最优的超参数？这是岭回归模型中一个重要的问题。\n",
    "\n",
    "我们可以绘制岭迹图，具体如下："
   ]
  },
  {
   "cell_type": "code",
   "execution_count": 22,
   "id": "b402f054",
   "metadata": {},
   "outputs": [
    {
     "data": {
      "text/plain": [
       "<matplotlib.legend.Legend at 0x1feed04dd90>"
      ]
     },
     "execution_count": 22,
     "metadata": {},
     "output_type": "execute_result"
    },
    {
     "data": {
      "image/png": "[encoded data removed]",
      "text/plain": [
       "<Figure size 432x288 with 1 Axes>"
      ]
     },
     "metadata": {
      "needs_background": "light"
     },
     "output_type": "display_data"
    }
   ],
   "source": [
    "for i in range(p):\n",
    "    plt.plot(alpha_vec, np.array(RR_coef)[:,i],label = \"X%d\"%(i+1))\n",
    "\n",
    "plt.axis([-0.00005,0.0008,-6000,8000])    \n",
    "plt.legend(loc=\"right\",bbox_to_anchor=(1.25,0.5),borderaxespad=1)\n"
   ]
  },
  {
   "cell_type": "markdown",
   "id": "8b459b7b",
   "metadata": {},
   "source": [
    "同时，我们可以通过计算不同k（alpha）下的VIF值，当VIF符合临界值条件，且为最小的k（alpha），就是我们所选择的超参数。"
   ]
  },
  {
   "cell_type": "code",
   "execution_count": 23,
   "id": "0d348612",
   "metadata": {},
   "outputs": [
    {
     "name": "stdout",
     "output_type": "stream",
     "text": [
      "The chosen value of alpha is 0.0001\n"
     ]
    }
   ],
   "source": [
    "C_k = []\n",
    "for alpha in alpha_vec:\n",
    "    k = alpha * n_train\n",
    "    c_k = np.linalg.inv(X_train_standardized.T @ X_train_standardized + k * np.eye(p)) @ X_train_standardized.T @ X_train_standardized @ np.linalg.inv(X_train_standardized.T @ X_train_standardized + k * np.eye(p))\n",
    "    C_k.append(np.mean(np.diag(c_k)))\n",
    "\n",
    "alpha_best = alpha_vec[np.min(np.where(np.array(C_k) < vif_cv))]\n",
    "print(\"The chosen value of alpha is\", alpha_best)"
   ]
  },
  {
   "cell_type": "markdown",
   "id": "edbe93c1",
   "metadata": {},
   "source": [
    "我们重新构建了在最优的k（或者alpha）时的岭回归估计，如下："
   ]
  },
  {
   "cell_type": "code",
   "execution_count": 24,
   "id": "6df9cbe6",
   "metadata": {},
   "outputs": [],
   "source": [
    "model_rr_best = sm.OLS(Y_train_centered,X_train_standardized).fit_regularized(L1_wt=0,alpha = alpha_best)\n",
    "model_rr_best_coef = model_rr_best.params"
   ]
  },
  {
   "cell_type": "markdown",
   "id": "24b9ad4f",
   "metadata": {},
   "source": [
    "这里我们得到的估计，记为$\\hat{\\mathbf{\\beta}}^{\\text{rr}}$"
   ]
  },
  {
   "cell_type": "markdown",
   "id": "3c43332e",
   "metadata": {},
   "source": [
    "### Task 3：如何构建主成分回归模型？\n",
    "\n",
    "在PCR模型中，第一步需要构建特征的主成分。"
   ]
  },
  {
   "cell_type": "code",
   "execution_count": 25,
   "id": "8d31df31",
   "metadata": {},
   "outputs": [
    {
     "name": "stdout",
     "output_type": "stream",
     "text": [
      "The percentages of total variance are [7.2985e+00 3.9851e+00 1.7352e+00 9.1210e-01 6.8070e-01 5.5120e-01\n",
      " 2.6490e-01 1.8050e-01 1.2800e-01 1.0050e-01 6.0000e-02 5.3300e-02\n",
      " 2.8200e-02 1.6100e-02 4.4000e-03 1.3000e-03]\n"
     ]
    }
   ],
   "source": [
    "model_pca = PCA(X_train_standardized,standardize = False, demean = True)\n",
    "model_pca_cr = model_pca.eigenvals # contribution rate of each component\n",
    "print(\"The percentages of total variance are\", np.around(model_pca_cr,4))"
   ]
  },
  {
   "cell_type": "markdown",
   "id": "5063a810",
   "metadata": {},
   "source": [
    "以上计算的就是$\\mathbf{X}'\\mathbf{X}$的特征值，也被称为每个主成分的贡献率。通过以下代码可以进行验证。"
   ]
  },
  {
   "cell_type": "code",
   "execution_count": 26,
   "id": "26b2f58b",
   "metadata": {},
   "outputs": [
    {
     "name": "stdout",
     "output_type": "stream",
     "text": [
      "The eigen values of X'X are  [7.2985e+00 3.9851e+00 1.7352e+00 9.1210e-01 6.8070e-01 5.5120e-01\n",
      " 2.6490e-01 1.8050e-01 1.2800e-01 1.0050e-01 6.0000e-02 5.3300e-02\n",
      " 2.8200e-02 1.6100e-02 4.4000e-03 1.3000e-03]\n"
     ]
    }
   ],
   "source": [
    "Corr_Mat = X_train_standardized.T @ X_train_standardized\n",
    "Lambda, V = np.linalg.eig(Corr_Mat)\n",
    "Lambda = sorted(Lambda,reverse = True)\n",
    "print(\"The eigen values of X'X are \", np.around(Lambda,4))\n"
   ]
  },
  {
   "cell_type": "markdown",
   "id": "cf0e0f7f",
   "metadata": {},
   "source": [
    "和岭回归模型中的超参数k（或alpha）一样，主成分分析中主成分个数也是一个超参数。如何选择主成分的个数也是一个重要的问题。\n",
    "\n",
    "在主成分分析中，我们可以绘制scree plot来作出主成分个数的主观判断。"
   ]
  },
  {
   "cell_type": "code",
   "execution_count": 27,
   "id": "601c6878",
   "metadata": {},
   "outputs": [
    {
     "data": {
      "image/png": "[encoded data removed]",
      "text/plain": [
       "<Figure size 432x288 with 1 Axes>"
      ]
     },
     "metadata": {
      "needs_background": "light"
     },
     "output_type": "display_data"
    }
   ],
   "source": [
    "fig = model_pca.plot_scree(log_scale = False)"
   ]
  },
  {
   "cell_type": "markdown",
   "id": "5d5646e9",
   "metadata": {},
   "source": [
    "除此之外，我们还可以计算每增加一个主成分后，对信息**增量**是多少？我们可以计算累积贡献率。"
   ]
  },
  {
   "cell_type": "code",
   "execution_count": 28,
   "id": "35d53c44",
   "metadata": {},
   "outputs": [
    {
     "name": "stdout",
     "output_type": "stream",
     "text": [
      "The cummulative percentages of total variance are [0.4562 0.7052 0.8137 0.8707 0.9132 0.9477 0.9642 0.9755 0.9835 0.9898\n",
      " 0.9935 0.9969 0.9986 0.9996 0.9999 1.    ]\n"
     ]
    },
    {
     "data": {
      "image/png": "[encoded data removed]",
      "text/plain": [
       "<Figure size 432x288 with 1 Axes>"
      ]
     },
     "metadata": {
      "needs_background": "light"
     },
     "output_type": "display_data"
    }
   ],
   "source": [
    "model_pca_ccr = np.cumsum(model_pca_cr)/p # cummulative contribution rate\n",
    "print(\"The cummulative percentages of total variance are\", np.around(model_pca_ccr,4))\n",
    "\n",
    "fig = model_pca.plot_scree(log_scale = False)"
   ]
  },
  {
   "cell_type": "markdown",
   "id": "bac2523d",
   "metadata": {},
   "source": [
    "我们选取主成分时需要其累积贡献率达到85%，即"
   ]
  },
  {
   "cell_type": "code",
   "execution_count": 29,
   "id": "64f4a841",
   "metadata": {},
   "outputs": [],
   "source": [
    "pca_cv = 0.90"
   ]
  },
  {
   "cell_type": "code",
   "execution_count": 30,
   "id": "432a518e",
   "metadata": {},
   "outputs": [
    {
     "name": "stdout",
     "output_type": "stream",
     "text": [
      "The appropriate number of component is 5\n"
     ]
    }
   ],
   "source": [
    "num_pca = np.min(np.where(model_pca_ccr > pca_cv))\n",
    "print(\"The appropriate number of component is\", (num_pca+1))\n"
   ]
  },
  {
   "cell_type": "markdown",
   "id": "1ed96107",
   "metadata": {},
   "source": [
    "在确定主成分个数后，我们构建**新**特征（即主成分）代替原始特征，并拟合回归模型后。在通过线性变换，来估计主成分回归中的参数。"
   ]
  },
  {
   "cell_type": "code",
   "execution_count": 31,
   "id": "0929fcbc",
   "metadata": {},
   "outputs": [],
   "source": [
    "model_pca_selected = PCA(X_train_standardized,  standardize = False,  demean = True)\n",
    "V = model_pca_selected.loadings\n",
    "Z_train_standardized= X_train_standardized @ V[:,0:(num_pca+1)]\n",
    "model_pcr = sm.OLS(Y_train_centered, Z_train_standardized).fit()\n",
    "model_pcr_coef = V.T @ np.pad(model_pcr.params,(0,p-(num_pca+1)))\n"
   ]
  },
  {
   "cell_type": "markdown",
   "id": "cc6a4a14",
   "metadata": {},
   "source": [
    "这里我们得到的估计，记为$\\hat{\\mathbf{\\beta}}^{\\text{prc}}$"
   ]
  },
  {
   "cell_type": "markdown",
   "id": "7597a06d",
   "metadata": {},
   "source": [
    "### Task 4：比较三个模型预测结果\n",
    "\n",
    "由于这个问题是一个回归问题，我们采用RMSE来作为衡量指标，即\n",
    "$$\n",
    "RMSE = \\sqrt{n^{-1}\\sum_{i=1}^n (\\hat{y}_i - y_i)^2}\n",
    "$$"
   ]
  },
  {
   "cell_type": "markdown",
   "id": "8d73fe77",
   "metadata": {},
   "source": [
    "第一，我们先构建线性回归模型。对于每一个数据$(\\mathbf{x}_i,y_i)$，线性回归模型的预测结果为\n",
    "$$\n",
    "y_i^{\\text{ols}} = \\hat{\\beta}_0 + \\mathbf{x}_i \\hat{\\mathbf{\\beta}}^{\\text{ols}}\n",
    "$$\n",
    "这里\n",
    "- $\\hat{\\beta}_0$采用训练集中响应变量的样本均值来估计；\n",
    "- $\\hat{\\mathbf{\\beta}}^{\\text{ols}}$采用最小二乘估计；"
   ]
  },
  {
   "cell_type": "code",
   "execution_count": 32,
   "id": "b0898c6c",
   "metadata": {},
   "outputs": [
    {
     "name": "stdout",
     "output_type": "stream",
     "text": [
      "The RMSE in the ordinary regression is 591.1203\n"
     ]
    }
   ],
   "source": [
    "model_ols_coef = model_ols.params \n",
    "Y_pred_ols = Y_train_mean + X_test_standardized @ model_ols_coef\n",
    "ols_rmse = np.sqrt(np.mean((Y_pred_ols-Y_test)**2))\n",
    "print(\"The RMSE in the ordinary regression is\", round(ols_rmse,4))"
   ]
  },
  {
   "cell_type": "markdown",
   "id": "213ee412",
   "metadata": {},
   "source": [
    "第二，我们再构建岭回归模型。对于每一个数据$(\\mathbf{x}_i,y_i)$，岭回归模型的预测结果为\n",
    "$$\n",
    "y_i^{\\text{rr}} = \\hat{\\beta}_0 + \\mathbf{x}_i \\hat{\\mathbf{\\beta}}^{\\text{rr}}\n",
    "$$\n",
    "这里\n",
    "- $\\hat{\\beta}_0$采用训练集中响应变量的样本均值来估计；\n",
    "- $\\hat{\\mathbf{\\beta}}^{\\text{rr}}$采用岭回归估计；\n"
   ]
  },
  {
   "cell_type": "code",
   "execution_count": 33,
   "id": "07e8d12f",
   "metadata": {},
   "outputs": [
    {
     "name": "stdout",
     "output_type": "stream",
     "text": [
      "The RMSE in the ridge regression is 566.0067\n"
     ]
    }
   ],
   "source": [
    "Y_pred_rr = Y_train_mean + X_test_standardized @ model_rr_best_coef\n",
    "rr_rmse = np.sqrt(np.mean((Y_pred_rr-Y_test)**2))\n",
    "\n",
    "print(\"The RMSE in the ridge regression is\", round(rr_rmse,4))\n",
    "    "
   ]
  },
  {
   "cell_type": "markdown",
   "id": "e68b9640",
   "metadata": {},
   "source": [
    "第三，我们最后构建主成分回归模型。对于每一个数据$(\\mathbf{x}_i,y_i)$，主成分回归模型的预测结果为\n",
    "$$\n",
    "y_i^{\\text{pcr}} = \\hat{\\beta}_0 + \\mathbf{x}_i \\hat{\\mathbf{\\beta}}^{\\text{pcr}}\n",
    "$$\n",
    "这里\n",
    "- $\\hat{\\beta}_0$采用训练集中响应变量的样本均值来估计；\n",
    "- $\\hat{\\mathbf{\\beta}}^{\\text{pcrr}}$采用主成分回归估计；\n"
   ]
  },
  {
   "cell_type": "code",
   "execution_count": 34,
   "id": "511abe76",
   "metadata": {},
   "outputs": [
    {
     "name": "stdout",
     "output_type": "stream",
     "text": [
      "The RMSE in the principal component regression is 557.6217\n"
     ]
    }
   ],
   "source": [
    "Y_pred_pcr = Y_train_mean + X_test_standardized @ model_pcr_coef\n",
    "pcr_rmse = np.sqrt(np.mean((Y_pred_pcr-Y_test)**2))\n",
    "\n",
    "print(\"The RMSE in the principal component regression is\", round(pcr_rmse,4))"
   ]
  },
  {
   "cell_type": "markdown",
   "id": "c0bce265",
   "metadata": {},
   "source": [
    "从预测的角度来看，岭回归模型和主成分回归模型均优于普通线性回归模型。"
   ]
  },
  {
   "cell_type": "markdown",
   "id": "969a615d",
   "metadata": {},
   "source": [
    "## Reference\n",
    "[1] 棒球规则速成！从棒球小白到棒球通你只需要点开这个视频【棒球101合集】网址：https://www.bilibili.com/video/BV1Fa411P7P7/?spm_id_from=333.337.search-card.all.click&vd_source=1c65b0c7684a3149a7392f98602a49b4\n",
    "\n",
    "[2] Izenman A J. Modern multivariate statistical techniques[J]. Regression, classification and manifold learning, 2008, 10: 978-0.\n",
    "\n",
    "[3] Zou H, Hastie T. Regularization and variable selection via the elastic net[J]. Journal of the royal statistical society: series B (statistical methodology), 2005, 67(2): 301-320."
   ]
  }
 ],
 "metadata": {
  "kernelspec": {
   "display_name": "Python 3 (ipykernel)",
   "language": "python",
   "name": "python3"
  },
  "language_info": {
   "codemirror_mode": {
    "name": "ipython",
    "version": 3
   },
   "file_extension": ".py",
   "mimetype": "text/x-python",
   "name": "python",
   "nbconvert_exporter": "python",
   "pygments_lexer": "ipython3",
   "version": "3.9.12"
  }
 },
 "nbformat": 4,
 "nbformat_minor": 5
}

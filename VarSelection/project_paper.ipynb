{
 "cells": [
  {
   "cell_type": "code",
   "execution_count": 5,
   "metadata": {
    "is_executing": true
   },
   "outputs": [],
   "source": [
    "import numpy as np\n",
    "import cmath\n",
    "from scipy.optimize import curve_fit\n",
    "import tensorflow as tf\n",
    "from tensorflow import keras"
   ]
  },
  {
   "cell_type": "code",
   "execution_count": 2,
   "metadata": {
    "ExecuteTime": {
     "end_time": "2023-10-16T06:50:42.056917300Z",
     "start_time": "2023-10-16T06:50:42.021916800Z"
    }
   },
   "outputs": [],
   "source": [
    "# 下载数据集\n",
    "minist = tf.keras.datasets.mnist\n",
    "(train_x, train_y), (test_x, test_y) = minist.load_data()"
   ]
  },
  {
   "cell_type": "code",
   "execution_count": 3,
   "metadata": {},
   "outputs": [
    {
     "name": "stdout",
     "output_type": "stream",
     "text": [
      "Training set: 60000\n",
      "Testing set: 10000\n"
     ]
    }
   ],
   "source": [
    "# 输出数据相关信息\n",
    "print(\"Training set:\", len(train_x))\n",
    "print(\"Testing set:\", len(test_x))"
   ]
  },
  {
   "cell_type": "code",
   "execution_count": 4,
   "metadata": {},
   "outputs": [
    {
     "name": "stdout",
     "output_type": "stream",
     "text": [
      "train_x (60000, 28, 28) uint8\n",
      "train_y (60000,) uint8\n"
     ]
    }
   ],
   "source": [
    "print(\"train_x\", train_x.shape, train_x.dtype)\n",
    "print(\"train_y\", train_y.shape, train_y.dtype)\n",
    "shape0, shape1, shape2 = train_x.shape"
   ]
  },
  {
   "cell_type": "code",
   "execution_count": 6,
   "metadata": {},
   "outputs": [
    {
     "name": "stdout",
     "output_type": "stream",
     "text": [
      "(60000, 784)\n"
     ]
    }
   ],
   "source": [
    "new_train_x = np.zeros((shape0, shape1 * shape2))\n",
    "for i in range(shape0):\n",
    "    new_train_x[i] = train_x[i].flatten()\n",
    "print(new_train_x.shape)"
   ]
  },
  {
   "cell_type": "markdown",
   "metadata": {},
   "source": [
    "Given data $(x_1,y_1), \\cdots, (x_n,y_n)$ from $\\mathbb{R}^d \\times \\mathbb{R}$, we find the predictor $h_{n,N} \\in \\mathcal{H}_N$ via ERM with squared loss."
   ]
  },
  {
   "cell_type": "code",
   "execution_count": 25,
   "metadata": {},
   "outputs": [],
   "source": [
    "class RFF:\n",
    "    __d = 0\n",
    "    __N = 0\n",
    "    \n",
    "    def __init__(self, d: int, N: int) -> None:\n",
    "        self.__d = d\n",
    "        self.__N = N\n",
    "\n",
    "    @classmethod\n",
    "    def fit(self, x: np.ndarray, y: np.ndarray):\n",
    "        return curve_fit(self.__h, x, y)\n",
    "\n",
    "    @classmethod\n",
    "    def __phi(self, x: np.ndarray, v: np.ndarray) -> any:\n",
    "        '''\n",
    "        The kernel function\n",
    "\n",
    "        Input:\n",
    "        - x: The input data\n",
    "        - v: The auxiliary matrix\n",
    "\n",
    "        Returns:\n",
    "        - The result of the function\n",
    "        '''\n",
    "\n",
    "        return np.exp(cmath.sqrt(-1) * np.dot(v, x))\n",
    "    \n",
    "    @classmethod\n",
    "    def __h(self, x: np.ndarray, a: np.ndarray) -> int:\n",
    "        '''\n",
    "        Map the input image to its label with Random Fourier Features.\n",
    "\n",
    "        Inputs:\n",
    "        - x: The matrix of the image\n",
    "        - N: The number of features \n",
    "        - a: The array of parameters\n",
    "\n",
    "        Returns:\n",
    "        - The predicted label\n",
    "        '''\n",
    "\n",
    "        v = np.random.randn(self.__N, self.__d)\n",
    "        result = 0\n",
    "        for i in range(self.__N):\n",
    "            result += (a[i] * self.__phi(x, v[i]))\n",
    "        return result"
   ]
  },
  {
   "cell_type": "code",
   "execution_count": 8,
   "metadata": {},
   "outputs": [],
   "source": [
    "d = train_x.shape[1] * train_x.shape[2] # 数据维度\n",
    "maxN = 10 # 设置最大特征数"
   ]
  },
  {
   "cell_type": "code",
   "execution_count": 26,
   "metadata": {},
   "outputs": [],
   "source": [
    "rff = RFF(d, 10)\n",
    "result = rff.fit(new_train_x, train_y)"
   ]
  },
  {
   "cell_type": "code",
   "execution_count": null,
   "metadata": {},
   "outputs": [],
   "source": []
  },
  {
   "cell_type": "code",
   "execution_count": 6,
   "metadata": {},
   "outputs": [
    {
     "name": "stdout",
     "output_type": "stream",
     "text": [
      "Epoch 1/5\n",
      "1875/1875 [==============================] - 3s 2ms/step - loss: 736076160.0000 - accuracy: 0.1119\n",
      "Epoch 2/5\n",
      "1875/1875 [==============================] - 3s 2ms/step - loss: 2.3013 - accuracy: 0.1124\n",
      "Epoch 3/5\n",
      "1875/1875 [==============================] - 3s 2ms/step - loss: 2.3013 - accuracy: 0.1124\n",
      "Epoch 4/5\n",
      "1875/1875 [==============================] - 3s 2ms/step - loss: 2.3013 - accuracy: 0.1124\n",
      "Epoch 5/5\n",
      "1875/1875 [==============================] - 3s 2ms/step - loss: 2.3013 - accuracy: 0.1124\n"
     ]
    }
   ],
   "source": [
    "model = keras.models.Sequential()\n",
    "model.add(keras.layers.Flatten(input_shape=[shape1, shape2]))\n",
    "model.add(keras.layers.Dense(300, activation=\"relu\"))\n",
    "model.add(keras.layers.Dense(100, activation=\"relu\"))\n",
    "model.add(keras.layers.Dense(10, activation=\"softmax\"))\n",
    "model.compile(\n",
    "    loss=\"sparse_categorical_crossentropy\",\n",
    "    optimizer=\"sgd\",\n",
    "    metrics=[\"accuracy\"]\n",
    ")\n",
    "history = model.fit(train_x, train_y, epochs=5)"
   ]
  },
  {
   "cell_type": "code",
   "execution_count": 7,
   "metadata": {},
   "outputs": [
    {
     "name": "stdout",
     "output_type": "stream",
     "text": [
      "313/313 [==============================] - 0s 1ms/step - loss: 2.5490 - accuracy: 0.1135\n"
     ]
    },
    {
     "data": {
      "text/plain": [
       "[2.549006462097168, 0.11349999904632568]"
      ]
     },
     "execution_count": 7,
     "metadata": {},
     "output_type": "execute_result"
    }
   ],
   "source": [
    "model.evaluate(test_x, test_y)"
   ]
  },
  {
   "cell_type": "code",
   "execution_count": null,
   "metadata": {},
   "outputs": [],
   "source": []
  }
 ],
 "metadata": {
  "kernelspec": {
   "display_name": "tensorflow",
   "language": "python",
   "name": "python3"
  },
  "language_info": {
   "codemirror_mode": {
    "name": "ipython",
    "version": 3
   },
   "file_extension": ".py",
   "mimetype": "text/x-python",
   "name": "python",
   "nbconvert_exporter": "python",
   "pygments_lexer": "ipython3",
   "version": "3.9.0"
  }
 },
 "nbformat": 4,
 "nbformat_minor": 2
}

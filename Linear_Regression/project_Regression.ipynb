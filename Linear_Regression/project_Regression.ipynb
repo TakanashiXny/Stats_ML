{
 "cells": [
  {
   "cell_type": "code",
   "execution_count": 1,
   "metadata": {},
   "outputs": [],
   "source": [
    "import os # 修改工作目录\n",
    "\n",
    "import numpy as np\n",
    "import pandas as pd\n",
    "import scipy.stats as stats\n",
    "import matplotlib.pyplot as plt\n",
    "from sklearn.linear_model import LinearRegression\n",
    "from jupyterquiz import display_quiz\n",
    "\n",
    "import statsmodels.api as sm\n",
    "from statsmodels.formula.api import ols\n",
    "from statsmodels.stats.anova import anova_lm\n",
    "from scipy.stats import f\n",
    "from scipy.stats import t\n",
    "\n",
    "from sklearn import datasets, linear_model\n",
    "from sklearn.metrics import mean_squared_error, r2_score\n",
    "from sklearn import preprocessing"
   ]
  },
  {
   "cell_type": "markdown",
   "metadata": {},
   "source": [
    "## 导入数据"
   ]
  },
  {
   "cell_type": "code",
   "execution_count": 2,
   "metadata": {},
   "outputs": [
    {
     "name": "stdout",
     "output_type": "stream",
     "text": [
      "    rpm  Road Octane Number  Compression  Brake Horsepower\n",
      "0  2000                  90          100               225\n",
      "1  1800                  94           95               212\n",
      "2  2400                  88          110               229\n",
      "3  1900                  91           96               222\n",
      "4  1600                  86          100               219\n"
     ]
    }
   ],
   "source": [
    "Data = pd.read_csv(\"Project_3.csv\")\n",
    "print(Data.head())"
   ]
  },
  {
   "cell_type": "markdown",
   "metadata": {},
   "source": [
    "## 参数设置"
   ]
  },
  {
   "cell_type": "code",
   "execution_count": 3,
   "metadata": {},
   "outputs": [
    {
     "name": "stdout",
     "output_type": "stream",
     "text": [
      "The number of instances is  12\n",
      "The number of features is  3\n"
     ]
    }
   ],
   "source": [
    "alpha = 0.05\n",
    "\n",
    "# 数据规模\n",
    "n = Data.shape[0]\n",
    "p = Data.shape[1] - 1\n",
    "print(\"The number of instances is \", n)\n",
    "print(\"The number of features is \", p)"
   ]
  },
  {
   "cell_type": "markdown",
   "metadata": {},
   "source": [
    "### Task1 请用多元线性回归模型，描述制动马力和发动机转速、道路辛烷值以及压缩值之间的函数关系。"
   ]
  },
  {
   "cell_type": "code",
   "execution_count": 4,
   "metadata": {},
   "outputs": [
    {
     "name": "stdout",
     "output_type": "stream",
     "text": [
      "The estimates of the parameters are \n",
      " [-2.660312e+02  1.070000e-02  3.134800e+00  1.867400e+00]\n"
     ]
    }
   ],
   "source": [
    "## Method 1: Matrix Calculus\n",
    "Data1 = sm.add_constant(Data)\n",
    "Data1_value = Data1.values\n",
    "X = Data1_value[:,0:(p+1)]\n",
    "y = Data1_value[:,-1]\n",
    "beta_hat_1 = np.linalg.inv(X.T @ X) @ (X.T @ y)\n",
    "# A @ B <=> np.dot(A,B) matrix multiply\n",
    "\n",
    "print(\"The estimates of the parameters are \\n\", \n",
    "      np.around(beta_hat_1,4))"
   ]
  },
  {
   "cell_type": "code",
   "execution_count": null,
   "metadata": {},
   "outputs": [],
   "source": []
  }
 ],
 "metadata": {
  "kernelspec": {
   "display_name": "base",
   "language": "python",
   "name": "python3"
  },
  "language_info": {
   "codemirror_mode": {
    "name": "ipython",
    "version": 3
   },
   "file_extension": ".py",
   "mimetype": "text/x-python",
   "name": "python",
   "nbconvert_exporter": "python",
   "pygments_lexer": "ipython3",
   "version": "3.9.12"
  }
 },
 "nbformat": 4,
 "nbformat_minor": 2
}

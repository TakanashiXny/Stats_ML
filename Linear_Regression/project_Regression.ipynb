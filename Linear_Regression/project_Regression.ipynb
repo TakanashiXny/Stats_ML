{
 "cells": [
  {
   "cell_type": "code",
   "execution_count": 1,
   "metadata": {},
   "outputs": [],
   "source": [
    "import os # 修改工作目录\n",
    "\n",
    "import numpy as np\n",
    "import pandas as pd\n",
    "import scipy.stats as stats\n",
    "import matplotlib.pyplot as plt\n",
    "from sklearn.linear_model import LinearRegression\n",
    "from jupyterquiz import display_quiz\n",
    "\n",
    "import statsmodels.api as sm\n",
    "from statsmodels.formula.api import ols\n",
    "from statsmodels.stats.anova import anova_lm\n",
    "from statsmodels.stats.stattools import durbin_watson\n",
    "from scipy.stats import f\n",
    "from scipy.stats import t\n",
    "\n",
    "from sklearn import datasets, linear_model\n",
    "from sklearn.metrics import mean_squared_error, r2_score\n",
    "from sklearn import preprocessing\n",
    "plt.rcParams['font.sans-serif'] = ['SimHei']\t# 显示中文\n",
    "plt.rcParams['axes.unicode_minus'] = False\t\t# 显示负号"
   ]
  },
  {
   "cell_type": "markdown",
   "metadata": {},
   "source": [
    "## 导入数据"
   ]
  },
  {
   "cell_type": "code",
   "execution_count": 2,
   "metadata": {},
   "outputs": [
    {
     "name": "stdout",
     "output_type": "stream",
     "text": [
      "     x1  x2   x3    Y\n",
      "0  2000  90  100  225\n",
      "1  1800  94   95  212\n",
      "2  2400  88  110  229\n",
      "3  1900  91   96  222\n",
      "4  1600  86  100  219\n"
     ]
    }
   ],
   "source": [
    "Data = pd.read_csv(\"Project_3.csv\").set_axis([\"x1\", \"x2\", \"x3\", \"Y\"], axis=\"columns\")\n",
    "print(Data.head())"
   ]
  },
  {
   "cell_type": "markdown",
   "metadata": {},
   "source": [
    "## 参数设置"
   ]
  },
  {
   "cell_type": "code",
   "execution_count": 3,
   "metadata": {},
   "outputs": [
    {
     "name": "stdout",
     "output_type": "stream",
     "text": [
      "The number of instances is  12\n",
      "The number of features is  3\n"
     ]
    }
   ],
   "source": [
    "alpha = 0.05\n",
    "\n",
    "# 数据规模\n",
    "n = Data.shape[0]\n",
    "p = Data.shape[1] - 1\n",
    "print(\"The number of instances is \", n)\n",
    "print(\"The number of features is \", p)"
   ]
  },
  {
   "cell_type": "markdown",
   "metadata": {},
   "source": [
    "### Task1 请用多元线性回归模型，描述制动马力和发动机转速、道路辛烷值以及压缩值之间的函数关系。"
   ]
  },
  {
   "cell_type": "code",
   "execution_count": 4,
   "metadata": {},
   "outputs": [
    {
     "name": "stdout",
     "output_type": "stream",
     "text": [
      "The estimates of the parameters are \n",
      " [-2.660312e+02  1.070000e-02  3.134800e+00  1.867400e+00]\n"
     ]
    }
   ],
   "source": [
    "## Method 1: Matrix Calculus\n",
    "Data1 = sm.add_constant(Data)\n",
    "Data1_value = Data1.values\n",
    "X = Data1_value[:,0:(p+1)]\n",
    "y = Data1_value[:,-1]\n",
    "beta_hat_1 = np.linalg.inv(X.T @ X) @ (X.T @ y)\n",
    "# A @ B <=> np.dot(A,B) matrix multiply\n",
    "\n",
    "print(\"The estimates of the parameters are \\n\", \n",
    "      np.around(beta_hat_1,4))"
   ]
  },
  {
   "cell_type": "markdown",
   "metadata": {},
   "source": [
    "可以得到截距项为-266.0312, 发动机转速对应的系数为0.0107, 道路辛烷值对应的系数为3.1348, 压缩值对应的系数为1.8674"
   ]
  },
  {
   "cell_type": "code",
   "execution_count": 5,
   "metadata": {},
   "outputs": [
    {
     "name": "stdout",
     "output_type": "stream",
     "text": [
      "The estimates of the parameters are \n",
      " [-2.660312e+02  1.070000e-02  3.134800e+00  1.867400e+00]\n"
     ]
    }
   ],
   "source": [
    "## Method 3: 「scikit-learn」package\n",
    "model = linear_model.LinearRegression()\n",
    "X_without_intercept = X[:,1:p+1]\n",
    "model.fit(X_without_intercept, y)\n",
    "beta_hat = np.append(np.array(model.intercept_),model.coef_)\n",
    "print(\"The estimates of the parameters are \\n\", \n",
    "      np.around(beta_hat,4))"
   ]
  },
  {
   "cell_type": "markdown",
   "metadata": {},
   "source": [
    "直接调用机器学习相关包得到相同的结果"
   ]
  },
  {
   "cell_type": "markdown",
   "metadata": {},
   "source": [
    "### Task2 分别将数据中心化、标准化之后，比较参数估计的异同，并进行评述（提示：可以结合理论课的课件）。"
   ]
  },
  {
   "cell_type": "code",
   "execution_count": 6,
   "metadata": {},
   "outputs": [
    {
     "name": "stdout",
     "output_type": "stream",
     "text": [
      "The sample means of centered features are  [-0. -0.  0.]\n",
      "The sample mean of centered response is  0.0\n"
     ]
    }
   ],
   "source": [
    "## 中心化\n",
    "X_center = preprocessing.scale(X_without_intercept, with_mean = True, with_std=False)\n",
    "y_center = preprocessing.scale(y, with_mean = True, with_std=False)\n",
    "\n",
    "print(\"The sample means of centered features are \", np.around(np.mean(X_center,axis=0),4))\n",
    "print(\"The sample mean of centered response is \", np.around(np.mean(y_center,axis=0),4))"
   ]
  },
  {
   "cell_type": "markdown",
   "metadata": {},
   "source": [
    "均值为0，中心化成功"
   ]
  },
  {
   "cell_type": "code",
   "execution_count": 7,
   "metadata": {},
   "outputs": [
    {
     "name": "stdout",
     "output_type": "stream",
     "text": [
      "The estimates of the parameters are \n",
      " [0.     0.0107 3.1348 1.8674]\n"
     ]
    }
   ],
   "source": [
    "model_center = linear_model.LinearRegression()\n",
    "model_center.fit(X_center, y_center)\n",
    "beta_hat_center = np.append(np.array(model_center.intercept_),model_center.coef_)\n",
    "print(\"The estimates of the parameters are \\n\", \n",
    "          np.around(beta_hat_center,4))"
   ]
  },
  {
   "cell_type": "markdown",
   "metadata": {},
   "source": [
    "得到截距项变为0，三个系数分别为0.0107，3.1348，1.8674，与未中心化的结果相同"
   ]
  },
  {
   "cell_type": "code",
   "execution_count": 8,
   "metadata": {},
   "outputs": [
    {
     "name": "stdout",
     "output_type": "stream",
     "text": [
      "三个变量的标准差分别为 \n",
      " [573.66995932   3.02305952   4.79800306]\n",
      "y的标准差为 16.357974609753292\n",
      "The sample means of centered features are  [1. 1. 1.]\n",
      "The sample mean of centered response is  1.0\n"
     ]
    }
   ],
   "source": [
    "## 标准化\n",
    "x_std_value = np.std(X_without_intercept, axis=0)\n",
    "y_std_value = np.std(y)\n",
    "print(\"三个变量的标准差分别为 \\n\", x_std_value)\n",
    "print(\"y的标准差为\", y_std_value)\n",
    "\n",
    "X_std = preprocessing.scale(X_without_intercept, with_mean = True)\n",
    "y_std = preprocessing.scale(y, with_mean = True)\n",
    "\n",
    "print(\"The sample means of centered features are \", np.around(np.std(X_std,axis=0),4))\n",
    "print(\"The sample mean of centered response is \", np.around(np.std(y_std,axis=0),4))"
   ]
  },
  {
   "cell_type": "markdown",
   "metadata": {},
   "source": [
    "标准差均为1，标准化成功"
   ]
  },
  {
   "cell_type": "code",
   "execution_count": 9,
   "metadata": {},
   "outputs": [
    {
     "name": "stdout",
     "output_type": "stream",
     "text": [
      "The estimates of the parameters are \n",
      " [0.     0.3757 0.5793 0.5477]\n"
     ]
    }
   ],
   "source": [
    "model_std = linear_model.LinearRegression()\n",
    "model_std.fit(X_std, y_std)\n",
    "beta_hat_std = np.append(np.array(model_std.intercept_),model_std.coef_)\n",
    "print(\"The estimates of the parameters are \\n\", \n",
    "          np.around(beta_hat_std,4))"
   ]
  },
  {
   "cell_type": "code",
   "execution_count": 10,
   "metadata": {},
   "outputs": [
    {
     "name": "stdout",
     "output_type": "stream",
     "text": [
      "L矩阵为: \n",
      " [[0.00050321 0.         0.        ]\n",
      " [0.         0.09549105 0.        ]\n",
      " [0.         0.         0.06016568]]\n",
      "三个标准化变量对应的系数为: \n",
      " [0.37570944 0.57933248 0.54773506]\n"
     ]
    }
   ],
   "source": [
    "# 使用标准化与中心化斜率转换公式\n",
    "L = np.diag(1 / (x_std_value * np.sqrt(n)))\n",
    "print(\"L矩阵为: \\n\", L)\n",
    "\n",
    "beta_hat_std_theory = 1 / (y_std_value * np.sqrt(n)) * np.linalg.inv(L) @ beta_hat_center[1:]\n",
    "print(\"三个标准化变量对应的系数为: \\n\", beta_hat_std_theory)"
   ]
  },
  {
   "cell_type": "markdown",
   "metadata": {},
   "source": [
    "### Task3: 从模型显著性、参数显著性以及残差分析三个角度，分析多元线性回归模型是否合理。"
   ]
  },
  {
   "cell_type": "code",
   "execution_count": 11,
   "metadata": {},
   "outputs": [
    {
     "name": "stdout",
     "output_type": "stream",
     "text": [
      "The estimates of the parameters are \n",
      " Intercept   -266.0312\n",
      "x1             0.0107\n",
      "x2             3.1348\n",
      "x3             1.8674\n",
      "dtype: float64\n"
     ]
    }
   ],
   "source": [
    "model1 = ols(\"Y~x1 + x2 + x3\", Data).fit()\n",
    "beta_hat = model1.params\n",
    "\n",
    "print(\"The estimates of the parameters are \\n\", \n",
    "      round(beta_hat,4))"
   ]
  },
  {
   "cell_type": "code",
   "execution_count": 12,
   "metadata": {},
   "outputs": [
    {
     "name": "stderr",
     "output_type": "stream",
     "text": [
      "d:\\anaconda\\lib\\site-packages\\scipy\\stats\\_stats_py.py:1806: UserWarning: kurtosistest only valid for n>=20 ... continuing anyway, n=12\n",
      "  warnings.warn(\"kurtosistest only valid for n>=20 ... continuing \"\n"
     ]
    },
    {
     "data": {
      "text/html": [
       "<table class=\"simpletable\">\n",
       "<caption>OLS Regression Results</caption>\n",
       "<tr>\n",
       "  <th>Dep. Variable:</th>            <td>Y</td>        <th>  R-squared:         </th> <td>   0.807</td>\n",
       "</tr>\n",
       "<tr>\n",
       "  <th>Model:</th>                   <td>OLS</td>       <th>  Adj. R-squared:    </th> <td>   0.734</td>\n",
       "</tr>\n",
       "<tr>\n",
       "  <th>Method:</th>             <td>Least Squares</td>  <th>  F-statistic:       </th> <td>   11.12</td>\n",
       "</tr>\n",
       "<tr>\n",
       "  <th>Date:</th>             <td>Mon, 09 Oct 2023</td> <th>  Prob (F-statistic):</th>  <td>0.00317</td>\n",
       "</tr>\n",
       "<tr>\n",
       "  <th>Time:</th>                 <td>21:32:11</td>     <th>  Log-Likelihood:    </th> <td> -40.708</td>\n",
       "</tr>\n",
       "<tr>\n",
       "  <th>No. Observations:</th>      <td>    12</td>      <th>  AIC:               </th> <td>   89.42</td>\n",
       "</tr>\n",
       "<tr>\n",
       "  <th>Df Residuals:</th>          <td>     8</td>      <th>  BIC:               </th> <td>   91.36</td>\n",
       "</tr>\n",
       "<tr>\n",
       "  <th>Df Model:</th>              <td>     3</td>      <th>                     </th>     <td> </td>   \n",
       "</tr>\n",
       "<tr>\n",
       "  <th>Covariance Type:</th>      <td>nonrobust</td>    <th>                     </th>     <td> </td>   \n",
       "</tr>\n",
       "</table>\n",
       "<table class=\"simpletable\">\n",
       "<tr>\n",
       "      <td></td>         <th>coef</th>     <th>std err</th>      <th>t</th>      <th>P>|t|</th>  <th>[0.025</th>    <th>0.975]</th>  \n",
       "</tr>\n",
       "<tr>\n",
       "  <th>Intercept</th> <td> -266.0312</td> <td>   92.674</td> <td>   -2.871</td> <td> 0.021</td> <td> -479.737</td> <td>  -52.325</td>\n",
       "</tr>\n",
       "<tr>\n",
       "  <th>x1</th>        <td>    0.0107</td> <td>    0.004</td> <td>    2.390</td> <td> 0.044</td> <td>    0.000</td> <td>    0.021</td>\n",
       "</tr>\n",
       "<tr>\n",
       "  <th>x2</th>        <td>    3.1348</td> <td>    0.844</td> <td>    3.712</td> <td> 0.006</td> <td>    1.188</td> <td>    5.082</td>\n",
       "</tr>\n",
       "<tr>\n",
       "  <th>x3</th>        <td>    1.8674</td> <td>    0.535</td> <td>    3.494</td> <td> 0.008</td> <td>    0.635</td> <td>    3.100</td>\n",
       "</tr>\n",
       "</table>\n",
       "<table class=\"simpletable\">\n",
       "<tr>\n",
       "  <th>Omnibus:</th>       <td> 0.392</td> <th>  Durbin-Watson:     </th> <td>   1.043</td>\n",
       "</tr>\n",
       "<tr>\n",
       "  <th>Prob(Omnibus):</th> <td> 0.822</td> <th>  Jarque-Bera (JB):  </th> <td>   0.230</td>\n",
       "</tr>\n",
       "<tr>\n",
       "  <th>Skew:</th>          <td>-0.282</td> <th>  Prob(JB):          </th> <td>   0.891</td>\n",
       "</tr>\n",
       "<tr>\n",
       "  <th>Kurtosis:</th>      <td> 2.625</td> <th>  Cond. No.          </th> <td>9.03e+04</td>\n",
       "</tr>\n",
       "</table><br/><br/>Notes:<br/>[1] Standard Errors assume that the covariance matrix of the errors is correctly specified.<br/>[2] The condition number is large, 9.03e+04. This might indicate that there are<br/>strong multicollinearity or other numerical problems."
      ],
      "text/latex": [
       "\\begin{center}\n",
       "\\begin{tabular}{lclc}\n",
       "\\toprule\n",
       "\\textbf{Dep. Variable:}    &        Y         & \\textbf{  R-squared:         } &     0.807   \\\\\n",
       "\\textbf{Model:}            &       OLS        & \\textbf{  Adj. R-squared:    } &     0.734   \\\\\n",
       "\\textbf{Method:}           &  Least Squares   & \\textbf{  F-statistic:       } &     11.12   \\\\\n",
       "\\textbf{Date:}             & Mon, 09 Oct 2023 & \\textbf{  Prob (F-statistic):} &  0.00317    \\\\\n",
       "\\textbf{Time:}             &     21:32:11     & \\textbf{  Log-Likelihood:    } &   -40.708   \\\\\n",
       "\\textbf{No. Observations:} &          12      & \\textbf{  AIC:               } &     89.42   \\\\\n",
       "\\textbf{Df Residuals:}     &           8      & \\textbf{  BIC:               } &     91.36   \\\\\n",
       "\\textbf{Df Model:}         &           3      & \\textbf{                     } &             \\\\\n",
       "\\textbf{Covariance Type:}  &    nonrobust     & \\textbf{                     } &             \\\\\n",
       "\\bottomrule\n",
       "\\end{tabular}\n",
       "\\begin{tabular}{lcccccc}\n",
       "                   & \\textbf{coef} & \\textbf{std err} & \\textbf{t} & \\textbf{P$> |$t$|$} & \\textbf{[0.025} & \\textbf{0.975]}  \\\\\n",
       "\\midrule\n",
       "\\textbf{Intercept} &    -266.0312  &       92.674     &    -2.871  &         0.021        &     -479.737    &      -52.325     \\\\\n",
       "\\textbf{x1}        &       0.0107  &        0.004     &     2.390  &         0.044        &        0.000    &        0.021     \\\\\n",
       "\\textbf{x2}        &       3.1348  &        0.844     &     3.712  &         0.006        &        1.188    &        5.082     \\\\\n",
       "\\textbf{x3}        &       1.8674  &        0.535     &     3.494  &         0.008        &        0.635    &        3.100     \\\\\n",
       "\\bottomrule\n",
       "\\end{tabular}\n",
       "\\begin{tabular}{lclc}\n",
       "\\textbf{Omnibus:}       &  0.392 & \\textbf{  Durbin-Watson:     } &    1.043  \\\\\n",
       "\\textbf{Prob(Omnibus):} &  0.822 & \\textbf{  Jarque-Bera (JB):  } &    0.230  \\\\\n",
       "\\textbf{Skew:}          & -0.282 & \\textbf{  Prob(JB):          } &    0.891  \\\\\n",
       "\\textbf{Kurtosis:}      &  2.625 & \\textbf{  Cond. No.          } & 9.03e+04  \\\\\n",
       "\\bottomrule\n",
       "\\end{tabular}\n",
       "%\\caption{OLS Regression Results}\n",
       "\\end{center}\n",
       "\n",
       "Notes: \\newline\n",
       " [1] Standard Errors assume that the covariance matrix of the errors is correctly specified. \\newline\n",
       " [2] The condition number is large, 9.03e+04. This might indicate that there are \\newline\n",
       " strong multicollinearity or other numerical problems."
      ],
      "text/plain": [
       "<class 'statsmodels.iolib.summary.Summary'>\n",
       "\"\"\"\n",
       "                            OLS Regression Results                            \n",
       "==============================================================================\n",
       "Dep. Variable:                      Y   R-squared:                       0.807\n",
       "Model:                            OLS   Adj. R-squared:                  0.734\n",
       "Method:                 Least Squares   F-statistic:                     11.12\n",
       "Date:                Mon, 09 Oct 2023   Prob (F-statistic):            0.00317\n",
       "Time:                        21:32:11   Log-Likelihood:                -40.708\n",
       "No. Observations:                  12   AIC:                             89.42\n",
       "Df Residuals:                       8   BIC:                             91.36\n",
       "Df Model:                           3                                         \n",
       "Covariance Type:            nonrobust                                         \n",
       "==============================================================================\n",
       "                 coef    std err          t      P>|t|      [0.025      0.975]\n",
       "------------------------------------------------------------------------------\n",
       "Intercept   -266.0312     92.674     -2.871      0.021    -479.737     -52.325\n",
       "x1             0.0107      0.004      2.390      0.044       0.000       0.021\n",
       "x2             3.1348      0.844      3.712      0.006       1.188       5.082\n",
       "x3             1.8674      0.535      3.494      0.008       0.635       3.100\n",
       "==============================================================================\n",
       "Omnibus:                        0.392   Durbin-Watson:                   1.043\n",
       "Prob(Omnibus):                  0.822   Jarque-Bera (JB):                0.230\n",
       "Skew:                          -0.282   Prob(JB):                        0.891\n",
       "Kurtosis:                       2.625   Cond. No.                     9.03e+04\n",
       "==============================================================================\n",
       "\n",
       "Notes:\n",
       "[1] Standard Errors assume that the covariance matrix of the errors is correctly specified.\n",
       "[2] The condition number is large, 9.03e+04. This might indicate that there are\n",
       "strong multicollinearity or other numerical problems.\n",
       "\"\"\""
      ]
     },
     "execution_count": 12,
     "metadata": {},
     "output_type": "execute_result"
    }
   ],
   "source": [
    "model1.summary()"
   ]
  },
  {
   "cell_type": "markdown",
   "metadata": {},
   "source": [
    "#### 模型显著性\n",
    "\n",
    "F统计量对应的p值为0.00317，小于显著性水平0.05，所以该模型是显著的。\n",
    "\n",
    "#### 参数显著性\n",
    "\n",
    "三个变量的t统计量分别为0.044，0.006，0.008，均小于0.05，可见这三个变量都是显著的。\n",
    "\n",
    "此外，三个变量对应的系数的预测区间均不包含0，可以看出制动马力与这三个变量成正相关。"
   ]
  },
  {
   "cell_type": "code",
   "execution_count": 13,
   "metadata": {},
   "outputs": [
    {
     "name": "stdout",
     "output_type": "stream",
     "text": [
      "y的预测值为\n",
      " [224.26871063 225.32824692 240.95847559 218.86255836 207.44420245\n",
      " 267.10824644 243.78632464 237.12456005 235.90671156 221.12574828\n",
      " 222.12606905 233.96014603]\n"
     ]
    }
   ],
   "source": [
    "y_hat = X @ beta_hat_1\n",
    "print(\"y的预测值为\\n\", y_hat)"
   ]
  },
  {
   "cell_type": "code",
   "execution_count": 14,
   "metadata": {},
   "outputs": [
    {
     "data": {
      "image/png": "[encoded data removed]",
      "text/plain": [
       "<Figure size 432x288 with 1 Axes>"
      ]
     },
     "metadata": {
      "needs_background": "light"
     },
     "output_type": "display_data"
    }
   ],
   "source": [
    "Res = y - y_hat\n",
    "plt.scatter(range(Res.size), Res)\n",
    "plt.title(\"残差图\")\n",
    "plt.show()"
   ]
  },
  {
   "cell_type": "code",
   "execution_count": 15,
   "metadata": {},
   "outputs": [
    {
     "name": "stdout",
     "output_type": "stream",
     "text": [
      "DW statistic is 1.0431\n"
     ]
    }
   ],
   "source": [
    "DW = durbin_watson(Res)\n",
    "print(\"DW statistic is\", round(DW,4))"
   ]
  },
  {
   "cell_type": "markdown",
   "metadata": {},
   "source": [
    "当样本量为12，回归变量个数为3时，$dL$和$dU$分别为0.658和1.864，所以无法确定"
   ]
  },
  {
   "cell_type": "code",
   "execution_count": 16,
   "metadata": {},
   "outputs": [
    {
     "name": "stdout",
     "output_type": "stream",
     "text": [
      "Bartlett's test statistic is 6.6956\n",
      "The p value is 0.0097\n"
     ]
    }
   ],
   "source": [
    "data1 = Res[:6]\n",
    "data2 = Res[6:]\n",
    "Bart_stat, Bart_pVal = stats.bartlett(data1, data2)\n",
    "print(\"Bartlett's test statistic is\", round(Bart_stat,4))\n",
    "print(\"The p value is\", round(Bart_pVal,4))\n",
    "# https://mp.weixin.qq.com/s?__biz=MzI2OTQyMzc5MA==&mid=2247497134&idx=1&sn=c741484a9f1e78740c15fdb72074eda5&chksm=eae2306fdd95b97952c4014fc9db5001d4b995ffe8d08423012e19df5505793245788b592b8c&scene=27"
   ]
  },
  {
   "cell_type": "code",
   "execution_count": 17,
   "metadata": {},
   "outputs": [
    {
     "name": "stdout",
     "output_type": "stream",
     "text": [
      "Levene's test statistic is 5.9289\n",
      "The p value is 0.0352\n"
     ]
    }
   ],
   "source": [
    "Lev_stat, Lev_pVal = stats.levene(data1, data2)\n",
    "print(\"Levene's test statistic is\", round(Lev_stat,4))\n",
    "print(\"The p value is\", round(Lev_pVal,4))"
   ]
  },
  {
   "cell_type": "markdown",
   "metadata": {},
   "source": [
    "根据bartlett检验和修正后的levene检验，p值均小于0.05，即未通过方差齐性检验"
   ]
  },
  {
   "cell_type": "code",
   "execution_count": 18,
   "metadata": {},
   "outputs": [
    {
     "name": "stdout",
     "output_type": "stream",
     "text": [
      "Shapiro-Wilk test statistic is 0.9291\n",
      "The p value is 0.3706\n"
     ]
    }
   ],
   "source": [
    "SW_stat,SW_pVal = stats.shapiro(Res)\n",
    "print(\"Shapiro-Wilk test statistic is\", round(SW_stat,4))\n",
    "print(\"The p value is\", round(SW_pVal,4))"
   ]
  },
  {
   "cell_type": "markdown",
   "metadata": {},
   "source": [
    "使用Shapiro-Wilk检验，p值大于显著性水平，所以接受原假设，即通过正态性检验"
   ]
  },
  {
   "cell_type": "markdown",
   "metadata": {},
   "source": [
    "### 结论\n",
    "\n",
    "- 无法确定独立性\n",
    "- 方差齐性检验未通过\n",
    "- 正态性检验通过"
   ]
  },
  {
   "cell_type": "markdown",
   "metadata": {},
   "source": [
    "### Task4: 若取发动机转速为3000转/min，道路辛烷值为90，发动机压缩值为100时，分别给出制动马力值的置信区间和预测区间。"
   ]
  },
  {
   "cell_type": "code",
   "execution_count": 19,
   "metadata": {},
   "outputs": [],
   "source": [
    "## 自定义函数\n",
    "\n",
    "def prediction_interval(x0,X,y):\n",
    "    # Add intercept to the new vector\n",
    "    x0 = np.append(1,x0)\n",
    "    # Parameter setting\n",
    "    n = X.shape[0]\n",
    "    p = X.shape[1]-1\n",
    "    # Modelling\n",
    "    beta_hat = np.linalg.inv(X.T @ X) @ (X.T @ y) # parameter estimation\n",
    "    y_fitted = X @ beta_hat # fitted value\n",
    "    e = y_fitted - y # residuals\n",
    "    sigma2 = sum(e**2)/(n - p - 1) # estimate of sigma2\n",
    "    # Interval Construction\n",
    "    tVal = t.ppf(1-alpha/2, n- p - 1) # quantile\n",
    "    delta = tVal*np.sqrt(sigma2)*np.sqrt(1 + x0.T @ np.linalg.inv(X.T @ X) @ x0)\n",
    "    y0_fitted = x0 @ beta_hat\n",
    "    output = [y0_fitted - delta, y0_fitted + delta] # prediction interval\n",
    "    return output\n",
    "\n",
    "\n",
    "def confidence_interval(x0,X,y):\n",
    "    # Add intercept to the new vector\n",
    "    x0 = np.append(1,x0)\n",
    "    # Parameter setting\n",
    "    n = X.shape[0]\n",
    "    p = X.shape[1]-1\n",
    "    # Modelling\n",
    "    beta_hat = np.linalg.inv(X.T @ X) @ (X.T @ y) # parameter estimation\n",
    "    y_fitted = X @ beta_hat # fitted value\n",
    "    e = y_fitted - y # residuals\n",
    "    sigma2 = sum(e**2)/(n - p - 1) # estimate of sigma2\n",
    "    # Interval Construction\n",
    "    tVal = t.ppf(1-alpha/2, n- p - 1) # quantile\n",
    "    delta = tVal*np.sqrt(sigma2)*np.sqrt(x0.T @ np.linalg.inv(X.T @ X) @ x0)\n",
    "    y0_fitted = x0 @ beta_hat\n",
    "    output = [y0_fitted - delta, y0_fitted + delta] # prediction interval\n",
    "    return output"
   ]
  },
  {
   "cell_type": "code",
   "execution_count": 21,
   "metadata": {},
   "outputs": [
    {
     "name": "stdout",
     "output_type": "stream",
     "text": [
      "点预测结果为 [234.9819]\n",
      "区间预测结果为 [212.8622 257.1016]\n",
      "置信区间为 [226.2457 243.7181]\n"
     ]
    }
   ],
   "source": [
    "x01 = np.array([[3000, 90, 100]])\n",
    "# 点预测\n",
    "print(\"点预测结果为\", np.around(model.predict(x01),4))\n",
    "\n",
    "# 区间预测\n",
    "print(\"区间预测结果为\", np.around(prediction_interval(x01,X,y),4))\n",
    "\n",
    "# 置信区间\n",
    "print(\"置信区间为\", np.around(confidence_interval(x01,X,y),4))"
   ]
  },
  {
   "cell_type": "code",
   "execution_count": null,
   "metadata": {},
   "outputs": [],
   "source": []
  }
 ],
 "metadata": {
  "kernelspec": {
   "display_name": "base",
   "language": "python",
   "name": "python3"
  },
  "language_info": {
   "codemirror_mode": {
    "name": "ipython",
    "version": 3
   },
   "file_extension": ".py",
   "mimetype": "text/x-python",
   "name": "python",
   "nbconvert_exporter": "python",
   "pygments_lexer": "ipython3",
   "version": "3.9.12"
  }
 },
 "nbformat": 4,
 "nbformat_minor": 2
}

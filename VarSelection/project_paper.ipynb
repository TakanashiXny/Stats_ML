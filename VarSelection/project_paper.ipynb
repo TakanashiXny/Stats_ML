{
 "cells": [
  {
   "cell_type": "code",
   "execution_count": 8,
   "metadata": {},
   "outputs": [],
   "source": [
    "import numpy as np\n",
    "import cmath\n",
    "from scipy.optimize import curve_fit\n",
    "import tensorflow as tf"
   ]
  },
  {
   "cell_type": "code",
   "execution_count": 2,
   "metadata": {},
   "outputs": [
    {
     "name": "stdout",
     "output_type": "stream",
     "text": [
      "Downloading data from https://storage.googleapis.com/tensorflow/tf-keras-datasets/mnist.npz\n",
      "11490434/11490434 [==============================] - 57s 5us/step\n"
     ]
    }
   ],
   "source": [
    "# 下载数据集\n",
    "minist = tf.keras.datasets.mnist\n",
    "(train_x, train_y), (test_x, test_y) = minist.load_data()"
   ]
  },
  {
   "cell_type": "code",
   "execution_count": 3,
   "metadata": {},
   "outputs": [
    {
     "name": "stdout",
     "output_type": "stream",
     "text": [
      "Training set: 60000\n",
      "Testing set: 10000\n"
     ]
    }
   ],
   "source": [
    "# 输出数据相关信息\n",
    "print(\"Training set:\", len(train_x))\n",
    "print(\"Testing set:\", len(test_x))"
   ]
  },
  {
   "cell_type": "code",
   "execution_count": 10,
   "metadata": {},
   "outputs": [
    {
     "name": "stdout",
     "output_type": "stream",
     "text": [
      "train_x (60000, 28, 28) uint8\n",
      "train_y (60000,) uint8\n"
     ]
    }
   ],
   "source": [
    "print(\"train_x\", train_x.shape, train_x.dtype)\n",
    "print(\"train_y\", train_y.shape, train_y.dtype)\n",
    "shape0, shape1, shape2 = train_x.shape"
   ]
  },
  {
   "cell_type": "code",
   "execution_count": 12,
   "metadata": {},
   "outputs": [
    {
     "name": "stdout",
     "output_type": "stream",
     "text": [
      "(60000, 784)\n"
     ]
    }
   ],
   "source": [
    "new_train_x = np.zeros((shape0, shape1 * shape2))\n",
    "for i in range(shape0):\n",
    "    new_train_x[i] = train_x[i].flatten()\n",
    "print(new_train_x.shape)"
   ]
  },
  {
   "cell_type": "markdown",
   "metadata": {},
   "source": [
    "Given data $(x_1,y_1), \\cdots, (x_n,y_n)$ from $\\mathbb{R}^d \\times \\mathbb{R}$, we find the predictor $h_{n,N} \\in \\mathcal{H}_N$ via ERM with squared loss."
   ]
  },
  {
   "cell_type": "code",
   "execution_count": 9,
   "metadata": {},
   "outputs": [],
   "source": [
    "class RFF:\n",
    "    def __init__(self, d: int, N: int) -> None:\n",
    "        self.__d = d\n",
    "        self.__N = N\n",
    "\n",
    "    @classmethod\n",
    "    def fit(self, x: np.ndarray, y: np.ndarray):\n",
    "        a = np.zeros(self.__N)\n",
    "        return curve_fit(self.__h, x, y, a)\n",
    "\n",
    "    @classmethod\n",
    "    def __phi(self, x: np.ndarray, v: np.ndarray) -> any:\n",
    "        '''\n",
    "        The kernel function\n",
    "\n",
    "        Input:\n",
    "        - x: The input data\n",
    "        - v: The auxiliary matrix\n",
    "\n",
    "        Returns:\n",
    "        - The result of the function\n",
    "        '''\n",
    "\n",
    "        return np.exp(cmath.sqrt(-1) * np.dot(v, x))\n",
    "    \n",
    "    @classmethod\n",
    "    def __h(self, x: np.ndarray, a: np.ndarray) -> int:\n",
    "        '''\n",
    "        Map the input image to its label with Random Fourier Features.\n",
    "\n",
    "        Inputs:\n",
    "        - x: The matrix of the image\n",
    "        - N: The number of features \n",
    "        - a: The array of parameters\n",
    "\n",
    "        Returns:\n",
    "        - The predicted label\n",
    "        '''\n",
    "\n",
    "        v = np.random.randn(self.__N, self.__d)\n",
    "        result = 0\n",
    "        for i in range(1, self.__N):\n",
    "            result += (a[i] * self.__phi(x, v[i]))\n",
    "        return result"
   ]
  },
  {
   "cell_type": "code",
   "execution_count": 5,
   "metadata": {},
   "outputs": [],
   "source": [
    "d = train_x.shape[1] * train_x.shape[2] # 数据维度\n",
    "maxN = 10 # 设置最大特征数"
   ]
  },
  {
   "cell_type": "code",
   "execution_count": 7,
   "metadata": {},
   "outputs": [],
   "source": [
    "# 定义核函数\n",
    "def phi(x: np.ndarray, v: np.ndarray) -> any:\n",
    "    '''\n",
    "    The kernel function\n",
    "\n",
    "    Input:\n",
    "    - x: The input data\n",
    "    - v: The auxiliary matrix\n",
    "\n",
    "    Returns:\n",
    "    - The result of the function\n",
    "    '''\n",
    "\n",
    "    return np.exp(cmath.sqrt(-1) * np.dot(v, x))"
   ]
  },
  {
   "cell_type": "code",
   "execution_count": null,
   "metadata": {},
   "outputs": [],
   "source": [
    "# 定义傅里叶函数\n",
    "def h(x: np.ndarray, N: int, a: np.ndarray) -> int:\n",
    "    '''\n",
    "    Map the input image to its label with Random Fourier Features.\n",
    "\n",
    "    Inputs:\n",
    "    - x: The matrix of the image\n",
    "    - N: The number of features \n",
    "    - a: The array of parameters\n",
    "\n",
    "    Returns:\n",
    "    - The predicted label\n",
    "    '''\n",
    "\n",
    "    v = np.random.randn(N, d)\n"
   ]
  },
  {
   "cell_type": "code",
   "execution_count": 13,
   "metadata": {},
   "outputs": [
    {
     "ename": "AttributeError",
     "evalue": "type object 'RFF' has no attribute '_RFF__N'",
     "output_type": "error",
     "traceback": [
      "\u001b[1;31m---------------------------------------------------------------------------\u001b[0m",
      "\u001b[1;31mAttributeError\u001b[0m                            Traceback (most recent call last)",
      "\u001b[1;32me:\\github\\Stats_ML\\VarSelection\\project_paper.ipynb Cell 11\u001b[0m line \u001b[0;36m2\n\u001b[0;32m      <a href='vscode-notebook-cell:/e%3A/github/Stats_ML/VarSelection/project_paper.ipynb#X15sZmlsZQ%3D%3D?line=0'>1</a>\u001b[0m rff \u001b[39m=\u001b[39m RFF(d, \u001b[39m10\u001b[39m)\n\u001b[1;32m----> <a href='vscode-notebook-cell:/e%3A/github/Stats_ML/VarSelection/project_paper.ipynb#X15sZmlsZQ%3D%3D?line=1'>2</a>\u001b[0m result \u001b[39m=\u001b[39m rff\u001b[39m.\u001b[39;49mfit(new_train_x, train_y)\n",
      "\u001b[1;32me:\\github\\Stats_ML\\VarSelection\\project_paper.ipynb Cell 11\u001b[0m line \u001b[0;36m8\n\u001b[0;32m      <a href='vscode-notebook-cell:/e%3A/github/Stats_ML/VarSelection/project_paper.ipynb#X15sZmlsZQ%3D%3D?line=5'>6</a>\u001b[0m \u001b[39m@classmethod\u001b[39m\n\u001b[0;32m      <a href='vscode-notebook-cell:/e%3A/github/Stats_ML/VarSelection/project_paper.ipynb#X15sZmlsZQ%3D%3D?line=6'>7</a>\u001b[0m \u001b[39mdef\u001b[39;00m \u001b[39mfit\u001b[39m(\u001b[39mself\u001b[39m, x: np\u001b[39m.\u001b[39mndarray, y: np\u001b[39m.\u001b[39mndarray):\n\u001b[1;32m----> <a href='vscode-notebook-cell:/e%3A/github/Stats_ML/VarSelection/project_paper.ipynb#X15sZmlsZQ%3D%3D?line=7'>8</a>\u001b[0m     a \u001b[39m=\u001b[39m np\u001b[39m.\u001b[39mzeros(\u001b[39mself\u001b[39;49m\u001b[39m.\u001b[39;49m__N)\n\u001b[0;32m      <a href='vscode-notebook-cell:/e%3A/github/Stats_ML/VarSelection/project_paper.ipynb#X15sZmlsZQ%3D%3D?line=8'>9</a>\u001b[0m     \u001b[39mreturn\u001b[39;00m curve_fit(\u001b[39mself\u001b[39m\u001b[39m.\u001b[39m__h, x, y, a)\n",
      "\u001b[1;31mAttributeError\u001b[0m: type object 'RFF' has no attribute '_RFF__N'"
     ]
    }
   ],
   "source": [
    "rff = RFF(d, 10)\n",
    "result = rff.fit(new_train_x, train_y)"
   ]
  },
  {
   "cell_type": "code",
   "execution_count": null,
   "metadata": {},
   "outputs": [],
   "source": []
  }
 ],
 "metadata": {
  "kernelspec": {
   "display_name": "tensorflow",
   "language": "python",
   "name": "python3"
  },
  "language_info": {
   "codemirror_mode": {
    "name": "ipython",
    "version": 3
   },
   "file_extension": ".py",
   "mimetype": "text/x-python",
   "name": "python",
   "nbconvert_exporter": "python",
   "pygments_lexer": "ipython3",
   "version": "3.9.0"
  }
 },
 "nbformat": 4,
 "nbformat_minor": 2
}

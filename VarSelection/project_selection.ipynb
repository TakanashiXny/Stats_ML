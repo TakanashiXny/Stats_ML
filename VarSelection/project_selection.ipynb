{
 "cells": [
  {
   "cell_type": "code",
   "execution_count": 28,
   "metadata": {},
   "outputs": [],
   "source": [
    "import numpy as np\n",
    "import matplotlib.pyplot as plt\n",
    "from sklearn.linear_model import LinearRegression\n",
    "import statsmodels.api as sm\n",
    "\n",
    "plt.rcParams['font.sans-serif'] = ['SimHei']\t# 显示中文\n",
    "plt.rcParams['axes.unicode_minus'] = False\t\t# 显示负号"
   ]
  },
  {
   "cell_type": "markdown",
   "metadata": {},
   "source": [
    "## 1. 模拟实验"
   ]
  },
  {
   "cell_type": "markdown",
   "metadata": {},
   "source": [
    "### 构造特征矩阵"
   ]
  },
  {
   "cell_type": "code",
   "execution_count": 13,
   "metadata": {},
   "outputs": [],
   "source": [
    "# 定义矩阵规模\n",
    "n = 100 # 样本量\n",
    "p = 20 # 特征个数\n",
    "p1 = 10 # 被选取的特征个数\n",
    "sigma = 0.2 # 自变量的分布标准差\n",
    "sigma_eps = 3 # 随机误差的标准差\n",
    "M = 5000 # 重复次数"
   ]
  },
  {
   "cell_type": "code",
   "execution_count": 13,
   "metadata": {},
   "outputs": [
    {
     "name": "stdout",
     "output_type": "stream",
     "text": [
      "X的规模为:  (100, 21)\n"
     ]
    }
   ],
   "source": [
    "# # 生成设计矩阵\n",
    "# X = np.random.normal(0, sigma, (n, p))\n",
    "# X = sm.add_constant(X)\n",
    "# print(\"X的规模为: \", X.shape)"
   ]
  },
  {
   "cell_type": "code",
   "execution_count": 16,
   "metadata": {},
   "outputs": [],
   "source": [
    "def design_matrix(mean: float = 0, std: float = sigma, n: int = 100, p: int = 20) -> np.ndarray:\n",
    "    '''\n",
    "    Construct a design matrix \n",
    "    All data are created from a normal distribution\n",
    "\n",
    "    Parameters:\n",
    "    mean - The expectation of the distribution\n",
    "    std - The standard deviation of the distribution\n",
    "    n - The number of samples\n",
    "    p - The number of features\n",
    "\n",
    "    Returns:\n",
    "    X - The randomly-built matrix\n",
    "    '''\n",
    "\n",
    "    X = np.random.normal(mean, std, (n, p))\n",
    "    # Add 1s at the first column\n",
    "    X = sm.add_constant(X)\n",
    "    \n",
    "    return X"
   ]
  },
  {
   "cell_type": "code",
   "execution_count": 14,
   "metadata": {},
   "outputs": [
    {
     "name": "stdout",
     "output_type": "stream",
     "text": [
      "构造的beta为:  [1. 1. 1. 1. 1. 1. 1. 1. 1. 1. 1. 0. 0. 0. 0. 0. 0. 0. 0. 0. 0.]\n",
      "构造的随机误差规模为:  (100,)\n",
      "构造的响应变量的大小为:  (100,)\n"
     ]
    }
   ],
   "source": [
    "# # 构造beta\n",
    "# beta = np.zeros(p + 1)\n",
    "# beta[:p1 + 1] = 1\n",
    "# print(\"构造的beta为: \", beta)\n",
    "\n",
    "# # 构造随机误差\n",
    "# epsilon = np.random.normal(0, sigma_eps, n)\n",
    "# print(\"构造的随机误差规模为: \", epsilon.shape)\n",
    "\n",
    "# # 构造响应变量\n",
    "# y = X.dot(beta) + epsilon\n",
    "# print(\"构造的响应变量的大小为: \", y.shape)"
   ]
  },
  {
   "cell_type": "markdown",
   "metadata": {},
   "source": [
    "### 2. 构造响应变量"
   ]
  },
  {
   "cell_type": "code",
   "execution_count": 4,
   "metadata": {},
   "outputs": [],
   "source": [
    "def get_beta(p: int = 20, p1: int = 10) -> np.ndarray:\n",
    "    '''\n",
    "    Create a beta with p1+1 1s and p-p1-1 0s\n",
    "\n",
    "    Parameters:\n",
    "    p - The number of features\n",
    "    p1 - The number of chosen features\n",
    "\n",
    "    Returns:\n",
    "    beta - The created beta\n",
    "    '''\n",
    "\n",
    "    beta = np.zeros(p + 1)\n",
    "    beta[: p1+1] = 1\n",
    "    return beta"
   ]
  },
  {
   "cell_type": "code",
   "execution_count": 5,
   "metadata": {},
   "outputs": [],
   "source": [
    "def get_epsilon(mean: float = 0, std: float = sigma_eps, n: int = 100) -> np.ndarray:\n",
    "    '''\n",
    "    Create a randomly-built epsilon vector\n",
    "\n",
    "    Parameters:\n",
    "    mean - The expectation of the distribution\n",
    "    std - The standard deviation of the distribution\n",
    "    n - The number of samples\n",
    "    \n",
    "    Returns:\n",
    "    epsilon - The randomly-built epsilon vector\n",
    "    '''\n",
    "\n",
    "    return np.random.normal(mean, std, n)"
   ]
  },
  {
   "cell_type": "code",
   "execution_count": 15,
   "metadata": {},
   "outputs": [
    {
     "name": "stdout",
     "output_type": "stream",
     "text": [
      "最佳预测值为:  1.5000000000000002\n"
     ]
    }
   ],
   "source": [
    "# # 得到最佳点预测值\n",
    "\n",
    "# # 构造测试变量\n",
    "# x0 = 0.05 * np.ones(p + 1)\n",
    "# x0[0] = 1\n",
    "\n",
    "# # 最佳预测值\n",
    "# y0 = x0.T.dot(beta)\n",
    "# print(\"最佳预测值为: \", y0)"
   ]
  },
  {
   "cell_type": "code",
   "execution_count": 21,
   "metadata": {},
   "outputs": [
    {
     "name": "stdout",
     "output_type": "stream",
     "text": [
      "1.0239058676008874\n",
      "[3.09952701 0.57457708 1.19292856 0.02417744 0.29906622]\n",
      "1.2834196829663422\n"
     ]
    }
   ],
   "source": [
    "# k = 5\n",
    "\n",
    "# # 建立第k个模型\n",
    "# model_k = LinearRegression()\n",
    "# # 取前k个变量\n",
    "# X_k = X[:, 1:k+1]\n",
    "# # 拟合得到参数\n",
    "# model_k.fit(X_k, y)\n",
    "# # 得到截距和斜率 \n",
    "# intercept = model_k.intercept_\n",
    "# coef = model_k.coef_\n",
    "\n",
    "# # 预测y0\n",
    "# y0_k = intercept + x0[1:k+1].T.dot(coef)\n",
    "# print(y0_k)"
   ]
  },
  {
   "cell_type": "markdown",
   "metadata": {},
   "source": [
    "### 3. 建立模型并预测"
   ]
  },
  {
   "cell_type": "code",
   "execution_count": 18,
   "metadata": {},
   "outputs": [],
   "source": [
    "def GetY0ByK(X: np.ndarray, y: np.ndarray, x0: np.ndarray, k: int) -> float:\n",
    "    '''\n",
    "    Predict y0 by k features\n",
    "\n",
    "    Parameters:\n",
    "    X: The data for the training of the model\n",
    "    y: The response variables for the training of the model\n",
    "    x0: The point for prediction\n",
    "    k: The number of chosen features\n",
    "\n",
    "    Returns:\n",
    "    y0_k - The prediction\n",
    "    '''\n",
    "\n",
    "    # Construct the model of k features\n",
    "    model_k = LinearRegression()\n",
    "    # Get the first k variables\n",
    "    X_k = X[:, 1:k+1]\n",
    "    # Get the beta_hat\n",
    "    model_k.fit(X_k, y)\n",
    "    intercept = model_k.intercept_\n",
    "    coef = model_k.coef_\n",
    "\n",
    "    # Make prediction\n",
    "    y0_k = intercept + x0[1:k+1].T.dot(coef)\n",
    "\n",
    "    return y0_k"
   ]
  },
  {
   "cell_type": "code",
   "execution_count": 25,
   "metadata": {},
   "outputs": [
    {
     "name": "stdout",
     "output_type": "stream",
     "text": [
      "[0.15936227800287098, 0.11364904077467486, 0.09160243854480252, 0.06239706719515419, 0.03959036362711374, 0.021245956895798362, 0.00790828725813586, 0.0019905216672287084, 3.872974215804686e-07, 9.201887332743567e-07, 3.5242374729603855e-06, 3.7252432503266823e-07, 3.2623542119821664e-06, 1.72228974658286e-06, 7.611608503284723e-08, 6.76837804968675e-05, 6.621424855484786e-05, 4.3389498017348475e-06, 8.348307859576552e-06, 0.00014658549704420863]\n",
      "[0.10851028266285025, 0.11167357888044115, 0.11782016572553858, 0.1213619539111817, 0.13009923307464116, 0.13934555857503364, 0.1483487244076955, 0.15684469043548802, 0.16707997987129214, 0.16615118222287412, 0.18474901904608373, 0.18589218861500462, 0.20520567116899302, 0.2133505508224438, 0.21266144929109013, 0.23407908193517724, 0.2375854798311539, 0.24550926588131916, 0.2574934228246002, 0.2652198072762499]\n",
      "[0.26787256066572107, 0.225322619655116, 0.2094226042703411, 0.18375902110633588, 0.16968959670175493, 0.16059151547083203, 0.15625701166583134, 0.15883521210271676, 0.16708036716871374, 0.1661521024116074, 0.1847525432835567, 0.1858925611393297, 0.20520893352320496, 0.21335227311219038, 0.21266152540717517, 0.23414676571567408, 0.23765169407970882, 0.2455136048311209, 0.25750177113245976, 0.26536639277329405]\n"
     ]
    }
   ],
   "source": [
    "bias = []\n",
    "var = []\n",
    "mse = []\n",
    "#Construct the testing variables\n",
    "x0 = 0.05 * np.ones(p + 1)\n",
    "x0[0] = 1\n",
    "for k in range(1, p+1):\n",
    "    predictions = []\n",
    "    for j in range(M):\n",
    "        X = design_matrix(0, sigma, 100, 20)\n",
    "        beta = get_beta(20, 10)\n",
    "        epsilon = get_epsilon(0, sigma_eps, n)\n",
    "        y = X.dot(beta) + epsilon # Response\n",
    "\n",
    "        # Get the prediction of the best point\n",
    "        # The best prediction\n",
    "        y0 = x0.T.dot(beta)\n",
    "\n",
    "        y0_k = GetY0ByK(X, y, x0, k)\n",
    "        predictions.append(y0_k)\n",
    "    predictions = np.array(predictions)\n",
    "    predictions_mean = np.mean(predictions)\n",
    "\n",
    "    full_result = x0.T.dot(beta)\n",
    "\n",
    "    bias_k = (predictions_mean - full_result) ** 2\n",
    "    bias.append(bias_k)\n",
    "\n",
    "    var_k = np.var(predictions)\n",
    "    var.append(var_k)\n",
    "\n",
    "    mse_k = 1 / M * np.sum((predictions - full_result) ** 2)\n",
    "    mse.append(mse_k)\n",
    "\n",
    "print(bias)\n",
    "print(var)\n",
    "print(mse)"
   ]
  },
  {
   "cell_type": "code",
   "execution_count": 33,
   "metadata": {},
   "outputs": [
    {
     "data": {
      "image/png": "[encoded data removed]",
      "text/plain": [
       "<Figure size 432x288 with 1 Axes>"
      ]
     },
     "metadata": {
      "needs_background": "light"
     },
     "output_type": "display_data"
    }
   ],
   "source": [
    "plt.plot(range(1, p+1), bias, label=\"bias\")\n",
    "plt.plot(range(1, p+1), var, label=\"var\")\n",
    "plt.plot(range(1, p+1), mse, label=\"mse\")\n",
    "plt.legend()\n",
    "plt.xlabel(\"k\")\n",
    "plt.xticks([2 * i for i in range(1, 11)])\n",
    "plt.show()"
   ]
  },
  {
   "cell_type": "markdown",
   "metadata": {},
   "source": [
    "## 评述"
   ]
  },
  {
   "cell_type": "markdown",
   "metadata": {},
   "source": [
    "从图中可以看出，MSE由Bias和Var两部分组成。\n",
    "\n",
    "其中，Bias随k的增大而不断减小，Var随k的增大而不断增大。\n",
    "\n",
    "在前期，Bias减小速率大于Var的增大速率，使得MSE呈现减小的趋势。\n",
    "\n",
    "在后期，Bias的值逐渐趋近于0，减小速率变缓，小于Var的增大速率，使得MSE呈现增大的趋势。"
   ]
  },
  {
   "cell_type": "markdown",
   "metadata": {},
   "source": [
    "在欠拟合的状态下：\n",
    "\n",
    "模型方差较小，即模型较为稳定，但是代价是较低的模型准确度，因为在欠拟合的状态下模型预测偏差较大"
   ]
  },
  {
   "cell_type": "markdown",
   "metadata": {},
   "source": [
    "在过拟合的状态下：\n",
    "\n",
    "模型能够很好的拟合数据，得到的偏差较小。\n",
    "\n",
    "但是此时模型的方差较大\n",
    "\n",
    "即模型会随着其中的数据点的改变而出现巨大的变化，导致模型的稳定型较低，泛化能力较差。"
   ]
  },
  {
   "cell_type": "code",
   "execution_count": null,
   "metadata": {},
   "outputs": [],
   "source": []
  }
 ],
 "metadata": {
  "kernelspec": {
   "display_name": "base",
   "language": "python",
   "name": "python3"
  },
  "language_info": {
   "codemirror_mode": {
    "name": "ipython",
    "version": 3
   },
   "file_extension": ".py",
   "mimetype": "text/x-python",
   "name": "python",
   "nbconvert_exporter": "python",
   "pygments_lexer": "ipython3",
   "version": "3.9.12"
  }
 },
 "nbformat": 4,
 "nbformat_minor": 2
}

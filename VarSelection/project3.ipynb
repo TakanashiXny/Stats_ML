{
 "cells": [
  {
   "cell_type": "code",
   "execution_count": 2,
   "metadata": {},
   "outputs": [],
   "source": [
    "import numpy as np\n",
    "import matplotlib.pyplot as plt\n",
    "from sklearn.linear_model import LinearRegression\n",
    "import statsmodels.api as sm\n",
    "\n",
    "plt.rcParams['font.sans-serif'] = ['SimHei']\t# 显示中文\n",
    "plt.rcParams['axes.unicode_minus'] = False\t\t# 显示负号"
   ]
  },
  {
   "cell_type": "markdown",
   "metadata": {},
   "source": [
    "## 1. 模拟实验"
   ]
  },
  {
   "cell_type": "markdown",
   "metadata": {},
   "source": [
    "### 构造特征矩阵"
   ]
  },
  {
   "cell_type": "code",
   "execution_count": 3,
   "metadata": {},
   "outputs": [],
   "source": [
    "# 定义矩阵规模\n",
    "n = 100 # 样本量\n",
    "p = 20 # 特征个数\n",
    "p1 = 10 # 被选取的特征个数\n",
    "sigma = 0.2 # 自变量的分布标准差\n",
    "sigma_eps = 3 # 随机误差的标准差\n",
    "M = 5000 # 重复次数"
   ]
  },
  {
   "cell_type": "code",
   "execution_count": 4,
   "metadata": {},
   "outputs": [],
   "source": [
    "def design_matrix(mean: float = 0, std: float = sigma, n: int = 100, p: int = 20) -> np.ndarray:\n",
    "    '''\n",
    "    Construct a design matrix \n",
    "    All data are created from a normal distribution\n",
    "\n",
    "    Parameters:\n",
    "    mean - The expectation of the distribution\n",
    "    std - The standard deviation of the distribution\n",
    "    n - The number of samples\n",
    "    p - The number of features\n",
    "\n",
    "    Returns:\n",
    "    X - The randomly-built matrix\n",
    "    '''\n",
    "\n",
    "    X = np.random.normal(mean, std, (n, p))\n",
    "    # Add 1s at the first column\n",
    "    X = sm.add_constant(X)\n",
    "    \n",
    "    return X"
   ]
  },
  {
   "cell_type": "markdown",
   "metadata": {},
   "source": [
    "### 2. 构造响应变量"
   ]
  },
  {
   "cell_type": "code",
   "execution_count": 5,
   "metadata": {},
   "outputs": [],
   "source": [
    "def get_beta(p: int = 20, p1: int = 10) -> np.ndarray:\n",
    "    '''\n",
    "    Create a beta with p1+1 1s and p-p1-1 0s\n",
    "\n",
    "    Parameters:\n",
    "    p - The number of features\n",
    "    p1 - The number of chosen features\n",
    "\n",
    "    Returns:\n",
    "    beta - The created beta\n",
    "    '''\n",
    "\n",
    "    beta = np.zeros(p + 1)\n",
    "    beta[: p1+1] = 1\n",
    "    return beta"
   ]
  },
  {
   "cell_type": "code",
   "execution_count": 6,
   "metadata": {},
   "outputs": [],
   "source": [
    "def get_epsilon(mean: float = 0, std: float = sigma_eps, n: int = 100) -> np.ndarray:\n",
    "    '''\n",
    "    Create a randomly-built epsilon vector\n",
    "\n",
    "    Parameters:\n",
    "    mean - The expectation of the distribution\n",
    "    std - The standard deviation of the distribution\n",
    "    n - The number of samples\n",
    "    \n",
    "    Returns:\n",
    "    epsilon - The randomly-built epsilon vector\n",
    "    '''\n",
    "\n",
    "    return np.random.normal(mean, std, n)"
   ]
  },
  {
   "cell_type": "markdown",
   "metadata": {},
   "source": [
    "### 3. 建立模型并预测"
   ]
  },
  {
   "cell_type": "code",
   "execution_count": 7,
   "metadata": {},
   "outputs": [],
   "source": [
    "def GetY0ByK(X: np.ndarray, y: np.ndarray, x0: np.ndarray, k: int) -> float:\n",
    "    '''\n",
    "    Predict y0 by k features\n",
    "\n",
    "    Parameters:\n",
    "    X: The data for the training of the model\n",
    "    y: The response variables for the training of the model\n",
    "    x0: The point for prediction\n",
    "    k: The number of chosen features\n",
    "\n",
    "    Returns:\n",
    "    y0_k - The prediction\n",
    "    '''\n",
    "\n",
    "    # Construct the model of k features\n",
    "    model_k = LinearRegression()\n",
    "    # Get the first k variables\n",
    "    X_k = X[:, 1:k+1]\n",
    "    # Get the beta_hat\n",
    "    model_k.fit(X_k, y)\n",
    "    intercept = model_k.intercept_\n",
    "    coef = model_k.coef_\n",
    "\n",
    "    # Make prediction\n",
    "    y0_k = intercept + x0[1:k+1].T.dot(coef)\n",
    "\n",
    "    return y0_k"
   ]
  },
  {
   "cell_type": "code",
   "execution_count": 8,
   "metadata": {},
   "outputs": [
    {
     "name": "stdout",
     "output_type": "stream",
     "text": [
      "[0.19983919856626928, 0.16140720933305117, 0.1202836191028148, 0.08548130872324097, 0.057712468513363174, 0.03822945830466654, 0.024003248499733027, 0.011139928614829583, 0.0021041438990558755, 2.749465039514121e-06, 0.00010095340887235514, 1.6535628402189534e-05, 0.00016026898167572362, 8.20455274712849e-05, 5.812629128713788e-05, 9.311885830958492e-05, 8.192399913800646e-07, 0.0001570053791088732, 9.687237238942404e-05, 4.688411564926175e-05]\n",
      "[0.10050646908143793, 0.10851633548349612, 0.11937497842145584, 0.12034628115369696, 0.12788275375234154, 0.13857700539866946, 0.14213777029681218, 0.15276461662945798, 0.1590468176944604, 0.16380622352933202, 0.17305975115483, 0.17946739074454382, 0.18879341350933376, 0.19722844871535614, 0.20315071373030652, 0.21270475758989205, 0.22806313986533397, 0.23800829693476544, 0.24429625574453384, 0.25685386312237785]\n",
      "[0.30034566764770726, 0.2699235448165473, 0.2396585975242706, 0.20582758987693792, 0.18559522226570474, 0.1768064637033361, 0.16614101879654522, 0.1639045452442876, 0.1611509615935163, 0.16380897299437155, 0.17316070456370236, 0.17948392637294602, 0.1889536824910095, 0.19731049424282743, 0.20320884002159365, 0.21279787644820167, 0.2280639591053254, 0.23816530231387434, 0.24439312811692326, 0.2569007472380271]\n"
     ]
    }
   ],
   "source": [
    "bias = []\n",
    "var = []\n",
    "mse = []\n",
    "#Construct the testing variables\n",
    "x0 = 0.05 * np.ones(p + 1)\n",
    "x0[0] = 1\n",
    "for k in range(1, p+1):\n",
    "    predictions = []\n",
    "    for j in range(M):\n",
    "        X = design_matrix(0, sigma, 100, 20)\n",
    "        beta = get_beta(20, 10)\n",
    "        epsilon = get_epsilon(0, sigma_eps, n)\n",
    "        y = X.dot(beta) + epsilon # Response\n",
    "\n",
    "        # Get the prediction of the best point\n",
    "        # The best prediction\n",
    "        y0 = x0.T.dot(beta)\n",
    "\n",
    "        y0_k = GetY0ByK(X, y, x0, k)\n",
    "        predictions.append(y0_k)\n",
    "    predictions = np.array(predictions)\n",
    "    predictions_mean = np.mean(predictions)\n",
    "\n",
    "    full_result = x0.T.dot(beta)\n",
    "\n",
    "    bias_k = (predictions_mean - full_result) ** 2\n",
    "    bias.append(bias_k)\n",
    "\n",
    "    var_k = np.var(predictions)\n",
    "    var.append(var_k)\n",
    "\n",
    "    mse_k = 1 / M * np.sum((predictions - full_result) ** 2)\n",
    "    mse.append(mse_k)\n",
    "\n",
    "print(bias)\n",
    "print(var)\n",
    "print(mse)"
   ]
  },
  {
   "cell_type": "code",
   "execution_count": 9,
   "metadata": {},
   "outputs": [
    {
     "data": {
      "image/png": "[encoded data removed]",
      "text/plain": [
       "<Figure size 640x480 with 1 Axes>"
      ]
     },
     "metadata": {},
     "output_type": "display_data"
    }
   ],
   "source": [
    "plt.plot(range(1, p+1), bias, label=\"bias\")\n",
    "plt.plot(range(1, p+1), var, label=\"var\")\n",
    "plt.plot(range(1, p+1), mse, label=\"mse\")\n",
    "plt.legend()\n",
    "plt.xlabel(\"k\")\n",
    "plt.xticks([2 * i for i in range(1, 11)])\n",
    "plt.show()"
   ]
  },
  {
   "cell_type": "markdown",
   "metadata": {},
   "source": [
    "## 评述"
   ]
  },
  {
   "cell_type": "markdown",
   "metadata": {},
   "source": [
    "从图中可以看出，MSE由Bias和Var两部分组成。\n",
    "\n",
    "其中，Bias随k的增大而不断减小，Var随k的增大而不断增大。\n",
    "\n",
    "在前期，Bias减小速率大于Var的增大速率，使得MSE呈现减小的趋势。\n",
    "\n",
    "在后期，Bias的值逐渐趋近于0，减小速率变缓，小于Var的增大速率，使得MSE呈现增大的趋势。"
   ]
  },
  {
   "cell_type": "markdown",
   "metadata": {},
   "source": [
    "在欠拟合的状态下：\n",
    "\n",
    "模型方差较小，即模型较为稳定，但是代价是较低的模型准确度，因为在欠拟合的状态下模型预测偏差较大"
   ]
  },
  {
   "cell_type": "markdown",
   "metadata": {},
   "source": [
    "在过拟合的状态下：\n",
    "\n",
    "模型能够很好的拟合数据，得到的偏差较小。\n",
    "\n",
    "但是此时模型的方差较大\n",
    "\n",
    "即模型会随着其中的数据点的改变而出现巨大的变化，导致模型的稳定型较低，泛化能力较差。"
   ]
  },
  {
   "cell_type": "code",
   "execution_count": 17,
   "metadata": {},
   "outputs": [],
   "source": [
    "import tensorflow as tf\n",
    "import numpy as np\n",
    "from sklearn.kernel_approximation import RBFSampler\n",
    "from sklearn.preprocessing import StandardScaler\n",
    "from sklearn.datasets import fetch_openml\n",
    "from sklearn.model_selection import train_test_split\n",
    "from keras.models import Sequential\n",
    "from keras.layers import Dense, Flatten\n",
    "import matplotlib.pyplot as plt\n"
   ]
  },
  {
   "cell_type": "code",
   "execution_count": 11,
   "metadata": {},
   "outputs": [
    {
     "name": "stderr",
     "output_type": "stream",
     "text": [
      "d:\\anaconda\\envs\\tensorflow\\lib\\site-packages\\sklearn\\datasets\\_openml.py:1002: FutureWarning: The default value of `parser` will change from `'liac-arff'` to `'auto'` in 1.4. You can set `parser='auto'` to silence this warning. Therefore, an `ImportError` will be raised from 1.4 if the dataset is dense and pandas is not installed. Note that the pandas parser may return different data types. See the Notes Section in fetch_openml's API doc for details.\n",
      "  warn(\n"
     ]
    }
   ],
   "source": [
    "\n",
    "# 加载MNIST数据集\n",
    "mnist = fetch_openml('mnist_784')\n",
    "X = mnist.data.astype('float64')\n",
    "y = mnist.target.astype('int64')\n",
    "X /= 255.0\n",
    "\n",
    "# 划分训练集和测试集\n",
    "X_train, X_test, y_train, y_test = train_test_split(X, y, test_size=0.2, random_state=42)\n",
    "y_train = np.array(y_train, dtype=np.int64)\n",
    "y_test = np.array(y_test, dtype=np.int64)"
   ]
  },
  {
   "cell_type": "code",
   "execution_count": 4,
   "metadata": {},
   "outputs": [],
   "source": [
    "def creat_model(hidden_dim, output_dim):\n",
    "    model = Sequential([\n",
    "        # Flatten(input_shape=[, input_dim]),\n",
    "        Dense(hidden_dim, activation='relu'),\n",
    "        Dense(output_dim, activation='softmax')\n",
    "    ])\n",
    "\n",
    "    return model"
   ]
  },
  {
   "cell_type": "code",
   "execution_count": 12,
   "metadata": {},
   "outputs": [],
   "source": [
    "def test(n_components):\n",
    "    # 初始化RFF特征映射\n",
    "    gamma = 1.0\n",
    "    n_components = 1000\n",
    "    rff = RBFSampler(gamma=gamma, n_components=n_components, random_state=42)\n",
    "    X_train_rff = rff.fit_transform(X_train)\n",
    "    X_test_rff = rff.transform(X_test)\n",
    "\n",
    "    # 标准化RFF特征\n",
    "    scaler = StandardScaler()\n",
    "    X_train_rff = scaler.fit_transform(X_train_rff)\n",
    "    X_test_rff = scaler.transform(X_test_rff)\n",
    "\n",
    "    # 将数据转换为NumPy数组\n",
    "    X_train_rff = np.array(X_train_rff, dtype=np.float32)\n",
    "    X_test_rff = np.array(X_test_rff, dtype=np.float32)\n",
    "    \n",
    "\n",
    "    \n",
    "    input_dim = n_components\n",
    "    hidden_dim = 100\n",
    "    output_dim = 10\n",
    "\n",
    "    model = creat_model(hidden_dim, output_dim)\n",
    "\n",
    "    # 定义损失函数和优化器\n",
    "    loss_fn = tf.keras.losses.SparseCategoricalCrossentropy(from_logits=True)\n",
    "    optimizer = tf.keras.optimizers.Adam(learning_rate=0.001)\n",
    "\n",
    "    # 编译模型\n",
    "    model.compile(optimizer=optimizer, loss=loss_fn , metrics=['accuracy'])\n",
    "\n",
    "    # 训练模型\n",
    "    history = model.fit(X_train_rff, y_train, epochs=10, batch_size=32, verbose=1)\n",
    "\n",
    "    pred = np.argmax(model.predict(X_test_rff), axis=1)\n",
    "    print(\"OK\")\n",
    "    true_value = 0\n",
    "    for i in range(pred.shape[0]):\n",
    "        if pred[i] == y_test[i]:\n",
    "            true_value += 1\n",
    "    accuracy = true_value / pred.shape[0]\n",
    "    \n",
    "    return accuracy\n"
   ]
  },
  {
   "cell_type": "code",
   "execution_count": 19,
   "metadata": {},
   "outputs": [],
   "source": [
    "n = [1000, 5000, 10000, 15000, 20000, 40000, 60000]\n",
    "result = []"
   ]
  },
  {
   "cell_type": "code",
   "execution_count": 20,
   "metadata": {},
   "outputs": [
    {
     "name": "stdout",
     "output_type": "stream",
     "text": [
      "Epoch 1/10\n"
     ]
    },
    {
     "name": "stderr",
     "output_type": "stream",
     "text": [
      "d:\\anaconda\\envs\\tensorflow\\lib\\site-packages\\keras\\src\\backend.py:5714: UserWarning: \"`sparse_categorical_crossentropy` received `from_logits=True`, but the `output` argument was produced by a Softmax activation and thus does not represent logits. Was this intended?\n",
      "  output, from_logits = _get_logits(\n"
     ]
    },
    {
     "name": "stdout",
     "output_type": "stream",
     "text": [
      "1750/1750 [==============================] - 2s 1ms/step - loss: 2.4308 - accuracy: 0.1043\n",
      "Epoch 2/10\n",
      "1750/1750 [==============================] - 2s 1ms/step - loss: 2.2355 - accuracy: 0.1795\n",
      "Epoch 3/10\n",
      "1750/1750 [==============================] - 2s 1ms/step - loss: 2.1606 - accuracy: 0.2197\n",
      "Epoch 4/10\n",
      "1750/1750 [==============================] - 2s 1ms/step - loss: 2.0381 - accuracy: 0.2777\n",
      "Epoch 5/10\n",
      "1750/1750 [==============================] - 2s 1ms/step - loss: 1.8838 - accuracy: 0.3433\n",
      "Epoch 6/10\n",
      "1750/1750 [==============================] - 2s 1ms/step - loss: 1.7358 - accuracy: 0.4000\n",
      "Epoch 7/10\n",
      "1750/1750 [==============================] - 2s 1ms/step - loss: 1.6117 - accuracy: 0.4470\n",
      "Epoch 8/10\n",
      "1750/1750 [==============================] - 2s 1ms/step - loss: 1.5134 - accuracy: 0.4839\n",
      "Epoch 9/10\n",
      "1750/1750 [==============================] - 2s 1ms/step - loss: 1.4276 - accuracy: 0.5135\n",
      "Epoch 10/10\n",
      "1750/1750 [==============================] - 2s 1ms/step - loss: 1.3645 - accuracy: 0.5366\n",
      "438/438 [==============================] - 0s 674us/step\n",
      "OK\n",
      "Epoch 1/10\n"
     ]
    },
    {
     "name": "stderr",
     "output_type": "stream",
     "text": [
      "d:\\anaconda\\envs\\tensorflow\\lib\\site-packages\\keras\\src\\backend.py:5714: UserWarning: \"`sparse_categorical_crossentropy` received `from_logits=True`, but the `output` argument was produced by a Softmax activation and thus does not represent logits. Was this intended?\n",
      "  output, from_logits = _get_logits(\n"
     ]
    },
    {
     "name": "stdout",
     "output_type": "stream",
     "text": [
      "1750/1750 [==============================] - 3s 1ms/step - loss: 2.4284 - accuracy: 0.1045\n",
      "Epoch 2/10\n",
      "1750/1750 [==============================] - 2s 1ms/step - loss: 2.2352 - accuracy: 0.1793\n",
      "Epoch 3/10\n",
      "1750/1750 [==============================] - 2s 1ms/step - loss: 2.1613 - accuracy: 0.2189\n",
      "Epoch 4/10\n",
      "1750/1750 [==============================] - 2s 1ms/step - loss: 2.0373 - accuracy: 0.2779\n",
      "Epoch 5/10\n",
      "1750/1750 [==============================] - 2s 1ms/step - loss: 1.8771 - accuracy: 0.3475\n",
      "Epoch 6/10\n",
      "1750/1750 [==============================] - 2s 1ms/step - loss: 1.7247 - accuracy: 0.4072\n",
      "Epoch 7/10\n",
      "1750/1750 [==============================] - 2s 1ms/step - loss: 1.5968 - accuracy: 0.4525\n",
      "Epoch 8/10\n",
      "1750/1750 [==============================] - 2s 1ms/step - loss: 1.4947 - accuracy: 0.4891\n",
      "Epoch 9/10\n",
      "1750/1750 [==============================] - 2s 1ms/step - loss: 1.4128 - accuracy: 0.5174\n",
      "Epoch 10/10\n",
      "1750/1750 [==============================] - 2s 1ms/step - loss: 1.3401 - accuracy: 0.5395\n",
      "438/438 [==============================] - 0s 660us/step\n",
      "OK\n",
      "Epoch 1/10\n"
     ]
    },
    {
     "name": "stderr",
     "output_type": "stream",
     "text": [
      "d:\\anaconda\\envs\\tensorflow\\lib\\site-packages\\keras\\src\\backend.py:5714: UserWarning: \"`sparse_categorical_crossentropy` received `from_logits=True`, but the `output` argument was produced by a Softmax activation and thus does not represent logits. Was this intended?\n",
      "  output, from_logits = _get_logits(\n"
     ]
    },
    {
     "name": "stdout",
     "output_type": "stream",
     "text": [
      "1750/1750 [==============================] - 2s 1ms/step - loss: 2.4334 - accuracy: 0.1055\n",
      "Epoch 2/10\n",
      "1750/1750 [==============================] - 2s 1ms/step - loss: 2.2351 - accuracy: 0.1771\n",
      "Epoch 3/10\n",
      "1750/1750 [==============================] - 2s 1ms/step - loss: 2.1610 - accuracy: 0.2178\n",
      "Epoch 4/10\n",
      "1750/1750 [==============================] - 2s 1ms/step - loss: 2.0397 - accuracy: 0.2772\n",
      "Epoch 5/10\n",
      "1750/1750 [==============================] - 2s 1ms/step - loss: 1.8844 - accuracy: 0.3394\n",
      "Epoch 6/10\n",
      "1750/1750 [==============================] - 2s 1ms/step - loss: 1.7348 - accuracy: 0.3996\n",
      "Epoch 7/10\n",
      "1750/1750 [==============================] - 2s 1ms/step - loss: 1.6094 - accuracy: 0.4474\n",
      "Epoch 8/10\n",
      "1750/1750 [==============================] - 2s 1ms/step - loss: 1.5060 - accuracy: 0.4837\n",
      "Epoch 9/10\n",
      "1750/1750 [==============================] - 2s 1ms/step - loss: 1.4243 - accuracy: 0.5115\n",
      "Epoch 10/10\n",
      "1750/1750 [==============================] - 2s 1ms/step - loss: 1.3476 - accuracy: 0.5414\n",
      "438/438 [==============================] - 0s 642us/step\n",
      "OK\n",
      "Epoch 1/10\n"
     ]
    },
    {
     "name": "stderr",
     "output_type": "stream",
     "text": [
      "d:\\anaconda\\envs\\tensorflow\\lib\\site-packages\\keras\\src\\backend.py:5714: UserWarning: \"`sparse_categorical_crossentropy` received `from_logits=True`, but the `output` argument was produced by a Softmax activation and thus does not represent logits. Was this intended?\n",
      "  output, from_logits = _get_logits(\n"
     ]
    },
    {
     "name": "stdout",
     "output_type": "stream",
     "text": [
      "1750/1750 [==============================] - 2s 1ms/step - loss: 2.4332 - accuracy: 0.1080\n",
      "Epoch 2/10\n",
      "1750/1750 [==============================] - 2s 1ms/step - loss: 2.2340 - accuracy: 0.1800\n",
      "Epoch 3/10\n",
      "1750/1750 [==============================] - 2s 1ms/step - loss: 2.1569 - accuracy: 0.2203\n",
      "Epoch 4/10\n",
      "1750/1750 [==============================] - 2s 1ms/step - loss: 2.0319 - accuracy: 0.2809\n",
      "Epoch 5/10\n",
      "1750/1750 [==============================] - 2s 1ms/step - loss: 1.8747 - accuracy: 0.3479\n",
      "Epoch 6/10\n",
      "1750/1750 [==============================] - 2s 1ms/step - loss: 1.7228 - accuracy: 0.4052\n",
      "Epoch 7/10\n",
      "1750/1750 [==============================] - 2s 1ms/step - loss: 1.5962 - accuracy: 0.4556\n",
      "Epoch 8/10\n",
      "1750/1750 [==============================] - 2s 1ms/step - loss: 1.4945 - accuracy: 0.4900\n",
      "Epoch 9/10\n",
      "1750/1750 [==============================] - 2s 1ms/step - loss: 1.4099 - accuracy: 0.5181\n",
      "Epoch 10/10\n",
      "1750/1750 [==============================] - 2s 1ms/step - loss: 1.3431 - accuracy: 0.5419\n",
      "438/438 [==============================] - 0s 647us/step\n",
      "OK\n",
      "Epoch 1/10\n"
     ]
    },
    {
     "name": "stderr",
     "output_type": "stream",
     "text": [
      "d:\\anaconda\\envs\\tensorflow\\lib\\site-packages\\keras\\src\\backend.py:5714: UserWarning: \"`sparse_categorical_crossentropy` received `from_logits=True`, but the `output` argument was produced by a Softmax activation and thus does not represent logits. Was this intended?\n",
      "  output, from_logits = _get_logits(\n"
     ]
    },
    {
     "name": "stdout",
     "output_type": "stream",
     "text": [
      "1750/1750 [==============================] - 2s 1ms/step - loss: 2.4259 - accuracy: 0.1067\n",
      "Epoch 2/10\n",
      "1750/1750 [==============================] - 2s 1ms/step - loss: 2.2347 - accuracy: 0.1774\n",
      "Epoch 3/10\n",
      "1750/1750 [==============================] - 2s 1ms/step - loss: 2.1621 - accuracy: 0.2199\n",
      "Epoch 4/10\n",
      "1750/1750 [==============================] - 2s 1ms/step - loss: 2.0391 - accuracy: 0.2775\n",
      "Epoch 5/10\n",
      "1750/1750 [==============================] - 2s 1ms/step - loss: 1.8875 - accuracy: 0.3411\n",
      "Epoch 6/10\n",
      "1750/1750 [==============================] - 2s 1ms/step - loss: 1.7378 - accuracy: 0.3966\n",
      "Epoch 7/10\n",
      "1750/1750 [==============================] - 2s 1ms/step - loss: 1.6118 - accuracy: 0.4463\n",
      "Epoch 8/10\n",
      "1750/1750 [==============================] - 2s 1ms/step - loss: 1.5118 - accuracy: 0.4834\n",
      "Epoch 9/10\n",
      "1750/1750 [==============================] - 2s 1ms/step - loss: 1.4284 - accuracy: 0.5113\n",
      "Epoch 10/10\n",
      "1750/1750 [==============================] - 2s 1ms/step - loss: 1.3559 - accuracy: 0.5378\n",
      "438/438 [==============================] - 0s 636us/step\n",
      "OK\n",
      "Epoch 1/10\n"
     ]
    },
    {
     "name": "stderr",
     "output_type": "stream",
     "text": [
      "d:\\anaconda\\envs\\tensorflow\\lib\\site-packages\\keras\\src\\backend.py:5714: UserWarning: \"`sparse_categorical_crossentropy` received `from_logits=True`, but the `output` argument was produced by a Softmax activation and thus does not represent logits. Was this intended?\n",
      "  output, from_logits = _get_logits(\n"
     ]
    },
    {
     "name": "stdout",
     "output_type": "stream",
     "text": [
      "1750/1750 [==============================] - 2s 1ms/step - loss: 2.4314 - accuracy: 0.1049\n",
      "Epoch 2/10\n",
      "1750/1750 [==============================] - 2s 1ms/step - loss: 2.2318 - accuracy: 0.1812\n",
      "Epoch 3/10\n",
      "1750/1750 [==============================] - 2s 1ms/step - loss: 2.1562 - accuracy: 0.2212\n",
      "Epoch 4/10\n",
      "1750/1750 [==============================] - 2s 1ms/step - loss: 2.0325 - accuracy: 0.2807\n",
      "Epoch 5/10\n",
      "1750/1750 [==============================] - 2s 1ms/step - loss: 1.8739 - accuracy: 0.3464\n",
      "Epoch 6/10\n",
      "1750/1750 [==============================] - 2s 1ms/step - loss: 1.7262 - accuracy: 0.4060\n",
      "Epoch 7/10\n",
      "1750/1750 [==============================] - 2s 1ms/step - loss: 1.6002 - accuracy: 0.4506\n",
      "Epoch 8/10\n",
      "1750/1750 [==============================] - 2s 1ms/step - loss: 1.5004 - accuracy: 0.4845\n",
      "Epoch 9/10\n",
      "1750/1750 [==============================] - 2s 1ms/step - loss: 1.4164 - accuracy: 0.5168\n",
      "Epoch 10/10\n",
      "1750/1750 [==============================] - 2s 1ms/step - loss: 1.3449 - accuracy: 0.5394\n",
      "438/438 [==============================] - 0s 616us/step\n",
      "OK\n",
      "Epoch 1/10\n"
     ]
    },
    {
     "name": "stderr",
     "output_type": "stream",
     "text": [
      "d:\\anaconda\\envs\\tensorflow\\lib\\site-packages\\keras\\src\\backend.py:5714: UserWarning: \"`sparse_categorical_crossentropy` received `from_logits=True`, but the `output` argument was produced by a Softmax activation and thus does not represent logits. Was this intended?\n",
      "  output, from_logits = _get_logits(\n"
     ]
    },
    {
     "name": "stdout",
     "output_type": "stream",
     "text": [
      "1750/1750 [==============================] - 2s 1ms/step - loss: 2.4347 - accuracy: 0.1079\n",
      "Epoch 2/10\n",
      "1750/1750 [==============================] - 2s 1ms/step - loss: 2.2303 - accuracy: 0.1811\n",
      "Epoch 3/10\n",
      "1750/1750 [==============================] - 2s 1ms/step - loss: 2.1552 - accuracy: 0.2227\n",
      "Epoch 4/10\n",
      "1750/1750 [==============================] - 2s 1ms/step - loss: 2.0295 - accuracy: 0.2836\n",
      "Epoch 5/10\n",
      "1750/1750 [==============================] - 2s 1ms/step - loss: 1.8736 - accuracy: 0.3461\n",
      "Epoch 6/10\n",
      "1750/1750 [==============================] - 2s 1ms/step - loss: 1.7203 - accuracy: 0.4085\n",
      "Epoch 7/10\n",
      "1750/1750 [==============================] - 2s 1ms/step - loss: 1.5961 - accuracy: 0.4557\n",
      "Epoch 8/10\n",
      "1750/1750 [==============================] - 2s 1ms/step - loss: 1.4931 - accuracy: 0.4895\n",
      "Epoch 9/10\n",
      "1750/1750 [==============================] - 2s 1ms/step - loss: 1.4104 - accuracy: 0.5192\n",
      "Epoch 10/10\n",
      "1750/1750 [==============================] - 2s 1ms/step - loss: 1.3397 - accuracy: 0.5431\n",
      "438/438 [==============================] - 0s 613us/step\n",
      "OK\n"
     ]
    }
   ],
   "source": [
    "for i in n:\n",
    "    accuracy = test(n)\n",
    "    result.append(accuracy)"
   ]
  },
  {
   "cell_type": "code",
   "execution_count": 21,
   "metadata": {},
   "outputs": [
    {
     "data": {
      "image/png": "[encoded data removed]",
      "text/plain": [
       "<Figure size 640x480 with 1 Axes>"
      ]
     },
     "metadata": {},
     "output_type": "display_data"
    }
   ],
   "source": [
    "plt.plot(n, result)\n",
    "plt.show()"
   ]
  },
  {
   "cell_type": "code",
   "execution_count": null,
   "metadata": {},
   "outputs": [],
   "source": []
  }
 ],
 "metadata": {
  "kernelspec": {
   "display_name": "tensorflow",
   "language": "python",
   "name": "python3"
  },
  "language_info": {
   "codemirror_mode": {
    "name": "ipython",
    "version": 3
   },
   "file_extension": ".py",
   "mimetype": "text/x-python",
   "name": "python",
   "nbconvert_exporter": "python",
   "pygments_lexer": "ipython3",
   "version": "3.9.0"
  }
 },
 "nbformat": 4,
 "nbformat_minor": 2
}

{
 "cells": [
  {
   "cell_type": "code",
   "execution_count": 9,
   "metadata": {},
   "outputs": [],
   "source": [
    "import numpy as np\n",
    "import matplotlib.pyplot as plt\n",
    "from numpy.linalg import det, inv\n",
    "from sklearn.datasets import load_iris\n",
    "from scipy import stats\n",
    "from sklearn.mixture import GaussianMixture"
   ]
  },
  {
   "cell_type": "code",
   "execution_count": 55,
   "metadata": {},
   "outputs": [],
   "source": [
    "class myGMM():\n",
    "    ''' 复现混合高斯模型代码\n",
    "\n",
    "    参数\n",
    "    --------------------\n",
    "    n_clusters : int, default=3\n",
    "        聚类个数以及选择中心点的个数\n",
    "\n",
    "    max_iter : int, default=100\n",
    "        一次聚类的迭代次数\n",
    "    \n",
    "    tol : float, default=1e-4\n",
    "        收敛条件\n",
    "\n",
    "    init : str, default='random_from_data'\n",
    "        初始点的选择\n",
    "    '''\n",
    "    mu : np.ndarray\n",
    "    sigma : np.ndarray\n",
    "    pi : np.ndarray\n",
    "    \n",
    "\n",
    "    def __init__(self, n_clusters=3, max_iter=100, tol=1e-4, init='random_from_data') -> None:\n",
    "        self.n_clusters = n_clusters\n",
    "        self.max_iter = max_iter\n",
    "        self.tol = tol\n",
    "        self.init = init\n",
    "        self.norms = [None for i in range(n_clusters)]\n",
    "        self.labels_ = []\n",
    "\n",
    "\n",
    "    def _density(self, x, mu, sigma):\n",
    "        ''' 多元正态分布的密度函数\n",
    "\n",
    "        参数\n",
    "        --------------------\n",
    "        x : ndarray of shape (n_features, )\n",
    "            数据点\n",
    "\n",
    "        mu : ndarray of shape (n_features, )\n",
    "            均值向量\n",
    "\n",
    "        sigma : ndarray of shape (n_features, n_features)\n",
    "            协方差矩阵\n",
    "\n",
    "        返回 \n",
    "        --------------------\n",
    "        density : float\n",
    "            密度值\n",
    "        '''\n",
    "        norm = stats.multivariate_normal(mu, sigma)\n",
    "        return norm.pdf(x)\n",
    "\n",
    "\n",
    "    def fit(self, X):\n",
    "        '''计算聚类结果\n",
    "        \n",
    "        参数\n",
    "        --------------------\n",
    "        X : ndarray of shape (n_samples, n_features)\n",
    "            数据点\n",
    "\n",
    "        返回\n",
    "        --------------------\n",
    "        self : object\n",
    "            Fitted estimator.\n",
    "        '''\n",
    "\n",
    "        n_samples, n_features = X.shape\n",
    "\n",
    "        # 初始化均值和协方差\n",
    "        if self.init == 'random_from_data':\n",
    "            idx = np.random.randint(0, n_samples-1, self.n_clusters)\n",
    "            self.mu = X[idx, :]\n",
    "        else:\n",
    "            self.mu = np.random.randn(self.n_clusters, n_features)\n",
    "        self.sigma = np.empty((self.n_clusters, n_features, n_features))\n",
    "        for i in range(self.n_clusters):                  # 随机生成协方差矩阵，必须是半正定矩阵\n",
    "            self.sigma[i] = np.eye(n_features) * np.random.rand(1) * self.n_clusters\n",
    "        self.pi = np.random.randn(self.n_clusters)\n",
    "        self.pi /= np.sum(self.pi)\n",
    "\n",
    "        try: \n",
    "            for iter in range(self.max_iter):\n",
    "                new_pi = np.empty((n_samples, self.n_clusters))\n",
    "                # 计算个体的类别概率期望\n",
    "                for i in range(n_samples):\n",
    "                    for k in range(self.n_clusters):\n",
    "                        new_pi[i][k] = self.pi[k] * self._density(X[i], self.mu[k], self.sigma[k])\n",
    "                new_pi = (new_pi.T / np.sum(new_pi, axis=1)).T\n",
    "                \n",
    "                if np.sum((self.pi - new_pi) ** 2) < self.tol ** 2:\n",
    "                    break\n",
    "\n",
    "\n",
    "                # 更新参数\n",
    "                flag = 0\n",
    "                for k in range(self.n_clusters):\n",
    "                    fenmu = np.sum(new_pi[:, k])\n",
    "                    fenzi = np.zeros((1, n_features))\n",
    "                    for i in range(n_samples):\n",
    "                        fenzi += new_pi[i][k] * X[i]\n",
    "\n",
    "                    new_mu = fenzi / fenmu\n",
    "                    # if np.sum((new_mu - self.mu[k]) ** 2, axis=1) < self.tol ** 2:\n",
    "                    #     flag = 1\n",
    "                    #     break\n",
    "                    self.mu[k] = fenzi / fenmu\n",
    "\n",
    "\n",
    "                for k in range(self.n_clusters):\n",
    "                    fenmu = np.sum(new_pi[:, k])\n",
    "                    fenzi = np.zeros((n_features, n_features))\n",
    "                    for i in range(n_samples):\n",
    "                        tmp = np.reshape(X[i] - self.mu[k], (-1, 1))\n",
    "                        fenzi += new_pi[i][k] * tmp @ tmp.T\n",
    "                    \n",
    "                    new_sigma = fenzi / fenmu\n",
    "                    # if np.sum((new_sigma - self.sigma[k]) ** 2) < self.tol ** 2:\n",
    "                    #     flag = 1\n",
    "                    #     break\n",
    "                    self.sigma[k] = fenzi / fenmu\n",
    "                \n",
    "                self.pi[k] =  np.sum(new_pi[:, k]) / n_samples\n",
    "\n",
    "                for i in range(self.n_clusters):\n",
    "                    self.norms[i] = stats.multivariate_normal(self.mu[i], self.sigma[i])\n",
    "            \n",
    "        except:\n",
    "            pass\n",
    "        \n",
    "        \n",
    "\n",
    "        return self\n",
    "    \n",
    "\n",
    "    def fit_predict(self, X):\n",
    "        '''预测数据点的标签值\n",
    "        \n",
    "        参数\n",
    "        --------------------\n",
    "        X : ndarray of shape (n_samples, n_features)\n",
    "            数据点\n",
    "\n",
    "        返回\n",
    "        --------------------\n",
    "        labels_ : ndarray of shape (n_samples,)\n",
    "            预测标签\n",
    "        '''\n",
    "\n",
    "        n_samples, n_features = X.shape\n",
    "\n",
    "        for i in range(n_samples):\n",
    "            probs = []\n",
    "            for k in range(self.n_clusters):\n",
    "                try:\n",
    "                    tmp = self._density(X[i], self.mu[k], self.sigma[k])\n",
    "                    probs.append(tmp)\n",
    "                except:\n",
    "                    probs.append(1)\n",
    "\n",
    "            probs = np.array(probs)\n",
    "\n",
    "            self.labels_.append(np.argmax(probs))\n",
    "        \n",
    "        return self.labels_\n",
    "            "
   ]
  },
  {
   "cell_type": "code",
   "execution_count": 3,
   "metadata": {},
   "outputs": [],
   "source": [
    "iris_dataset = load_iris()\n",
    "data = iris_dataset[\"data\"][:, :2]\n",
    "K = 3"
   ]
  },
  {
   "cell_type": "code",
   "execution_count": 59,
   "metadata": {},
   "outputs": [],
   "source": [
    "model = myGMM(max_iter=1000)\n",
    "\n",
    "model.fit(data)\n",
    "\n",
    "result = model.fit_predict(data)\n",
    "result = np.array(result)"
   ]
  },
  {
   "cell_type": "code",
   "execution_count": 60,
   "metadata": {},
   "outputs": [
    {
     "name": "stdout",
     "output_type": "stream",
     "text": [
      "[2 2 2 2 0 0 0 2 2 2 2 0 2 0 2 0 0 2 2 0 2 0 0 2 0 2 2 2 2 2 2 2 0 0 2 2 2\n",
      " 0 0 2 2 1 0 2 0 2 0 0 2 2 1 1 1 1 1 1 1 1 1 1 1 1 1 1 1 1 1 1 1 1 1 1 1 1\n",
      " 1 1 1 1 1 1 1 1 1 1 1 1 1 1 1 1 1 1 1 1 1 1 1 1 1 1 1 1 1 1 1 1 1 1 1 1 1\n",
      " 1 1 1 1 1 1 1 1 1 1 1 1 1 1 1 1 1 1 1 1 1 1 1 1 1 1 1 1 1 1 1 1 1 1 1 1 1\n",
      " 1 1]\n"
     ]
    }
   ],
   "source": [
    "print(result)"
   ]
  },
  {
   "cell_type": "code",
   "execution_count": 61,
   "metadata": {},
   "outputs": [
    {
     "data": {
      "text/plain": [
       "[]"
      ]
     },
     "execution_count": 61,
     "metadata": {},
     "output_type": "execute_result"
    },
    {
     "data": {
      "image/png": "[encoded data removed]",
      "text/plain": [
       "<Figure size 432x288 with 1 Axes>"
      ]
     },
     "metadata": {
      "needs_background": "light"
     },
     "output_type": "display_data"
    }
   ],
   "source": [
    "color = [\"red\", \"green\", \"blue\"]\n",
    "for i in range(K):\n",
    "    plt.scatter(data[result == i][:, 0], data[result == i][:, 1], color=color[i])\n",
    "plt.plot()"
   ]
  },
  {
   "cell_type": "code",
   "execution_count": 62,
   "metadata": {},
   "outputs": [
    {
     "data": {
      "text/plain": [
       "[]"
      ]
     },
     "execution_count": 62,
     "metadata": {},
     "output_type": "execute_result"
    },
    {
     "data": {
      "image/png": "[encoded data removed]",
      "text/plain": [
       "<Figure size 432x288 with 1 Axes>"
      ]
     },
     "metadata": {
      "needs_background": "light"
     },
     "output_type": "display_data"
    }
   ],
   "source": [
    "model_true = GaussianMixture(n_components=3, init_params='random_from_data', max_iter=1000)\n",
    "result_true = model_true.fit_predict(data)\n",
    "result_true = np.array(result_true)\n",
    "color = [\"red\", \"green\", \"blue\"]\n",
    "for i in range(K):\n",
    "    plt.scatter(data[result_true == i][:, 0], data[result_true == i][:, 1], color=color[i])\n",
    "plt.plot()"
   ]
  },
  {
   "cell_type": "code",
   "execution_count": null,
   "metadata": {},
   "outputs": [],
   "source": []
  }
 ],
 "metadata": {
  "kernelspec": {
   "display_name": "base",
   "language": "python",
   "name": "python3"
  },
  "language_info": {
   "codemirror_mode": {
    "name": "ipython",
    "version": 3
   },
   "file_extension": ".py",
   "mimetype": "text/x-python",
   "name": "python",
   "nbconvert_exporter": "python",
   "pygments_lexer": "ipython3",
   "version": "3.9.12"
  }
 },
 "nbformat": 4,
 "nbformat_minor": 2
}
